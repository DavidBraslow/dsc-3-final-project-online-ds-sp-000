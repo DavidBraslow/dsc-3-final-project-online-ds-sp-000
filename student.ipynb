{
 "cells": [
  {
   "cell_type": "markdown",
   "metadata": {},
   "source": [
    "# Module 3 Final Project Submission\n",
    "\n",
    "Please fill out:\n",
    "* Student name: David Braslow\n",
    "* Student pace: self paced \n",
    "* Scheduled project review date/time: TBD\n",
    "* Instructor name: Eli\n",
    "* Blog post URL: https://davidbraslow.github.io/working_with_genetic_variant_classification_data\n",
    "* Data source: https://www.kaggle.com/kevinarvai/clinvar-conflicting/version/3\n"
   ]
  },
  {
   "cell_type": "markdown",
   "metadata": {},
   "source": [
    "# Overview\n",
    "\n",
    "This project uses a Kaggle dataset to predict gene classifications. In this dataset, we are given multiple genetic variants and various properties of each. Expert raters at different laboratories rated these variants based on their perceived clinical classifications, with ratings ranging from Benign to Pathogenic. The target variable is whether the raters have clinical classifications that are concordant, meaning that they are in the same clinical category.\n",
    "\n",
    "I approach this with the OMESN framework. Data cleaning turns out to be the most substantial part of this project. In the end, I test a few different modeling approaches and present the results of the highest scoring model."
   ]
  },
  {
   "cell_type": "markdown",
   "metadata": {},
   "source": [
    "## Initialization"
   ]
  },
  {
   "cell_type": "code",
   "execution_count": 1,
   "metadata": {},
   "outputs": [],
   "source": [
    "import pandas as pd\n",
    "import numpy as np\n",
    "import matplotlib.pyplot as plt\n",
    "import seaborn as sns\n",
    "\n",
    "%matplotlib inline"
   ]
  },
  {
   "cell_type": "markdown",
   "metadata": {},
   "source": [
    "# Obtaining the Data\n",
    "\n",
    "For this project, I downloaded the dataset from the Kaggle page as a csv."
   ]
  },
  {
   "cell_type": "code",
   "execution_count": 2,
   "metadata": {},
   "outputs": [
    {
     "name": "stderr",
     "output_type": "stream",
     "text": [
      "C:\\Users\\david\\Anaconda3\\lib\\site-packages\\IPython\\core\\interactiveshell.py:3018: DtypeWarning: Columns (0,38,40) have mixed types. Specify dtype option on import or set low_memory=False.\n",
      "  interactivity=interactivity, compiler=compiler, result=result)\n"
     ]
    },
    {
     "data": {
      "text/html": [
       "<div>\n",
       "<style scoped>\n",
       "    .dataframe tbody tr th:only-of-type {\n",
       "        vertical-align: middle;\n",
       "    }\n",
       "\n",
       "    .dataframe tbody tr th {\n",
       "        vertical-align: top;\n",
       "    }\n",
       "\n",
       "    .dataframe thead th {\n",
       "        text-align: right;\n",
       "    }\n",
       "</style>\n",
       "<table border=\"1\" class=\"dataframe\">\n",
       "  <thead>\n",
       "    <tr style=\"text-align: right;\">\n",
       "      <th></th>\n",
       "      <th>CHROM</th>\n",
       "      <th>POS</th>\n",
       "      <th>REF</th>\n",
       "      <th>ALT</th>\n",
       "      <th>AF_ESP</th>\n",
       "      <th>AF_EXAC</th>\n",
       "      <th>AF_TGP</th>\n",
       "      <th>CLNDISDB</th>\n",
       "      <th>CLNDISDBINCL</th>\n",
       "      <th>CLNDN</th>\n",
       "      <th>...</th>\n",
       "      <th>SIFT</th>\n",
       "      <th>PolyPhen</th>\n",
       "      <th>MOTIF_NAME</th>\n",
       "      <th>MOTIF_POS</th>\n",
       "      <th>HIGH_INF_POS</th>\n",
       "      <th>MOTIF_SCORE_CHANGE</th>\n",
       "      <th>LoFtool</th>\n",
       "      <th>CADD_PHRED</th>\n",
       "      <th>CADD_RAW</th>\n",
       "      <th>BLOSUM62</th>\n",
       "    </tr>\n",
       "  </thead>\n",
       "  <tbody>\n",
       "    <tr>\n",
       "      <th>0</th>\n",
       "      <td>1</td>\n",
       "      <td>955563</td>\n",
       "      <td>G</td>\n",
       "      <td>C</td>\n",
       "      <td>0.0000</td>\n",
       "      <td>0.00000</td>\n",
       "      <td>0.0000</td>\n",
       "      <td>MedGen:C3808739,OMIM:615120|MedGen:CN169374</td>\n",
       "      <td>NaN</td>\n",
       "      <td>Myasthenic_syndrome,_congenital,_8|not_specified</td>\n",
       "      <td>...</td>\n",
       "      <td>NaN</td>\n",
       "      <td>NaN</td>\n",
       "      <td>NaN</td>\n",
       "      <td>NaN</td>\n",
       "      <td>NaN</td>\n",
       "      <td>NaN</td>\n",
       "      <td>0.421</td>\n",
       "      <td>11.390</td>\n",
       "      <td>1.133255</td>\n",
       "      <td>-2.0</td>\n",
       "    </tr>\n",
       "    <tr>\n",
       "      <th>1</th>\n",
       "      <td>1</td>\n",
       "      <td>955597</td>\n",
       "      <td>G</td>\n",
       "      <td>T</td>\n",
       "      <td>0.0000</td>\n",
       "      <td>0.42418</td>\n",
       "      <td>0.2826</td>\n",
       "      <td>MedGen:CN169374</td>\n",
       "      <td>NaN</td>\n",
       "      <td>not_specified</td>\n",
       "      <td>...</td>\n",
       "      <td>NaN</td>\n",
       "      <td>NaN</td>\n",
       "      <td>NaN</td>\n",
       "      <td>NaN</td>\n",
       "      <td>NaN</td>\n",
       "      <td>NaN</td>\n",
       "      <td>0.421</td>\n",
       "      <td>8.150</td>\n",
       "      <td>0.599088</td>\n",
       "      <td>NaN</td>\n",
       "    </tr>\n",
       "    <tr>\n",
       "      <th>2</th>\n",
       "      <td>1</td>\n",
       "      <td>955619</td>\n",
       "      <td>G</td>\n",
       "      <td>C</td>\n",
       "      <td>0.0000</td>\n",
       "      <td>0.03475</td>\n",
       "      <td>0.0088</td>\n",
       "      <td>MedGen:C3808739,OMIM:615120|MedGen:CN169374</td>\n",
       "      <td>NaN</td>\n",
       "      <td>Myasthenic_syndrome,_congenital,_8|not_specified</td>\n",
       "      <td>...</td>\n",
       "      <td>NaN</td>\n",
       "      <td>NaN</td>\n",
       "      <td>NaN</td>\n",
       "      <td>NaN</td>\n",
       "      <td>NaN</td>\n",
       "      <td>NaN</td>\n",
       "      <td>0.421</td>\n",
       "      <td>3.288</td>\n",
       "      <td>0.069819</td>\n",
       "      <td>1.0</td>\n",
       "    </tr>\n",
       "    <tr>\n",
       "      <th>3</th>\n",
       "      <td>1</td>\n",
       "      <td>957640</td>\n",
       "      <td>C</td>\n",
       "      <td>T</td>\n",
       "      <td>0.0318</td>\n",
       "      <td>0.02016</td>\n",
       "      <td>0.0328</td>\n",
       "      <td>MedGen:C3808739,OMIM:615120|MedGen:CN169374</td>\n",
       "      <td>NaN</td>\n",
       "      <td>Myasthenic_syndrome,_congenital,_8|not_specified</td>\n",
       "      <td>...</td>\n",
       "      <td>NaN</td>\n",
       "      <td>NaN</td>\n",
       "      <td>NaN</td>\n",
       "      <td>NaN</td>\n",
       "      <td>NaN</td>\n",
       "      <td>NaN</td>\n",
       "      <td>0.421</td>\n",
       "      <td>12.560</td>\n",
       "      <td>1.356499</td>\n",
       "      <td>NaN</td>\n",
       "    </tr>\n",
       "    <tr>\n",
       "      <th>4</th>\n",
       "      <td>1</td>\n",
       "      <td>976059</td>\n",
       "      <td>C</td>\n",
       "      <td>T</td>\n",
       "      <td>0.0000</td>\n",
       "      <td>0.00022</td>\n",
       "      <td>0.0010</td>\n",
       "      <td>MedGen:CN169374</td>\n",
       "      <td>NaN</td>\n",
       "      <td>not_specified</td>\n",
       "      <td>...</td>\n",
       "      <td>NaN</td>\n",
       "      <td>NaN</td>\n",
       "      <td>NaN</td>\n",
       "      <td>NaN</td>\n",
       "      <td>NaN</td>\n",
       "      <td>NaN</td>\n",
       "      <td>0.421</td>\n",
       "      <td>17.740</td>\n",
       "      <td>2.234711</td>\n",
       "      <td>NaN</td>\n",
       "    </tr>\n",
       "  </tbody>\n",
       "</table>\n",
       "<p>5 rows × 46 columns</p>\n",
       "</div>"
      ],
      "text/plain": [
       "  CHROM     POS REF ALT  AF_ESP  AF_EXAC  AF_TGP  \\\n",
       "0     1  955563   G   C  0.0000  0.00000  0.0000   \n",
       "1     1  955597   G   T  0.0000  0.42418  0.2826   \n",
       "2     1  955619   G   C  0.0000  0.03475  0.0088   \n",
       "3     1  957640   C   T  0.0318  0.02016  0.0328   \n",
       "4     1  976059   C   T  0.0000  0.00022  0.0010   \n",
       "\n",
       "                                      CLNDISDB CLNDISDBINCL  \\\n",
       "0  MedGen:C3808739,OMIM:615120|MedGen:CN169374          NaN   \n",
       "1                              MedGen:CN169374          NaN   \n",
       "2  MedGen:C3808739,OMIM:615120|MedGen:CN169374          NaN   \n",
       "3  MedGen:C3808739,OMIM:615120|MedGen:CN169374          NaN   \n",
       "4                              MedGen:CN169374          NaN   \n",
       "\n",
       "                                              CLNDN   ...    SIFT PolyPhen  \\\n",
       "0  Myasthenic_syndrome,_congenital,_8|not_specified   ...     NaN      NaN   \n",
       "1                                     not_specified   ...     NaN      NaN   \n",
       "2  Myasthenic_syndrome,_congenital,_8|not_specified   ...     NaN      NaN   \n",
       "3  Myasthenic_syndrome,_congenital,_8|not_specified   ...     NaN      NaN   \n",
       "4                                     not_specified   ...     NaN      NaN   \n",
       "\n",
       "  MOTIF_NAME MOTIF_POS HIGH_INF_POS MOTIF_SCORE_CHANGE  LoFtool  CADD_PHRED  \\\n",
       "0        NaN       NaN          NaN                NaN    0.421      11.390   \n",
       "1        NaN       NaN          NaN                NaN    0.421       8.150   \n",
       "2        NaN       NaN          NaN                NaN    0.421       3.288   \n",
       "3        NaN       NaN          NaN                NaN    0.421      12.560   \n",
       "4        NaN       NaN          NaN                NaN    0.421      17.740   \n",
       "\n",
       "   CADD_RAW BLOSUM62  \n",
       "0  1.133255     -2.0  \n",
       "1  0.599088      NaN  \n",
       "2  0.069819      1.0  \n",
       "3  1.356499      NaN  \n",
       "4  2.234711      NaN  \n",
       "\n",
       "[5 rows x 46 columns]"
      ]
     },
     "execution_count": 2,
     "metadata": {},
     "output_type": "execute_result"
    }
   ],
   "source": [
    "df = pd.read_csv('clinvar_conflicting.csv')\n",
    "df.head()"
   ]
  },
  {
   "cell_type": "code",
   "execution_count": 3,
   "metadata": {},
   "outputs": [
    {
     "name": "stdout",
     "output_type": "stream",
     "text": [
      "<class 'pandas.core.frame.DataFrame'>\n",
      "RangeIndex: 65188 entries, 0 to 65187\n",
      "Data columns (total 46 columns):\n",
      "CHROM                 65188 non-null object\n",
      "POS                   65188 non-null int64\n",
      "REF                   65188 non-null object\n",
      "ALT                   65188 non-null object\n",
      "AF_ESP                65188 non-null float64\n",
      "AF_EXAC               65188 non-null float64\n",
      "AF_TGP                65188 non-null float64\n",
      "CLNDISDB              65188 non-null object\n",
      "CLNDISDBINCL          76 non-null object\n",
      "CLNDN                 65188 non-null object\n",
      "CLNDNINCL             76 non-null object\n",
      "CLNHGVS               65188 non-null object\n",
      "CLNSIGINCL            76 non-null object\n",
      "CLNVC                 65188 non-null object\n",
      "CLNVI                 27659 non-null object\n",
      "MC                    58219 non-null object\n",
      "ORIGIN                59065 non-null float64\n",
      "SSR                   104 non-null float64\n",
      "CLASS                 65188 non-null int64\n",
      "Allele                65188 non-null object\n",
      "Consequence           65188 non-null object\n",
      "IMPACT                65188 non-null object\n",
      "SYMBOL                65172 non-null object\n",
      "Feature_type          65174 non-null object\n",
      "Feature               65174 non-null object\n",
      "BIOTYPE               65172 non-null object\n",
      "EXON                  56295 non-null object\n",
      "INTRON                8803 non-null object\n",
      "cDNA_position         56304 non-null object\n",
      "CDS_position          55233 non-null object\n",
      "Protein_position      55233 non-null object\n",
      "Amino_acids           55184 non-null object\n",
      "Codons                55184 non-null object\n",
      "DISTANCE              108 non-null float64\n",
      "STRAND                65174 non-null float64\n",
      "BAM_EDIT              31969 non-null object\n",
      "SIFT                  24836 non-null object\n",
      "PolyPhen              24796 non-null object\n",
      "MOTIF_NAME            2 non-null object\n",
      "MOTIF_POS             2 non-null float64\n",
      "HIGH_INF_POS          2 non-null object\n",
      "MOTIF_SCORE_CHANGE    2 non-null float64\n",
      "LoFtool               60975 non-null float64\n",
      "CADD_PHRED            64096 non-null float64\n",
      "CADD_RAW              64096 non-null float64\n",
      "BLOSUM62              25593 non-null float64\n",
      "dtypes: float64(13), int64(2), object(31)\n",
      "memory usage: 22.9+ MB\n"
     ]
    }
   ],
   "source": [
    "df.info()"
   ]
  },
  {
   "cell_type": "markdown",
   "metadata": {},
   "source": [
    "# Scrubbing the Data\n",
    "\n",
    "There seem to be a number of feilds with missing data and incorrect types. In this section, I scrub the dataset squeaky-clean."
   ]
  },
  {
   "cell_type": "markdown",
   "metadata": {},
   "source": [
    "## Very Low Incidence Features\n",
    "\n",
    "Here I drop features with under 600 entries (1% of dataset)."
   ]
  },
  {
   "cell_type": "code",
   "execution_count": 4,
   "metadata": {},
   "outputs": [],
   "source": [
    "df = df.drop(['CLNDISDBINCL', 'CLNDNINCL', 'CLNSIGINCL', 'SSR', 'DISTANCE', 'MOTIF_NAME', 'MOTIF_POS', 'HIGH_INF_POS', 'MOTIF_SCORE_CHANGE'], axis = 1)"
   ]
  },
  {
   "cell_type": "markdown",
   "metadata": {},
   "source": [
    "## Low Incidence Features\n",
    "\n",
    "Here I dichotomize features that are present for less than half the dataset, 1 indicating that data are present, 0 otherwise."
   ]
  },
  {
   "cell_type": "code",
   "execution_count": 5,
   "metadata": {},
   "outputs": [
    {
     "name": "stdout",
     "output_type": "stream",
     "text": [
      "0    37529\n",
      "1    27659\n",
      "Name: CLNVI, dtype: int64\n",
      "0    56385\n",
      "1     8803\n",
      "Name: INTRON, dtype: int64\n",
      "0    33219\n",
      "1    31969\n",
      "Name: BAM_EDIT, dtype: int64\n",
      "0    40352\n",
      "1    24836\n",
      "Name: SIFT, dtype: int64\n",
      "0    40392\n",
      "1    24796\n",
      "Name: PolyPhen, dtype: int64\n",
      "0    39595\n",
      "1    25593\n",
      "Name: BLOSUM62, dtype: int64\n"
     ]
    }
   ],
   "source": [
    "for var in ['CLNVI', 'INTRON', 'BAM_EDIT', 'SIFT', 'PolyPhen', 'BLOSUM62']:\n",
    "    df[var] = df[var].apply(lambda x: 1 if x == x else 0).astype('category')\n",
    "    print(df[var].value_counts())"
   ]
  },
  {
   "cell_type": "markdown",
   "metadata": {},
   "source": [
    "## Target: CLASS\n",
    "\n",
    "The CLASS vartible is the target variable, which indicates whether there were conflicting submissions."
   ]
  },
  {
   "cell_type": "code",
   "execution_count": 6,
   "metadata": {},
   "outputs": [
    {
     "data": {
      "text/plain": [
       "0    48754\n",
       "1    16434\n",
       "Name: target, dtype: int64"
      ]
     },
     "execution_count": 6,
     "metadata": {},
     "output_type": "execute_result"
    }
   ],
   "source": [
    "df = df.rename({'CLASS': 'target'}, axis = 1)\n",
    "df['target'] = df['target'].astype('category')\n",
    "df['target'].value_counts()"
   ]
  },
  {
   "cell_type": "markdown",
   "metadata": {},
   "source": [
    "## CHROM\n",
    "\n",
    "This variable captures the chromosome on which the variant is located. This should be a categorical variable. Strangely, there are two \"16\"s in this list, which should be combined. I do this by converting it to a strip and striping the spaces before making it into a category."
   ]
  },
  {
   "cell_type": "code",
   "execution_count": 7,
   "metadata": {},
   "outputs": [
    {
     "data": {
      "text/plain": [
       "2     8645\n",
       "17    5394\n",
       "11    4846\n",
       "1     4454\n",
       "19    3911\n",
       "5     3643\n",
       "7     2867\n",
       "16    2771\n",
       "12    2750\n",
       "9     2744\n",
       "13    2646\n",
       "3     2529\n",
       "10    2341\n",
       "6     2159\n",
       "14    1974\n",
       "X     1926\n",
       "8     1852\n",
       "15    1725\n",
       "4     1206\n",
       "16    1156\n",
       "22    1135\n",
       "18     896\n",
       "21     843\n",
       "20     759\n",
       "MT      16\n",
       "Name: CHROM, dtype: int64"
      ]
     },
     "execution_count": 7,
     "metadata": {},
     "output_type": "execute_result"
    }
   ],
   "source": [
    "df['CHROM'].value_counts()"
   ]
  },
  {
   "cell_type": "code",
   "execution_count": 8,
   "metadata": {},
   "outputs": [],
   "source": [
    "df['CHROM'] = df['CHROM'].astype('str').apply(lambda x: x.strip())\n",
    "df['CHROM'] = df['CHROM'].astype('category')"
   ]
  },
  {
   "cell_type": "markdown",
   "metadata": {},
   "source": [
    "## POS\n",
    "\n",
    "This variable captures position of the gene on the chromosome. Will need to treat this with care in analysis, since it depends on CHROM."
   ]
  },
  {
   "cell_type": "code",
   "execution_count": 9,
   "metadata": {},
   "outputs": [
    {
     "data": {
      "text/plain": [
       "count    6.518800e+04\n",
       "mean     7.757594e+07\n",
       "std      5.974051e+07\n",
       "min      9.610000e+02\n",
       "25%      3.254179e+07\n",
       "50%      5.797021e+07\n",
       "75%      1.127454e+08\n",
       "max      2.476080e+08\n",
       "Name: POS, dtype: float64"
      ]
     },
     "execution_count": 9,
     "metadata": {},
     "output_type": "execute_result"
    }
   ],
   "source": [
    "df['POS'].describe()"
   ]
  },
  {
   "cell_type": "markdown",
   "metadata": {},
   "source": [
    "## REF, ALT, Allele\n",
    "\n",
    "These variables are for capture variant alleles - should be categorical."
   ]
  },
  {
   "cell_type": "code",
   "execution_count": 10,
   "metadata": {},
   "outputs": [
    {
     "name": "stdout",
     "output_type": "stream",
     "text": [
      "C     21798\n",
      "G     21361\n",
      "A      9845\n",
      "T      9421\n",
      "CT      126\n",
      "GC      113\n",
      "TG      105\n",
      "AG      104\n",
      "AC      103\n",
      "GA       91\n",
      "Name: REF, dtype: int64\n",
      "T     20409\n",
      "A     20205\n",
      "G     11782\n",
      "C     11429\n",
      "TA      118\n",
      "CT       93\n",
      "CA       77\n",
      "AT       75\n",
      "GA       67\n",
      "GT       64\n",
      "Name: ALT, dtype: int64\n",
      "T     19991\n",
      "A     19800\n",
      "G     11397\n",
      "C     10761\n",
      "-      2510\n",
      "AA       46\n",
      "TT       38\n",
      "AT       20\n",
      "CA       19\n",
      "CT       17\n",
      "Name: Allele, dtype: int64\n"
     ]
    }
   ],
   "source": [
    "for var in ['REF', 'ALT', 'Allele']:\n",
    "    print(df[var].value_counts()[0:10])"
   ]
  },
  {
   "cell_type": "markdown",
   "metadata": {},
   "source": [
    "There are a lot of low-frequency categories - I will lump them together into an \"other\" category."
   ]
  },
  {
   "cell_type": "code",
   "execution_count": 11,
   "metadata": {},
   "outputs": [],
   "source": [
    "for var in ['REF', 'ALT', 'Allele']:\n",
    "    df[var] = df[var].apply(lambda x: 'O' if x not in ['A', 'C', 'G', 'T'] else x).astype('category')"
   ]
  },
  {
   "cell_type": "markdown",
   "metadata": {},
   "source": [
    "## AF_ESP, AF_EXAC, and AF_TGP\n",
    "\n",
    "These variables capture the allele frequency as found in other datasets. They are almost all zero, so I dichotomize them into zero vs non-zero."
   ]
  },
  {
   "cell_type": "code",
   "execution_count": 12,
   "metadata": {},
   "outputs": [
    {
     "data": {
      "text/html": [
       "<div>\n",
       "<style scoped>\n",
       "    .dataframe tbody tr th:only-of-type {\n",
       "        vertical-align: middle;\n",
       "    }\n",
       "\n",
       "    .dataframe tbody tr th {\n",
       "        vertical-align: top;\n",
       "    }\n",
       "\n",
       "    .dataframe thead th {\n",
       "        text-align: right;\n",
       "    }\n",
       "</style>\n",
       "<table border=\"1\" class=\"dataframe\">\n",
       "  <thead>\n",
       "    <tr style=\"text-align: right;\">\n",
       "      <th></th>\n",
       "      <th>AF_ESP</th>\n",
       "      <th>AF_EXAC</th>\n",
       "      <th>AF_TGP</th>\n",
       "    </tr>\n",
       "  </thead>\n",
       "  <tbody>\n",
       "    <tr>\n",
       "      <th>count</th>\n",
       "      <td>65188.000000</td>\n",
       "      <td>65188.000000</td>\n",
       "      <td>65188.000000</td>\n",
       "    </tr>\n",
       "    <tr>\n",
       "      <th>mean</th>\n",
       "      <td>0.014511</td>\n",
       "      <td>0.014492</td>\n",
       "      <td>0.015263</td>\n",
       "    </tr>\n",
       "    <tr>\n",
       "      <th>std</th>\n",
       "      <td>0.057795</td>\n",
       "      <td>0.059542</td>\n",
       "      <td>0.059527</td>\n",
       "    </tr>\n",
       "    <tr>\n",
       "      <th>min</th>\n",
       "      <td>0.000000</td>\n",
       "      <td>0.000000</td>\n",
       "      <td>0.000000</td>\n",
       "    </tr>\n",
       "    <tr>\n",
       "      <th>25%</th>\n",
       "      <td>0.000000</td>\n",
       "      <td>0.000000</td>\n",
       "      <td>0.000000</td>\n",
       "    </tr>\n",
       "    <tr>\n",
       "      <th>50%</th>\n",
       "      <td>0.000000</td>\n",
       "      <td>0.000040</td>\n",
       "      <td>0.000000</td>\n",
       "    </tr>\n",
       "    <tr>\n",
       "      <th>75%</th>\n",
       "      <td>0.001200</td>\n",
       "      <td>0.001230</td>\n",
       "      <td>0.001600</td>\n",
       "    </tr>\n",
       "    <tr>\n",
       "      <th>max</th>\n",
       "      <td>0.499000</td>\n",
       "      <td>0.499890</td>\n",
       "      <td>0.499800</td>\n",
       "    </tr>\n",
       "  </tbody>\n",
       "</table>\n",
       "</div>"
      ],
      "text/plain": [
       "             AF_ESP       AF_EXAC        AF_TGP\n",
       "count  65188.000000  65188.000000  65188.000000\n",
       "mean       0.014511      0.014492      0.015263\n",
       "std        0.057795      0.059542      0.059527\n",
       "min        0.000000      0.000000      0.000000\n",
       "25%        0.000000      0.000000      0.000000\n",
       "50%        0.000000      0.000040      0.000000\n",
       "75%        0.001200      0.001230      0.001600\n",
       "max        0.499000      0.499890      0.499800"
      ]
     },
     "execution_count": 12,
     "metadata": {},
     "output_type": "execute_result"
    }
   ],
   "source": [
    "df[['AF_ESP', 'AF_EXAC', 'AF_TGP']].describe()"
   ]
  },
  {
   "cell_type": "code",
   "execution_count": 13,
   "metadata": {},
   "outputs": [
    {
     "data": {
      "text/plain": [
       "array([[<matplotlib.axes._subplots.AxesSubplot object at 0x00000207D5043320>,\n",
       "        <matplotlib.axes._subplots.AxesSubplot object at 0x00000207D4F6E048>],\n",
       "       [<matplotlib.axes._subplots.AxesSubplot object at 0x00000207D4EA8C50>,\n",
       "        <matplotlib.axes._subplots.AxesSubplot object at 0x00000207D5035EF0>]],\n",
       "      dtype=object)"
      ]
     },
     "execution_count": 13,
     "metadata": {},
     "output_type": "execute_result"
    },
    {
     "data": {
      "image/png": "[encoded data removed]",
      "text/plain": [
       "<Figure size 432x288 with 4 Axes>"
      ]
     },
     "metadata": {
      "needs_background": "light"
     },
     "output_type": "display_data"
    }
   ],
   "source": [
    "df[['AF_ESP', 'AF_EXAC', 'AF_TGP']].hist()"
   ]
  },
  {
   "cell_type": "code",
   "execution_count": 14,
   "metadata": {},
   "outputs": [],
   "source": [
    "df['AF_ESP'] = df['AF_ESP'].apply(lambda x: 1 if x > 0 else 0).astype('category')\n",
    "df['AF_EXAC'] = df['AF_EXAC'].apply(lambda x: 1 if x > 0 else 0).astype('category')\n",
    "df['AF_TGP'] = df['AF_TGP'].apply(lambda x: 1 if x > 0 else 0).astype('category')"
   ]
  },
  {
   "cell_type": "markdown",
   "metadata": {},
   "source": [
    "## CLNDISDB\n",
    "\n",
    "This variable contains IDs for diseases in other databases. This variable has a large number of values, so it will be difficult to use it. I see that different values for this variable often contain the same identifiedrs, making the values arguable not unique (e.g. 'MedGen:CN169374' appears in multiple values). I choose to drop it."
   ]
  },
  {
   "cell_type": "code",
   "execution_count": 15,
   "metadata": {},
   "outputs": [
    {
     "name": "stdout",
     "output_type": "stream",
     "text": [
      "9234\n"
     ]
    },
    {
     "data": {
      "text/plain": [
       "MedGen:CN169374                                                                                             5344\n",
       "MedGen:C0027672,SNOMED_CT:699346009|MedGen:CN169374                                                         1724\n",
       "MedGen:CN169374|MedGen:CN517202                                                                             1398\n",
       "MedGen:C0027672,SNOMED_CT:699346009                                                                         1139\n",
       "MedGen:C1837342,OMIM:608807,Orphanet:ORPHA140922|MedGen:C1858763,OMIM:604145|MedGen:CN169374                 913\n",
       "MedGen:C0020445,OMIM:143890,SNOMED_CT:397915002,SNOMED_CT:398036000                                          732\n",
       "MedGen:C0004135,OMIM:208900,Orphanet:ORPHA100,SNOMED_CT:68504005|MedGen:C0027672,SNOMED_CT:699346009         608\n",
       "MedGen:C0027672,SNOMED_CT:699346009|MedGen:C0346153,OMIM:114480,Orphanet:ORPHA227535,SNOMED_CT:254843006     561\n",
       "Human_Phenotype_Ontology:HP:0012265,MedGen:C0008780,Orphanet:ORPHA244|MedGen:CN169374                        526\n",
       "MedGen:C0027672,SNOMED_CT:699346009|MedGen:C0027831,OMIM:162200,Orphanet:ORPHA636,SNOMED_CT:92824003         513\n",
       "Name: CLNDISDB, dtype: int64"
      ]
     },
     "execution_count": 15,
     "metadata": {},
     "output_type": "execute_result"
    }
   ],
   "source": [
    "print(len(df['CLNDISDB'].unique()))\n",
    "df['CLNDISDB'].value_counts()[0:10]"
   ]
  },
  {
   "cell_type": "code",
   "execution_count": 16,
   "metadata": {},
   "outputs": [],
   "source": [
    "df = df.drop('CLNDISDB', axis = 1)"
   ]
  },
  {
   "cell_type": "markdown",
   "metadata": {},
   "source": [
    "## CLNDN\n",
    "\n",
    "This captures the preferred disease name using the identifiers from CLNDISDB. This may be cleaner than the other variable, and is probably important for prediction, so I will attempt to clean it."
   ]
  },
  {
   "cell_type": "code",
   "execution_count": 17,
   "metadata": {},
   "outputs": [
    {
     "name": "stdout",
     "output_type": "stream",
     "text": [
      "9260\n"
     ]
    },
    {
     "data": {
      "text/plain": [
       "not_specified                                                                                 5344\n",
       "Hereditary_cancer-predisposing_syndrome|not_specified                                         1724\n",
       "not_specified|not_provided                                                                    1398\n",
       "Hereditary_cancer-predisposing_syndrome                                                       1139\n",
       "Limb-girdle_muscular_dystrophy,_type_2J|Dilated_cardiomyopathy_1G|not_specified                913\n",
       "Familial_hypercholesterolemia                                                                  732\n",
       "Ataxia-telangiectasia_syndrome|Hereditary_cancer-predisposing_syndrome                         608\n",
       "Hereditary_cancer-predisposing_syndrome|Familial_cancer_of_breast                              561\n",
       "Ciliary_dyskinesia|not_specified                                                               526\n",
       "Hereditary_cancer-predisposing_syndrome|Neurofibromatosis,_type_1                              513\n",
       "Ataxia-telangiectasia_syndrome|Hereditary_cancer-predisposing_syndrome|not_specified           469\n",
       "Hereditary_cancer-predisposing_syndrome|not_provided                                           456\n",
       "Hereditary_cancer-predisposing_syndrome|Familial_cancer_of_breast|not_specified                450\n",
       "Hereditary_nonpolyposis_colon_cancer|Hereditary_cancer-predisposing_syndrome                   435\n",
       "Hereditary_nonpolyposis_colon_cancer|Hereditary_cancer-predisposing_syndrome|not_specified     397\n",
       "Hereditary_cancer-predisposing_syndrome|Hereditary_breast_and_ovarian_cancer_syndrome          384\n",
       "Hereditary_cancer-predisposing_syndrome|Familial_adenomatous_polyposis_1                       368\n",
       "Hereditary_cancer-predisposing_syndrome|Lynch_syndrome                                         360\n",
       "Hereditary_cancer-predisposing_syndrome|Rhabdoid_tumor_predisposition_syndrome_2               338\n",
       "Hereditary_cancer-predisposing_syndrome|Familial_adenomatous_polyposis_1|not_specified         271\n",
       "Name: CLNDN, dtype: int64"
      ]
     },
     "execution_count": 17,
     "metadata": {},
     "output_type": "execute_result"
    }
   ],
   "source": [
    "print(len(df['CLNDN'].unique()))\n",
    "df['CLNDN'].value_counts()[0:20]"
   ]
  },
  {
   "cell_type": "markdown",
   "metadata": {},
   "source": [
    "Each value is a list of diseases. It seems like I could clean this by creating dummy variables for specific common diseases in each list. I will create dummies for the top 100 diseases."
   ]
  },
  {
   "cell_type": "code",
   "execution_count": 18,
   "metadata": {
    "scrolled": true
   },
   "outputs": [
    {
     "name": "stdout",
     "output_type": "stream",
     "text": [
      "not_specified                                    45547.0\n",
      "Hereditary_cancer-predisposing_syndrome          18367.0\n",
      "not_provided                                     13020.0\n",
      "Hereditary_breast_and_ovarian_cancer_syndrome     2058.0\n",
      "Familial_cancer_of_breast                         1977.0\n",
      "Dilated_cardiomyopathy_1G                         1951.0\n",
      "Limb-girdle_muscular_dystrophy,_type_2J           1920.0\n",
      "Cardiovascular_phenotype                          1853.0\n",
      "Hypertrophic_cardiomyopathy                       1556.0\n",
      "Ataxia-telangiectasia_syndrome                    1510.0\n",
      "dtype: float64\n",
      "['not_specified', 'Hereditary_cancer-predisposing_syndrome', 'not_provided', 'Hereditary_breast_and_ovarian_cancer_syndrome', 'Familial_cancer_of_breast', 'Dilated_cardiomyopathy_1G', 'Limb-girdle_muscular_dystrophy,_type_2J', 'Cardiovascular_phenotype', 'Hypertrophic_cardiomyopathy', 'Ataxia-telangiectasia_syndrome']\n"
     ]
    }
   ],
   "source": [
    "name_df = df['CLNDN'].str.split(pat = '|', expand = True)\n",
    "name_df.head()\n",
    "top_100_dn = name_df.apply(pd.value_counts).sum(axis=1).sort_values(ascending = False)[0:100]\n",
    "print(top_100_dn[0:10])\n",
    "\n",
    "top_100_dn_list = list(top_100_dn.index)\n",
    "print(top_100_dn_list[0:10])"
   ]
  },
  {
   "cell_type": "code",
   "execution_count": 19,
   "metadata": {},
   "outputs": [],
   "source": [
    "for dn in top_100_dn_list:\n",
    "    df[dn] = df['CLNDN'].apply(lambda x: 1 if dn in x else 0).astype('category')\n",
    "df = df.drop('CLNDN', axis = 1)"
   ]
  },
  {
   "cell_type": "code",
   "execution_count": 20,
   "metadata": {},
   "outputs": [
    {
     "name": "stdout",
     "output_type": "stream",
     "text": [
      "Index(['CHROM', 'POS', 'REF', 'ALT', 'AF_ESP', 'AF_EXAC', 'AF_TGP', 'CLNHGVS',\n",
      "       'CLNVC', 'CLNVI',\n",
      "       ...\n",
      "       'Ehlers-Danlos_syndrome,_type_7A', 'Cardiomyopathy',\n",
      "       'Congenital_contractural_arachnodactyly',\n",
      "       'Cardiomyopathy_dilated_with_woolly_hair_and_keratoderma',\n",
      "       'Romano-Ward_syndrome', 'Charcot-Marie-Tooth,_Type_4',\n",
      "       'PTEN_hamartoma_tumor_syndrome', 'Nemaline_Myopathy,_Recessive',\n",
      "       'Renal_cell_carcinoma,_papillary,_1', 'Hereditary_cutaneous_melanoma'],\n",
      "      dtype='object', length=135)\n"
     ]
    }
   ],
   "source": [
    "print(df.columns)"
   ]
  },
  {
   "cell_type": "markdown",
   "metadata": {},
   "source": [
    "## CLNHGVS\n",
    "\n",
    "This variable is all unique values that I don't understand related to HGVS expression. I choose to drop it."
   ]
  },
  {
   "cell_type": "code",
   "execution_count": 21,
   "metadata": {},
   "outputs": [
    {
     "name": "stdout",
     "output_type": "stream",
     "text": [
      "65188\n"
     ]
    }
   ],
   "source": [
    "print(len(df['CLNHGVS'].unique()))\n",
    "df = df.drop('CLNHGVS', axis = 1)"
   ]
  },
  {
   "cell_type": "markdown",
   "metadata": {},
   "source": [
    "## CLNVC\n",
    "\n",
    "This variant type variable is almost all one value - I will turn it into a categorical variable by consolidating low-incidence types."
   ]
  },
  {
   "cell_type": "code",
   "execution_count": 22,
   "metadata": {},
   "outputs": [
    {
     "name": "stdout",
     "output_type": "stream",
     "text": [
      "single_nucleotide_variant    61281\n",
      "Deletion                      2509\n",
      "Duplication                   1034\n",
      "Indel                          247\n",
      "Insertion                       95\n",
      "Inversion                       17\n",
      "Microsatellite                   5\n",
      "Name: CLNVC, dtype: int64\n"
     ]
    }
   ],
   "source": [
    "print(df['CLNVC'].value_counts())"
   ]
  },
  {
   "cell_type": "code",
   "execution_count": 23,
   "metadata": {},
   "outputs": [],
   "source": [
    "clnvc_types = ['single_nucleotide_variant', 'Deletion', 'Duplication']\n",
    "df['CLNVC'] = df['CLNVC'].apply(lambda x: x if x in clnvc_types else 'Other').astype('category')"
   ]
  },
  {
   "cell_type": "markdown",
   "metadata": {},
   "source": [
    "## MC\n",
    "\n",
    "Molecular consequence is a categorical variable, need to clean up rare values. Since values are lists of consequences, I will do this similarly to how I did it for the names, splitting up the series and coding dummies."
   ]
  },
  {
   "cell_type": "code",
   "execution_count": 24,
   "metadata": {},
   "outputs": [
    {
     "data": {
      "text/plain": [
       "SO:0001583|missense_variant                                   23034\n",
       "SO:0001819|synonymous_variant                                 16549\n",
       "SO:0001627|intron_variant                                      7534\n",
       "SO:0001583|missense_variant,SO:0001627|intron_variant          2422\n",
       "SO:0001589|frameshift_variant                                  1622\n",
       "SO:0001587|nonsense                                            1573\n",
       "SO:0001627|intron_variant,SO:0001819|synonymous_variant        1148\n",
       "SO:0001583|missense_variant,SO:0001623|5_prime_UTR_variant      599\n",
       "SO:0001623|5_prime_UTR_variant                                  516\n",
       "SO:0001575|splice_donor_variant                                 504\n",
       "Name: MC, dtype: int64"
      ]
     },
     "execution_count": 24,
     "metadata": {},
     "output_type": "execute_result"
    }
   ],
   "source": [
    "df['MC'].value_counts()[0:10]"
   ]
  },
  {
   "cell_type": "code",
   "execution_count": 25,
   "metadata": {},
   "outputs": [
    {
     "name": "stdout",
     "output_type": "stream",
     "text": [
      "missense_variant           26642.0\n",
      "SO:0001583                 26642.0\n",
      "synonymous_variant         18379.0\n",
      "SO:0001819                 18379.0\n",
      "intron_variant             11967.0\n",
      "SO:0001627                 11967.0\n",
      "5_prime_UTR_variant         1985.0\n",
      "SO:0001623                  1985.0\n",
      "SO:0001589                  1861.0\n",
      "frameshift_variant          1861.0\n",
      "nonsense                    1783.0\n",
      "SO:0001587                  1783.0\n",
      "3_prime_UTR_variant          704.0\n",
      "SO:0001624                   704.0\n",
      "splice_donor_variant         579.0\n",
      "SO:0001575                   579.0\n",
      "SO:0001636                   429.0\n",
      "2KB_upstream_variant         429.0\n",
      "SO:0001574                   428.0\n",
      "splice_acceptor_variant      428.0\n",
      "dtype: float64\n",
      "['missense_variant', 'synonymous_variant', 'intron_variant', '5_prime_UTR_variant', 'frameshift_variant', 'nonsense', '3_prime_UTR_variant', 'splice_donor_variant', '2KB_upstream_variant', 'splice_acceptor_variant']\n"
     ]
    }
   ],
   "source": [
    "name_df = df['MC'].str.split(pat = '[|,]', expand = True)\n",
    "name_df.head()\n",
    "top_mc = name_df.apply(pd.value_counts).sum(axis=1).sort_values(ascending = False)[0:20]\n",
    "print(top_mc)\n",
    "\n",
    "top_mc_list = [x for x in list(top_mc.index) if 'SO:' not in x]\n",
    "print(top_mc_list)"
   ]
  },
  {
   "cell_type": "code",
   "execution_count": 26,
   "metadata": {},
   "outputs": [
    {
     "name": "stdout",
     "output_type": "stream",
     "text": [
      "0    38546\n",
      "1    26642\n",
      "Name: missense_variant, dtype: int64\n",
      "0    46809\n",
      "1    18379\n",
      "Name: synonymous_variant, dtype: int64\n",
      "0    53221\n",
      "1    11967\n",
      "Name: intron_variant, dtype: int64\n",
      "0    63203\n",
      "1     1985\n",
      "Name: 5_prime_UTR_variant, dtype: int64\n",
      "0    63327\n",
      "1     1861\n",
      "Name: frameshift_variant, dtype: int64\n",
      "0    63405\n",
      "1     1783\n",
      "Name: nonsense, dtype: int64\n",
      "0    64484\n",
      "1      704\n",
      "Name: 3_prime_UTR_variant, dtype: int64\n",
      "0    64609\n",
      "1      579\n",
      "Name: splice_donor_variant, dtype: int64\n",
      "0    64759\n",
      "1      429\n",
      "Name: 2KB_upstream_variant, dtype: int64\n",
      "0    64760\n",
      "1      428\n",
      "Name: splice_acceptor_variant, dtype: int64\n"
     ]
    }
   ],
   "source": [
    "df['MC'] = df['MC'].fillna('unknown')\n",
    "for mc in top_mc_list:\n",
    "    df[mc] = df['MC'].apply(lambda x: 1 if mc in x else 0).astype('category')\n",
    "    print(df[mc].value_counts())\n",
    "df = df.drop('MC', axis = 1)"
   ]
  },
  {
   "cell_type": "markdown",
   "metadata": {},
   "source": [
    "## ORIGIN\n",
    "\n",
    "Here is the description: \"Allele origin. One or more of the following values may be added: 0 - unknown; 1 - germline; 2 - somatic; 4 - inherited; 8 - paternal; 16 - maternal; 32 - de-novo; 64 - biparental; 128 - uniparental; 256 - not-tested; 512 - tested-inconclusive; 1073741824 - other\" Since almost all have origin 1 (germline), I will recode this to have 0 for all other values to make it a dummy variable."
   ]
  },
  {
   "cell_type": "code",
   "execution_count": 27,
   "metadata": {},
   "outputs": [],
   "source": [
    "df['ORIGIN'] = df['ORIGIN'].fillna(0).apply(lambda x: 1 if x == 1.0 else 0).astype('category')"
   ]
  },
  {
   "cell_type": "markdown",
   "metadata": {},
   "source": [
    "## Consequence\n",
    "\n",
    "This variable is similar to MC, but with slightly different values. I'm not sure why. I will use it to update the MC dummy variables from before."
   ]
  },
  {
   "cell_type": "code",
   "execution_count": 28,
   "metadata": {},
   "outputs": [
    {
     "name": "stdout",
     "output_type": "stream",
     "text": [
      "missense_variant            32408.0\n",
      "synonymous_variant          18220.0\n",
      "intron_variant               7847.0\n",
      "splice_region_variant        5065.0\n",
      "frameshift_variant           1864.0\n",
      "stop_gained                  1800.0\n",
      "5_prime_UTR_variant           642.0\n",
      "inframe_deletion              593.0\n",
      "splice_donor_variant          584.0\n",
      "3_prime_UTR_variant           435.0\n",
      "splice_acceptor_variant       421.0\n",
      "inframe_insertion             204.0\n",
      "start_lost                    100.0\n",
      "upstream_gene_variant          82.0\n",
      "coding_sequence_variant        43.0\n",
      "downstream_gene_variant        26.0\n",
      "stop_lost                      16.0\n",
      "intergenic_variant             14.0\n",
      "stop_retained_variant          12.0\n",
      "protein_altering_variant       10.0\n",
      "dtype: float64\n"
     ]
    }
   ],
   "source": [
    "name_df = df['Consequence'].str.split(pat = '&', expand = True)\n",
    "name_df.head()\n",
    "top_mc = name_df.apply(pd.value_counts).sum(axis=1).sort_values(ascending = False)\n",
    "print(top_mc[0:20])"
   ]
  },
  {
   "cell_type": "code",
   "execution_count": 29,
   "metadata": {},
   "outputs": [
    {
     "name": "stdout",
     "output_type": "stream",
     "text": [
      "1    32783\n",
      "0    32405\n",
      "Name: missense_variant, dtype: int64\n",
      "0    46770\n",
      "1    18418\n",
      "Name: synonymous_variant, dtype: int64\n",
      "0    53145\n",
      "1    12043\n",
      "Name: intron_variant, dtype: int64\n",
      "0    63132\n",
      "1     2056\n",
      "Name: 5_prime_UTR_variant, dtype: int64\n",
      "0    63301\n",
      "1     1887\n",
      "Name: frameshift_variant, dtype: int64\n",
      "0    63405\n",
      "1     1783\n",
      "Name: nonsense, dtype: int64\n",
      "0    64431\n",
      "1      757\n",
      "Name: 3_prime_UTR_variant, dtype: int64\n",
      "0    64568\n",
      "1      620\n",
      "Name: splice_donor_variant, dtype: int64\n",
      "0    64759\n",
      "1      429\n",
      "Name: 2KB_upstream_variant, dtype: int64\n",
      "0    64741\n",
      "1      447\n",
      "Name: splice_acceptor_variant, dtype: int64\n"
     ]
    }
   ],
   "source": [
    "for mc in top_mc_list:\n",
    "    mc2 = mc + '2'\n",
    "    df[mc2] = df['Consequence'].apply(lambda x: 1 if mc in x else 0).astype('category')\n",
    "    df[mc] = df[[mc, mc2]].apply(lambda x: max(x[mc], x[mc2]), axis = 1).astype('category')\n",
    "    print(df[mc].value_counts())\n",
    "    df=df.drop(mc2, axis = 1)\n",
    "df = df.drop('Consequence', axis = 1)"
   ]
  },
  {
   "cell_type": "markdown",
   "metadata": {},
   "source": [
    "## IMPACT\n",
    "\n",
    "Categorical variable capturing variant impact"
   ]
  },
  {
   "cell_type": "code",
   "execution_count": 30,
   "metadata": {},
   "outputs": [
    {
     "data": {
      "text/plain": [
       "MODERATE    33212\n",
       "LOW         21642\n",
       "MODIFIER     5582\n",
       "HIGH         4752\n",
       "Name: IMPACT, dtype: int64"
      ]
     },
     "execution_count": 30,
     "metadata": {},
     "output_type": "execute_result"
    }
   ],
   "source": [
    "df['IMPACT'].value_counts()"
   ]
  },
  {
   "cell_type": "code",
   "execution_count": 31,
   "metadata": {},
   "outputs": [],
   "source": [
    "df['IMPACT'] = df['IMPACT'].astype('category')"
   ]
  },
  {
   "cell_type": "markdown",
   "metadata": {},
   "source": [
    "## SYMBOL\n",
    "\n",
    "This variable is the Gene symbol/ID. It has many values - I will make it categorical, but only keep the top 100 values, recoding the rest as \"Other\"."
   ]
  },
  {
   "cell_type": "code",
   "execution_count": 32,
   "metadata": {},
   "outputs": [
    {
     "data": {
      "text/plain": [
       "2329"
      ]
     },
     "execution_count": 32,
     "metadata": {},
     "output_type": "execute_result"
    }
   ],
   "source": [
    "len(df['SYMBOL'].unique())"
   ]
  },
  {
   "cell_type": "code",
   "execution_count": 33,
   "metadata": {},
   "outputs": [
    {
     "data": {
      "text/plain": [
       "TTN      2765\n",
       "BRCA2    1934\n",
       "ATM      1909\n",
       "APC      1228\n",
       "BRCA1    1075\n",
       "MSH6     1048\n",
       "LDLR      905\n",
       "PALB2     794\n",
       "NF1       732\n",
       "TSC2      640\n",
       "Name: SYMBOL, dtype: int64"
      ]
     },
     "execution_count": 33,
     "metadata": {},
     "output_type": "execute_result"
    }
   ],
   "source": [
    "df['SYMBOL'].value_counts()[0:10]"
   ]
  },
  {
   "cell_type": "code",
   "execution_count": 34,
   "metadata": {},
   "outputs": [],
   "source": [
    "top_100_symb = df['SYMBOL'].value_counts()[0:100].index\n",
    "df['SYMBOL'] = df['SYMBOL'].apply(lambda x: x if x in top_100_symb else 'Other').astype('category')"
   ]
  },
  {
   "cell_type": "code",
   "execution_count": 35,
   "metadata": {},
   "outputs": [
    {
     "data": {
      "text/plain": [
       "Other      30800\n",
       "TTN         2765\n",
       "BRCA2       1934\n",
       "ATM         1909\n",
       "APC         1228\n",
       "BRCA1       1075\n",
       "MSH6        1048\n",
       "LDLR         905\n",
       "PALB2        794\n",
       "NF1          732\n",
       "TSC2         640\n",
       "BRIP1        627\n",
       "PMS2         600\n",
       "MSH2         596\n",
       "POLE         571\n",
       "CDH1         553\n",
       "CHEK2        491\n",
       "BARD1        490\n",
       "SMARCA4      451\n",
       "MYBPC3       441\n",
       "RAD50        426\n",
       "SYNE1        422\n",
       "TP53         420\n",
       "POLD1        404\n",
       "NBN          397\n",
       "MLH1         395\n",
       "MUTYH        391\n",
       "PLEC         379\n",
       "STK11        359\n",
       "MYH7         333\n",
       "           ...  \n",
       "KCNH2        151\n",
       "LAMA2        151\n",
       "CACNA1C      150\n",
       "ASPM         148\n",
       "PCNT         146\n",
       "SMAD4        146\n",
       "MEN1         143\n",
       "FLNA         141\n",
       "ABCA4        138\n",
       "MECP2        136\n",
       "BAP1         135\n",
       "PKP2         132\n",
       "FLCN         131\n",
       "MYO7A        131\n",
       "BLM          129\n",
       "APOB         128\n",
       "MET          126\n",
       "VHL          126\n",
       "ATP7B        126\n",
       "WFS1         126\n",
       "DYNC1H1      124\n",
       "CDKN2A       124\n",
       "KMT2D        123\n",
       "FANCC        123\n",
       "RELN         123\n",
       "CNTNAP2      123\n",
       "VPS13B       121\n",
       "FH           118\n",
       "NOTCH1       118\n",
       "ALMS1        117\n",
       "Name: SYMBOL, Length: 100, dtype: int64"
      ]
     },
     "execution_count": 35,
     "metadata": {},
     "output_type": "execute_result"
    }
   ],
   "source": [
    "df['SYMBOL'].value_counts()[0:100]"
   ]
  },
  {
   "cell_type": "markdown",
   "metadata": {},
   "source": [
    "## Feature\n",
    "\n",
    "This is an ID associated with gene name - deleting due to redundancy"
   ]
  },
  {
   "cell_type": "code",
   "execution_count": 36,
   "metadata": {},
   "outputs": [],
   "source": [
    "df = df.drop('Feature', axis = 1)"
   ]
  },
  {
   "cell_type": "markdown",
   "metadata": {},
   "source": [
    "## Feature_type and BIOTYPE\n",
    "\n",
    "These features have little information (almost all records have same value), so I drop them."
   ]
  },
  {
   "cell_type": "code",
   "execution_count": 37,
   "metadata": {},
   "outputs": [
    {
     "name": "stdout",
     "output_type": "stream",
     "text": [
      "Transcript      65172\n",
      "MotifFeature        2\n",
      "Name: Feature_type, dtype: int64\n",
      "protein_coding    65158\n",
      "misc_RNA             14\n",
      "Name: BIOTYPE, dtype: int64\n"
     ]
    }
   ],
   "source": [
    "for var in ['Feature_type', 'BIOTYPE']:\n",
    "    print(df[var].value_counts())\n",
    "    df = df.drop(var, axis = 1)"
   ]
  },
  {
   "cell_type": "markdown",
   "metadata": {},
   "source": [
    "## EXON\n",
    "\n",
    "This captures the relative exon number. Given the very large numbers of unique values, I choose to drop it."
   ]
  },
  {
   "cell_type": "code",
   "execution_count": 38,
   "metadata": {},
   "outputs": [
    {
     "data": {
      "text/plain": [
       "3265"
      ]
     },
     "execution_count": 38,
     "metadata": {},
     "output_type": "execute_result"
    }
   ],
   "source": [
    "len(df['EXON'].unique())"
   ]
  },
  {
   "cell_type": "code",
   "execution_count": 39,
   "metadata": {},
   "outputs": [],
   "source": [
    "df = df.drop('EXON', axis = 1)"
   ]
  },
  {
   "cell_type": "markdown",
   "metadata": {},
   "source": [
    "## cDNA_position, CDS_position, Protein_position\n",
    "\n",
    "These represent relative positions of the base pair in various ways. These are all distance measures, which I think are irrelevant to the problem at hand, and difficult to clean so I drop them."
   ]
  },
  {
   "cell_type": "code",
   "execution_count": 40,
   "metadata": {},
   "outputs": [],
   "source": [
    "df = df.drop(['cDNA_position', 'CDS_position', 'Protein_position'], axis = 1)"
   ]
  },
  {
   "cell_type": "markdown",
   "metadata": {},
   "source": [
    "## Amino_acids, Codons\n",
    "\n",
    "These have a large number of unique values, so I drop them."
   ]
  },
  {
   "cell_type": "code",
   "execution_count": 41,
   "metadata": {},
   "outputs": [],
   "source": [
    "df = df.drop(['Amino_acids', 'Codons'], axis = 1)"
   ]
  },
  {
   "cell_type": "markdown",
   "metadata": {},
   "source": [
    "## STRAND\n",
    "\n",
    "Categorical: defined as + (forward) or - (reverse)"
   ]
  },
  {
   "cell_type": "code",
   "execution_count": 42,
   "metadata": {},
   "outputs": [
    {
     "data": {
      "text/plain": [
       "-1.0    32804\n",
       " 1.0    32370\n",
       "Name: STRAND, dtype: int64"
      ]
     },
     "execution_count": 42,
     "metadata": {},
     "output_type": "execute_result"
    }
   ],
   "source": [
    "df['STRAND'].value_counts()"
   ]
  },
  {
   "cell_type": "code",
   "execution_count": 43,
   "metadata": {},
   "outputs": [],
   "source": [
    "df['STRAND'] = df['STRAND'].fillna(df['STRAND'].mode())\n",
    "df['STRAND'] = df['STRAND'].astype('category')"
   ]
  },
  {
   "cell_type": "markdown",
   "metadata": {},
   "source": [
    "## LoFtool\n",
    "\n",
    "Numeric variable: Loss of Function tolerance score for loss of function variants. Will fill missing values with median."
   ]
  },
  {
   "cell_type": "code",
   "execution_count": 44,
   "metadata": {},
   "outputs": [],
   "source": [
    "df['LoFtool'] = df['LoFtool'].fillna(df['LoFtool'].median())"
   ]
  },
  {
   "cell_type": "markdown",
   "metadata": {},
   "source": [
    "## CADD_PHRED, CADD_RAW\n",
    "\n",
    "Different scores of deleteriousness - I keep them and fill missing values with medians."
   ]
  },
  {
   "cell_type": "code",
   "execution_count": 45,
   "metadata": {},
   "outputs": [],
   "source": [
    "df['CADD_PHRED'] = df['CADD_PHRED'].fillna(df['CADD_PHRED'].median())"
   ]
  },
  {
   "cell_type": "code",
   "execution_count": 46,
   "metadata": {},
   "outputs": [],
   "source": [
    "df['CADD_RAW'] = df['CADD_RAW'].fillna(df['CADD_RAW'].median())"
   ]
  },
  {
   "cell_type": "markdown",
   "metadata": {},
   "source": [
    "## Scaling numeric variables"
   ]
  },
  {
   "cell_type": "code",
   "execution_count": 47,
   "metadata": {},
   "outputs": [
    {
     "name": "stderr",
     "output_type": "stream",
     "text": [
      "C:\\Users\\david\\Anaconda3\\lib\\site-packages\\sklearn\\preprocessing\\data.py:625: DataConversionWarning: Data with input dtype int64, float64 were all converted to float64 by StandardScaler.\n",
      "  return self.partial_fit(X, y)\n",
      "C:\\Users\\david\\Anaconda3\\lib\\site-packages\\sklearn\\base.py:462: DataConversionWarning: Data with input dtype int64, float64 were all converted to float64 by StandardScaler.\n",
      "  return self.fit(X, **fit_params).transform(X)\n"
     ]
    }
   ],
   "source": [
    "from sklearn.preprocessing import StandardScaler\n",
    "\n",
    "num_var_list = ['POS', 'LoFtool', 'CADD_PHRED', 'CADD_RAW']\n",
    "scl = StandardScaler()\n",
    "df[num_var_list] = scl.fit_transform(df[num_var_list])"
   ]
  },
  {
   "cell_type": "markdown",
   "metadata": {},
   "source": [
    "## Separate target and features"
   ]
  },
  {
   "cell_type": "code",
   "execution_count": 48,
   "metadata": {},
   "outputs": [],
   "source": [
    "target = df['target']\n",
    "features = df.drop('target', axis = 1)"
   ]
  },
  {
   "cell_type": "markdown",
   "metadata": {},
   "source": [
    "# Exploring the Data"
   ]
  },
  {
   "cell_type": "code",
   "execution_count": 49,
   "metadata": {
    "scrolled": false
   },
   "outputs": [
    {
     "data": {
      "text/plain": [
       "['CHROM',\n",
       " 'POS',\n",
       " 'REF',\n",
       " 'ALT',\n",
       " 'AF_ESP',\n",
       " 'AF_EXAC',\n",
       " 'AF_TGP',\n",
       " 'CLNVC',\n",
       " 'CLNVI',\n",
       " 'ORIGIN',\n",
       " 'target',\n",
       " 'Allele',\n",
       " 'IMPACT',\n",
       " 'SYMBOL',\n",
       " 'INTRON',\n",
       " 'STRAND',\n",
       " 'BAM_EDIT',\n",
       " 'SIFT',\n",
       " 'PolyPhen',\n",
       " 'LoFtool',\n",
       " 'CADD_PHRED',\n",
       " 'CADD_RAW',\n",
       " 'BLOSUM62']"
      ]
     },
     "execution_count": 49,
     "metadata": {},
     "output_type": "execute_result"
    }
   ],
   "source": [
    "#Original columns\n",
    "list(df.columns[0:23])"
   ]
  },
  {
   "cell_type": "code",
   "execution_count": 50,
   "metadata": {},
   "outputs": [
    {
     "name": "stdout",
     "output_type": "stream",
     "text": [
      "<class 'pandas.core.frame.DataFrame'>\n",
      "RangeIndex: 65188 entries, 0 to 65187\n",
      "Data columns (total 23 columns):\n",
      "CHROM         65188 non-null category\n",
      "POS           65188 non-null float64\n",
      "REF           65188 non-null category\n",
      "ALT           65188 non-null category\n",
      "AF_ESP        65188 non-null category\n",
      "AF_EXAC       65188 non-null category\n",
      "AF_TGP        65188 non-null category\n",
      "CLNVC         65188 non-null category\n",
      "CLNVI         65188 non-null category\n",
      "ORIGIN        65188 non-null category\n",
      "target        65188 non-null category\n",
      "Allele        65188 non-null category\n",
      "IMPACT        65188 non-null category\n",
      "SYMBOL        65188 non-null category\n",
      "INTRON        65188 non-null category\n",
      "STRAND        65174 non-null category\n",
      "BAM_EDIT      65188 non-null category\n",
      "SIFT          65188 non-null category\n",
      "PolyPhen      65188 non-null category\n",
      "LoFtool       65188 non-null float64\n",
      "CADD_PHRED    65188 non-null float64\n",
      "CADD_RAW      65188 non-null float64\n",
      "BLOSUM62      65188 non-null category\n",
      "dtypes: category(19), float64(4)\n",
      "memory usage: 3.2 MB\n"
     ]
    }
   ],
   "source": [
    "df.iloc[:, 0:23].info()"
   ]
  },
  {
   "cell_type": "code",
   "execution_count": 51,
   "metadata": {},
   "outputs": [],
   "source": [
    "#Original feature set\n",
    "orig_feat = list(features.columns[0:22])\n",
    "orig_feat_cat = [x for x in orig_feat if x not in num_var_list]"
   ]
  },
  {
   "cell_type": "markdown",
   "metadata": {},
   "source": [
    "## Numeric Variables\n",
    "\n",
    "In this section I explore the numeric variables in the dataset. I find that there is a high correlation between CADD_PHRED and CADD_RAW, so I choose to drop one of them. I drop CADD_RAW due to the long right tail."
   ]
  },
  {
   "cell_type": "code",
   "execution_count": 52,
   "metadata": {
    "scrolled": false
   },
   "outputs": [
    {
     "data": {
      "text/html": [
       "<div>\n",
       "<style scoped>\n",
       "    .dataframe tbody tr th:only-of-type {\n",
       "        vertical-align: middle;\n",
       "    }\n",
       "\n",
       "    .dataframe tbody tr th {\n",
       "        vertical-align: top;\n",
       "    }\n",
       "\n",
       "    .dataframe thead th {\n",
       "        text-align: right;\n",
       "    }\n",
       "</style>\n",
       "<table border=\"1\" class=\"dataframe\">\n",
       "  <thead>\n",
       "    <tr style=\"text-align: right;\">\n",
       "      <th></th>\n",
       "      <th>POS</th>\n",
       "      <th>LoFtool</th>\n",
       "      <th>CADD_PHRED</th>\n",
       "      <th>CADD_RAW</th>\n",
       "    </tr>\n",
       "  </thead>\n",
       "  <tbody>\n",
       "    <tr>\n",
       "      <th>count</th>\n",
       "      <td>6.518800e+04</td>\n",
       "      <td>6.518800e+04</td>\n",
       "      <td>6.518800e+04</td>\n",
       "      <td>6.518800e+04</td>\n",
       "    </tr>\n",
       "    <tr>\n",
       "      <th>mean</th>\n",
       "      <td>2.467680e-15</td>\n",
       "      <td>-1.120343e-14</td>\n",
       "      <td>5.927843e-17</td>\n",
       "      <td>9.691545e-17</td>\n",
       "    </tr>\n",
       "    <tr>\n",
       "      <th>std</th>\n",
       "      <td>1.000008e+00</td>\n",
       "      <td>1.000008e+00</td>\n",
       "      <td>1.000008e+00</td>\n",
       "      <td>1.000008e+00</td>\n",
       "    </tr>\n",
       "    <tr>\n",
       "      <th>min</th>\n",
       "      <td>-1.298542e+00</td>\n",
       "      <td>-9.444451e-01</td>\n",
       "      <td>-1.456945e+00</td>\n",
       "      <td>-2.727595e+00</td>\n",
       "    </tr>\n",
       "    <tr>\n",
       "      <th>25%</th>\n",
       "      <td>-7.538351e-01</td>\n",
       "      <td>-8.580947e-01</td>\n",
       "      <td>-7.774106e-01</td>\n",
       "      <td>-6.993341e-01</td>\n",
       "    </tr>\n",
       "    <tr>\n",
       "      <th>50%</th>\n",
       "      <td>-3.281839e-01</td>\n",
       "      <td>-4.991418e-01</td>\n",
       "      <td>-1.459828e-01</td>\n",
       "      <td>-3.048435e-01</td>\n",
       "    </tr>\n",
       "    <tr>\n",
       "      <th>75%</th>\n",
       "      <td>5.887084e-01</td>\n",
       "      <td>9.168069e-01</td>\n",
       "      <td>7.761289e-01</td>\n",
       "      <td>6.039678e-01</td>\n",
       "    </tr>\n",
       "    <tr>\n",
       "      <th>max</th>\n",
       "      <td>2.846198e+00</td>\n",
       "      <td>1.892932e+00</td>\n",
       "      <td>7.754774e+00</td>\n",
       "      <td>1.497726e+01</td>\n",
       "    </tr>\n",
       "  </tbody>\n",
       "</table>\n",
       "</div>"
      ],
      "text/plain": [
       "                POS       LoFtool    CADD_PHRED      CADD_RAW\n",
       "count  6.518800e+04  6.518800e+04  6.518800e+04  6.518800e+04\n",
       "mean   2.467680e-15 -1.120343e-14  5.927843e-17  9.691545e-17\n",
       "std    1.000008e+00  1.000008e+00  1.000008e+00  1.000008e+00\n",
       "min   -1.298542e+00 -9.444451e-01 -1.456945e+00 -2.727595e+00\n",
       "25%   -7.538351e-01 -8.580947e-01 -7.774106e-01 -6.993341e-01\n",
       "50%   -3.281839e-01 -4.991418e-01 -1.459828e-01 -3.048435e-01\n",
       "75%    5.887084e-01  9.168069e-01  7.761289e-01  6.039678e-01\n",
       "max    2.846198e+00  1.892932e+00  7.754774e+00  1.497726e+01"
      ]
     },
     "execution_count": 52,
     "metadata": {},
     "output_type": "execute_result"
    }
   ],
   "source": [
    "features[num_var_list].describe()"
   ]
  },
  {
   "cell_type": "code",
   "execution_count": 53,
   "metadata": {},
   "outputs": [
    {
     "data": {
      "text/plain": [
       "array([[<matplotlib.axes._subplots.AxesSubplot object at 0x00000207D5F75438>,\n",
       "        <matplotlib.axes._subplots.AxesSubplot object at 0x00000207D52C3470>],\n",
       "       [<matplotlib.axes._subplots.AxesSubplot object at 0x00000207D5E3C6D8>,\n",
       "        <matplotlib.axes._subplots.AxesSubplot object at 0x00000207D5E39940>]],\n",
       "      dtype=object)"
      ]
     },
     "execution_count": 53,
     "metadata": {},
     "output_type": "execute_result"
    },
    {
     "data": {
      "image/png": "[encoded data removed]",
      "text/plain": [
       "<Figure size 432x288 with 4 Axes>"
      ]
     },
     "metadata": {
      "needs_background": "light"
     },
     "output_type": "display_data"
    }
   ],
   "source": [
    "features[num_var_list].hist()"
   ]
  },
  {
   "cell_type": "code",
   "execution_count": 54,
   "metadata": {},
   "outputs": [
    {
     "data": {
      "text/plain": [
       "<matplotlib.axes._subplots.AxesSubplot at 0x207d7435588>"
      ]
     },
     "execution_count": 54,
     "metadata": {},
     "output_type": "execute_result"
    },
    {
     "data": {
      "image/png": "[encoded data removed]",
      "text/plain": [
       "<Figure size 576x576 with 2 Axes>"
      ]
     },
     "metadata": {
      "needs_background": "light"
     },
     "output_type": "display_data"
    }
   ],
   "source": [
    "plt.figure(figsize=(8,8))\n",
    "sns.heatmap(features[num_var_list].corr(),\n",
    "            vmin=0,\n",
    "            vmax=1,\n",
    "            cmap='YlGnBu',\n",
    "            annot=np.round(features[num_var_list].corr(), 2))"
   ]
  },
  {
   "cell_type": "code",
   "execution_count": 55,
   "metadata": {},
   "outputs": [],
   "source": [
    "features = features.drop('CADD_RAW', axis = 1)"
   ]
  },
  {
   "cell_type": "markdown",
   "metadata": {},
   "source": [
    "## Categorical Variables\n",
    "\n",
    "Associations between categorical variables can be difficult to visualize. I use Cramer's V to understand the associations between each pair of categorical features, adapting this code: https://towardsdatascience.com/the-search-for-categorical-correlation-a1cf7f1888c9"
   ]
  },
  {
   "cell_type": "code",
   "execution_count": 56,
   "metadata": {},
   "outputs": [],
   "source": [
    "import scipy.stats as ss\n",
    "\n",
    "def cramers_v(x, y):\n",
    "    confusion_matrix = pd.crosstab(x,y)\n",
    "    chi2 = ss.chi2_contingency(confusion_matrix)[0]\n",
    "    n = confusion_matrix.sum().sum()\n",
    "    phi2 = chi2/n\n",
    "    r,k = confusion_matrix.shape\n",
    "    phi2corr = max(0, phi2-((k-1)*(r-1))/(n-1))\n",
    "    rcorr = r-((r-1)**2)/(n-1)\n",
    "    kcorr = k-((k-1)**2)/(n-1)\n",
    "    return np.sqrt(phi2corr/min((kcorr-1),(rcorr-1)))"
   ]
  },
  {
   "cell_type": "code",
   "execution_count": 57,
   "metadata": {},
   "outputs": [
    {
     "name": "stdout",
     "output_type": "stream",
     "text": [
      "[[1.         0.07262948 0.05871379 0.19713541 0.17760443]\n",
      " [0.07262948 1.         0.54794936 0.17637193 0.18513339]\n",
      " [0.05871379 0.54794936 1.         0.14589897 0.19605855]\n",
      " [0.19713541 0.17637193 0.14589897 0.99996902 0.65171702]\n",
      " [0.17760443 0.18513339 0.19605855 0.65171702 0.99996705]]\n"
     ]
    }
   ],
   "source": [
    "num_feat = len(orig_feat_cat)\n",
    "cat_corr_arr = np.empty((num_feat, num_feat))\n",
    "for i, row in enumerate(orig_feat_cat):\n",
    "    for j, col in enumerate(orig_feat_cat):\n",
    "        cat_corr_arr[i, j] = cramers_v(features[row], features[col])\n",
    "print(cat_corr_arr[0:5, 0:5])"
   ]
  },
  {
   "cell_type": "code",
   "execution_count": 58,
   "metadata": {},
   "outputs": [
    {
     "data": {
      "text/plain": [
       "<matplotlib.axes._subplots.AxesSubplot at 0x207d5f0d470>"
      ]
     },
     "execution_count": 58,
     "metadata": {},
     "output_type": "execute_result"
    },
    {
     "data": {
      "image/png": "[encoded data removed]",
      "text/plain": [
       "<Figure size 1152x1008 with 2 Axes>"
      ]
     },
     "metadata": {
      "needs_background": "light"
     },
     "output_type": "display_data"
    }
   ],
   "source": [
    "plt.figure(figsize=(16, 14))\n",
    "sns.heatmap(cat_corr_arr,\n",
    "            vmin=0,\n",
    "            vmax=1,\n",
    "            cmap='YlGnBu',\n",
    "            xticklabels = orig_feat_cat,\n",
    "            yticklabels = orig_feat_cat,\n",
    "            annot=np.round(cat_corr_arr, 2))"
   ]
  },
  {
   "cell_type": "markdown",
   "metadata": {},
   "source": [
    "I choose to drop the Allele, IMPACT, SYMBOL and PolyPhen variables due to high correlations."
   ]
  },
  {
   "cell_type": "code",
   "execution_count": 59,
   "metadata": {},
   "outputs": [],
   "source": [
    "features = features.drop(['Allele', 'IMPACT', 'SYMBOL', 'PolyPhen'], axis = 1)"
   ]
  },
  {
   "cell_type": "markdown",
   "metadata": {},
   "source": [
    "# Modeling\n",
    "\n",
    "For this problem, I choose to use multiple classifiers to see how they compare. I start with a dummy classifier as a baseline for comparison. Then I proceed to Random Forest Classifier, Naive Bayes, and AdaBoost. I will test the effects of various parameter spefications on model performance."
   ]
  },
  {
   "cell_type": "code",
   "execution_count": 74,
   "metadata": {},
   "outputs": [],
   "source": [
    "from sklearn.dummy import DummyClassifier\n",
    "from sklearn.tree import DecisionTreeClassifier\n",
    "from sklearn.linear_model import LogisticRegression\n",
    "from sklearn.ensemble import RandomForestClassifier, AdaBoostClassifier\n",
    "from sklearn.naive_bayes import GaussianNB, BernoulliNB\n",
    "from sklearn.model_selection import GridSearchCV, train_test_split, GridSearchCV, cross_val_score\n",
    "from sklearn.metrics import accuracy_score, f1_score, confusion_matrix, classification_report, make_scorer"
   ]
  },
  {
   "cell_type": "code",
   "execution_count": 61,
   "metadata": {},
   "outputs": [
    {
     "name": "stdout",
     "output_type": "stream",
     "text": [
      "Index(['POS', 'LoFtool', 'CADD_PHRED', 'CHROM_10', 'CHROM_11', 'CHROM_12',\n",
      "       'CHROM_13', 'CHROM_14', 'CHROM_15', 'CHROM_16',\n",
      "       ...\n",
      "       'missense_variant_1', 'synonymous_variant_1', 'intron_variant_1',\n",
      "       '5_prime_UTR_variant_1', 'frameshift_variant_1', 'nonsense_1',\n",
      "       '3_prime_UTR_variant_1', 'splice_donor_variant_1',\n",
      "       '2KB_upstream_variant_1', 'splice_acceptor_variant_1'],\n",
      "      dtype='object', length=157)\n"
     ]
    },
    {
     "data": {
      "text/plain": [
       "[]"
      ]
     },
     "execution_count": 61,
     "metadata": {},
     "output_type": "execute_result"
    }
   ],
   "source": [
    "features = pd.get_dummies(features, drop_first = True)\n",
    "print(features.columns)"
   ]
  },
  {
   "cell_type": "markdown",
   "metadata": {},
   "source": [
    "## Evaluation Metric\n",
    "\n",
    "For this problem I choose the F1 score, which balances precision and recall. Since there are fewer positive cases than negative one, I want to include recall as part of my metric, but I want to include precision as well to avoid over-classification."
   ]
  },
  {
   "cell_type": "code",
   "execution_count": 62,
   "metadata": {},
   "outputs": [],
   "source": [
    "f1_scorer = make_scorer(f1_score)"
   ]
  },
  {
   "cell_type": "markdown",
   "metadata": {},
   "source": [
    "## Dummy\n",
    "\n",
    "The F1 score for the Dummy classifier is 0.253, providing a point of comparison for other models."
   ]
  },
  {
   "cell_type": "code",
   "execution_count": 63,
   "metadata": {},
   "outputs": [
    {
     "name": "stdout",
     "output_type": "stream",
     "text": [
      "Mean Cross Validation F1 Score for Dummy Classifier: 0.253\n"
     ]
    }
   ],
   "source": [
    "dm_clf = DummyClassifier(random_state = 42)\n",
    "mean_dm_cv_score = cross_val_score(dm_clf, features, target, scoring = f1_scorer, cv = 3).mean()\n",
    "print(\"Mean Cross Validation F1 Score for Dummy Classifier: {:.3}\".format(mean_dm_cv_score))"
   ]
  },
  {
   "cell_type": "markdown",
   "metadata": {},
   "source": [
    "## Naive Bayes\n",
    "\n",
    "Gaussian Naive Bayes doesn't seem like a natural fit, given that there are many one-hot encoded variables in this dataset, but I am curious whether its performance is better than the Dummy classifier - at 0.341 it does seem to be better. Bernoulli Naive Bayes does even better still."
   ]
  },
  {
   "cell_type": "code",
   "execution_count": 77,
   "metadata": {},
   "outputs": [
    {
     "name": "stdout",
     "output_type": "stream",
     "text": [
      "Mean Cross Validation F1 Score for Gaussian Naive Bayes Classifier: 0.319\n"
     ]
    }
   ],
   "source": [
    "gnb_clf = GaussianNB()\n",
    "mean_gnb_cv_score = cross_val_score(gnb_clf, features, target, scoring = f1_scorer, cv = 3).mean()\n",
    "print(\"Mean Cross Validation F1 Score for Gaussian Naive Bayes Classifier: {:.3}\".format(mean_gnb_cv_score))"
   ]
  },
  {
   "cell_type": "code",
   "execution_count": 78,
   "metadata": {},
   "outputs": [
    {
     "name": "stdout",
     "output_type": "stream",
     "text": [
      "Mean Cross Validation F1 Score for Bernoulli Naive Bayes Classifier: 0.424\n"
     ]
    }
   ],
   "source": [
    "bnb_clf = BernoulliNB()\n",
    "mean_bnb_cv_score = cross_val_score(bnb_clf, features, target, scoring = f1_scorer, cv = 3).mean()\n",
    "print(\"Mean Cross Validation F1 Score for Bernoulli Naive Bayes Classifier: {:.3}\".format(mean_bnb_cv_score))"
   ]
  },
  {
   "cell_type": "markdown",
   "metadata": {},
   "source": [
    "## AdaBoost\n",
    "\n",
    "I decide to fit AdaBooost next using decision tree and logistic regression classifiers. These models provide no improvement over Naive Bayes."
   ]
  },
  {
   "cell_type": "code",
   "execution_count": 65,
   "metadata": {},
   "outputs": [
    {
     "name": "stdout",
     "output_type": "stream",
     "text": [
      "Mean Cross Validation F1 Score for AdaBoost Decision Tree Classifier: 0.295\n"
     ]
    }
   ],
   "source": [
    "adb_clf = AdaBoostClassifier(base_estimator = DecisionTreeClassifier(), random_state = 42)\n",
    "mean_adb_cv_score = cross_val_score(adb_clf, features, target, scoring = f1_scorer, cv = 3).mean()\n",
    "print(\"Mean Cross Validation F1 Score for AdaBoost Decision Tree Classifier: {:.3}\".format(mean_adb_cv_score))"
   ]
  },
  {
   "cell_type": "code",
   "execution_count": 66,
   "metadata": {},
   "outputs": [
    {
     "name": "stdout",
     "output_type": "stream",
     "text": [
      "Mean Cross Validation F1 Score for AdaBoost Logistic Regression Classifier: 0.00879\n"
     ]
    }
   ],
   "source": [
    "adb_clf = AdaBoostClassifier(base_estimator = LogisticRegression(solver = 'lbfgs'), random_state = 42)\n",
    "mean_adb_cv_score = cross_val_score(adb_clf, features, target, scoring = f1_scorer, cv = 3).mean()\n",
    "print(\"Mean Cross Validation F1 Score for AdaBoost Logistic Regression Classifier: {:.3}\".format(mean_adb_cv_score))"
   ]
  },
  {
   "cell_type": "markdown",
   "metadata": {},
   "source": [
    "## XGBoost\n",
    "\n",
    "I next decide to use XGBoost, a popular boosting algorithm. This does not seem to improve performance."
   ]
  },
  {
   "cell_type": "code",
   "execution_count": 67,
   "metadata": {},
   "outputs": [
    {
     "name": "stdout",
     "output_type": "stream",
     "text": [
      "Mean Cross Validation F1 Score for XGBoost Classifier: 0.0765\n"
     ]
    }
   ],
   "source": [
    "import xgboost as xgb\n",
    "xgb_clf = xgb.XGBClassifier(seed = 123)\n",
    "mean_xgb_cv_score = cross_val_score(xgb_clf, features, target, scoring = f1_scorer, cv = 3).mean()\n",
    "print(\"Mean Cross Validation F1 Score for XGBoost Classifier: {:.3}\".format(mean_xgb_cv_score))"
   ]
  },
  {
   "cell_type": "markdown",
   "metadata": {},
   "source": [
    "## Random Forest\n",
    "\n",
    "Lastly I fit a Random Forest model, which has an F1 score of 0.212."
   ]
  },
  {
   "cell_type": "code",
   "execution_count": 73,
   "metadata": {},
   "outputs": [
    {
     "name": "stdout",
     "output_type": "stream",
     "text": [
      "Mean Cross Validation F1 Score for Random Forest Classifier: 0.212\n"
     ]
    }
   ],
   "source": [
    "rf_clf = RandomForestClassifier(n_estimators = 100, random_state = 42)\n",
    "mean_rf_cv_score = cross_val_score(rf_clf, features, target, scoring = f1_scorer, cv = 3).mean()\n",
    "print(\"Mean Cross Validation F1 Score for Random Forest Classifier: {:.3}\".format(mean_rf_cv_score))"
   ]
  },
  {
   "cell_type": "markdown",
   "metadata": {},
   "source": [
    "## Bernoulli Naive Bayes Tuning\n",
    "\n",
    "Here I use grid search and random search to tune the highest performing model: Bernoulli Naive Bayes. The best hyperparameters yeild an F1 score of 0.437. This is not great, but substantially better than the dummy model."
   ]
  },
  {
   "cell_type": "code",
   "execution_count": 80,
   "metadata": {},
   "outputs": [],
   "source": [
    "bnb_param_grid = {\n",
    "'alpha': [0.1, 0.5, 1, 2, 5],\n",
    "'fit_prior': [True, False]\n",
    "}"
   ]
  },
  {
   "cell_type": "code",
   "execution_count": 106,
   "metadata": {},
   "outputs": [
    {
     "name": "stdout",
     "output_type": "stream",
     "text": [
      "Cross Validation F1 Score: 0.437\n",
      "Total Runtime for Grid Search on Bernoulli Naive Bayes: 12.43 seconds\n",
      "\n",
      "Optimal Parameters: {'alpha': 5, 'fit_prior': False}\n"
     ]
    }
   ],
   "source": [
    "import time\n",
    "start = time.time()\n",
    "bnb_grid_search = GridSearchCV(bnb_clf, bnb_param_grid, scoring = f1_scorer, cv = 3)\n",
    "bnb_grid_search.fit(features, target)\n",
    "\n",
    "print(\"Cross Validation F1 Score: {:.3}\".format(bnb_grid_search.best_score_))\n",
    "print(\"Total Runtime for Grid Search on Bernoulli Naive Bayes: {:.4} seconds\".format(time.time() - start))\n",
    "print(\"\")\n",
    "print(\"Optimal Parameters: {}\".format(bnb_grid_search.best_params_))"
   ]
  },
  {
   "cell_type": "markdown",
   "metadata": {},
   "source": [
    "# Interpreting the Model\n",
    "\n",
    "Below I explore the final model to better understand the important properties of the model."
   ]
  },
  {
   "cell_type": "markdown",
   "metadata": {},
   "source": [
    "## Performance\n",
    "\n",
    "Looking at the performance, I see that the unbalanced nature of the classes seem to yeild a fair amount of misclassification. Specifically, a number of cases where experts agreed were classified as being cases of disagreement (the upper right of the confusion matrix)."
   ]
  },
  {
   "cell_type": "code",
   "execution_count": 84,
   "metadata": {},
   "outputs": [],
   "source": [
    "best_bnb = bnb_grid_search.best_estimator_"
   ]
  },
  {
   "cell_type": "code",
   "execution_count": 85,
   "metadata": {},
   "outputs": [
    {
     "name": "stdout",
     "output_type": "stream",
     "text": [
      "[[8765 7395]\n",
      " [1894 3459]]\n",
      "              precision    recall  f1-score   support\n",
      "\n",
      "           0       0.82      0.54      0.65     16160\n",
      "           1       0.32      0.65      0.43      5353\n",
      "\n",
      "   micro avg       0.57      0.57      0.57     21513\n",
      "   macro avg       0.57      0.59      0.54     21513\n",
      "weighted avg       0.70      0.57      0.60     21513\n",
      "\n"
     ]
    }
   ],
   "source": [
    "X_train, X_test, y_train, y_test = train_test_split(features, target, test_size = 0.33, random_state = 42)\n",
    "best_bnb.fit(X_train, y_train)\n",
    "y_hat_test = best_bnb.predict(X_test) \n",
    "bnb_confusion_matrix = confusion_matrix(y_test, y_hat_test)\n",
    "print(bnb_confusion_matrix)\n",
    "bnb_classification_report = classification_report(y_test, y_hat_test)\n",
    "print(bnb_classification_report)"
   ]
  },
  {
   "cell_type": "markdown",
   "metadata": {},
   "source": [
    "## Feature Probabilities\n",
    "\n",
    "While Naive Bayes doesn't yeild feature importances, I am able to look at which features have the largest difference in predicted probability of being present between the two target classes. The allele frequency variables jump out as having the largest differences, as do genes associated with unknown disease variants."
   ]
  },
  {
   "cell_type": "code",
   "execution_count": 112,
   "metadata": {},
   "outputs": [
    {
     "data": {
      "text/html": [
       "<div>\n",
       "<style scoped>\n",
       "    .dataframe tbody tr th:only-of-type {\n",
       "        vertical-align: middle;\n",
       "    }\n",
       "\n",
       "    .dataframe tbody tr th {\n",
       "        vertical-align: top;\n",
       "    }\n",
       "\n",
       "    .dataframe thead th {\n",
       "        text-align: right;\n",
       "    }\n",
       "</style>\n",
       "<table border=\"1\" class=\"dataframe\">\n",
       "  <thead>\n",
       "    <tr style=\"text-align: right;\">\n",
       "      <th></th>\n",
       "      <th>prob_0</th>\n",
       "      <th>prob_1</th>\n",
       "    </tr>\n",
       "  </thead>\n",
       "  <tbody>\n",
       "    <tr>\n",
       "      <th>POS</th>\n",
       "      <td>0.411698</td>\n",
       "      <td>0.412046</td>\n",
       "    </tr>\n",
       "    <tr>\n",
       "      <th>LoFtool</th>\n",
       "      <td>0.380475</td>\n",
       "      <td>0.378415</td>\n",
       "    </tr>\n",
       "    <tr>\n",
       "      <th>CADD_PHRED</th>\n",
       "      <td>0.453472</td>\n",
       "      <td>0.426201</td>\n",
       "    </tr>\n",
       "    <tr>\n",
       "      <th>CHROM_10</th>\n",
       "      <td>0.034597</td>\n",
       "      <td>0.039401</td>\n",
       "    </tr>\n",
       "    <tr>\n",
       "      <th>CHROM_11</th>\n",
       "      <td>0.078947</td>\n",
       "      <td>0.060500</td>\n",
       "    </tr>\n",
       "  </tbody>\n",
       "</table>\n",
       "</div>"
      ],
      "text/plain": [
       "              prob_0    prob_1\n",
       "POS         0.411698  0.412046\n",
       "LoFtool     0.380475  0.378415\n",
       "CADD_PHRED  0.453472  0.426201\n",
       "CHROM_10    0.034597  0.039401\n",
       "CHROM_11    0.078947  0.060500"
      ]
     },
     "execution_count": 112,
     "metadata": {},
     "output_type": "execute_result"
    }
   ],
   "source": [
    "feat_df = pd.DataFrame()\n",
    "feat_df['prob_0'] = np.exp(best_bnb.feature_log_prob_[0])\n",
    "feat_df['prob_1'] = np.exp(best_bnb.feature_log_prob_[1])\n",
    "feat_df.index = features.columns\n",
    "feat_df.head()"
   ]
  },
  {
   "cell_type": "code",
   "execution_count": 113,
   "metadata": {},
   "outputs": [
    {
     "data": {
      "text/html": [
       "<div>\n",
       "<style scoped>\n",
       "    .dataframe tbody tr th:only-of-type {\n",
       "        vertical-align: middle;\n",
       "    }\n",
       "\n",
       "    .dataframe tbody tr th {\n",
       "        vertical-align: top;\n",
       "    }\n",
       "\n",
       "    .dataframe thead th {\n",
       "        text-align: right;\n",
       "    }\n",
       "</style>\n",
       "<table border=\"1\" class=\"dataframe\">\n",
       "  <thead>\n",
       "    <tr style=\"text-align: right;\">\n",
       "      <th></th>\n",
       "      <th>prob_0</th>\n",
       "      <th>prob_1</th>\n",
       "      <th>ave_prob</th>\n",
       "      <th>prob_diff</th>\n",
       "    </tr>\n",
       "  </thead>\n",
       "  <tbody>\n",
       "    <tr>\n",
       "      <th>POS</th>\n",
       "      <td>0.411698</td>\n",
       "      <td>0.412046</td>\n",
       "      <td>0.411872</td>\n",
       "      <td>0.000348</td>\n",
       "    </tr>\n",
       "    <tr>\n",
       "      <th>LoFtool</th>\n",
       "      <td>0.380475</td>\n",
       "      <td>0.378415</td>\n",
       "      <td>0.379445</td>\n",
       "      <td>0.002060</td>\n",
       "    </tr>\n",
       "    <tr>\n",
       "      <th>CADD_PHRED</th>\n",
       "      <td>0.453472</td>\n",
       "      <td>0.426201</td>\n",
       "      <td>0.439837</td>\n",
       "      <td>0.027271</td>\n",
       "    </tr>\n",
       "    <tr>\n",
       "      <th>CHROM_10</th>\n",
       "      <td>0.034597</td>\n",
       "      <td>0.039401</td>\n",
       "      <td>0.036999</td>\n",
       "      <td>0.004804</td>\n",
       "    </tr>\n",
       "    <tr>\n",
       "      <th>CHROM_11</th>\n",
       "      <td>0.078947</td>\n",
       "      <td>0.060500</td>\n",
       "      <td>0.069723</td>\n",
       "      <td>0.018448</td>\n",
       "    </tr>\n",
       "  </tbody>\n",
       "</table>\n",
       "</div>"
      ],
      "text/plain": [
       "              prob_0    prob_1  ave_prob  prob_diff\n",
       "POS         0.411698  0.412046  0.411872   0.000348\n",
       "LoFtool     0.380475  0.378415  0.379445   0.002060\n",
       "CADD_PHRED  0.453472  0.426201  0.439837   0.027271\n",
       "CHROM_10    0.034597  0.039401  0.036999   0.004804\n",
       "CHROM_11    0.078947  0.060500  0.069723   0.018448"
      ]
     },
     "execution_count": 113,
     "metadata": {},
     "output_type": "execute_result"
    }
   ],
   "source": [
    "feat_df['ave_prob'] = feat_df.apply(lambda x: (x[0] + x[1])/2, axis = 1)\n",
    "feat_df['prob_diff'] = feat_df.apply(lambda x: np.abs(x[0] - x[1]), axis = 1)\n",
    "feat_df.head()"
   ]
  },
  {
   "cell_type": "code",
   "execution_count": 114,
   "metadata": {},
   "outputs": [
    {
     "data": {
      "text/html": [
       "<div>\n",
       "<style scoped>\n",
       "    .dataframe tbody tr th:only-of-type {\n",
       "        vertical-align: middle;\n",
       "    }\n",
       "\n",
       "    .dataframe tbody tr th {\n",
       "        vertical-align: top;\n",
       "    }\n",
       "\n",
       "    .dataframe thead th {\n",
       "        text-align: right;\n",
       "    }\n",
       "</style>\n",
       "<table border=\"1\" class=\"dataframe\">\n",
       "  <thead>\n",
       "    <tr style=\"text-align: right;\">\n",
       "      <th></th>\n",
       "      <th>prob_0</th>\n",
       "      <th>prob_1</th>\n",
       "      <th>ave_prob</th>\n",
       "      <th>prob_diff</th>\n",
       "    </tr>\n",
       "  </thead>\n",
       "  <tbody>\n",
       "    <tr>\n",
       "      <th>AF_EXAC_1</th>\n",
       "      <td>0.589744</td>\n",
       "      <td>0.756289</td>\n",
       "      <td>0.673016</td>\n",
       "      <td>0.166545</td>\n",
       "    </tr>\n",
       "    <tr>\n",
       "      <th>CLNVI_1</th>\n",
       "      <td>0.382898</td>\n",
       "      <td>0.544135</td>\n",
       "      <td>0.463516</td>\n",
       "      <td>0.161237</td>\n",
       "    </tr>\n",
       "    <tr>\n",
       "      <th>Hereditary_cancer-predisposing_syndrome_1</th>\n",
       "      <td>0.315513</td>\n",
       "      <td>0.182580</td>\n",
       "      <td>0.249047</td>\n",
       "      <td>0.132933</td>\n",
       "    </tr>\n",
       "    <tr>\n",
       "      <th>AF_ESP_1</th>\n",
       "      <td>0.422832</td>\n",
       "      <td>0.537823</td>\n",
       "      <td>0.480328</td>\n",
       "      <td>0.114992</td>\n",
       "    </tr>\n",
       "    <tr>\n",
       "      <th>not_specified_1</th>\n",
       "      <td>0.671758</td>\n",
       "      <td>0.781805</td>\n",
       "      <td>0.726782</td>\n",
       "      <td>0.110047</td>\n",
       "    </tr>\n",
       "    <tr>\n",
       "      <th>AF_TGP_1</th>\n",
       "      <td>0.392559</td>\n",
       "      <td>0.497250</td>\n",
       "      <td>0.444905</td>\n",
       "      <td>0.104691</td>\n",
       "    </tr>\n",
       "    <tr>\n",
       "      <th>not_provided_1</th>\n",
       "      <td>0.186327</td>\n",
       "      <td>0.245605</td>\n",
       "      <td>0.215966</td>\n",
       "      <td>0.059278</td>\n",
       "    </tr>\n",
       "    <tr>\n",
       "      <th>STRAND_1.0</th>\n",
       "      <td>0.504018</td>\n",
       "      <td>0.465783</td>\n",
       "      <td>0.484900</td>\n",
       "      <td>0.038235</td>\n",
       "    </tr>\n",
       "    <tr>\n",
       "      <th>frameshift_variant_1</th>\n",
       "      <td>0.036468</td>\n",
       "      <td>0.007934</td>\n",
       "      <td>0.022201</td>\n",
       "      <td>0.028534</td>\n",
       "    </tr>\n",
       "    <tr>\n",
       "      <th>nonsense_1</th>\n",
       "      <td>0.035517</td>\n",
       "      <td>0.007303</td>\n",
       "      <td>0.021410</td>\n",
       "      <td>0.028214</td>\n",
       "    </tr>\n",
       "  </tbody>\n",
       "</table>\n",
       "</div>"
      ],
      "text/plain": [
       "                                             prob_0    prob_1  ave_prob  \\\n",
       "AF_EXAC_1                                  0.589744  0.756289  0.673016   \n",
       "CLNVI_1                                    0.382898  0.544135  0.463516   \n",
       "Hereditary_cancer-predisposing_syndrome_1  0.315513  0.182580  0.249047   \n",
       "AF_ESP_1                                   0.422832  0.537823  0.480328   \n",
       "not_specified_1                            0.671758  0.781805  0.726782   \n",
       "AF_TGP_1                                   0.392559  0.497250  0.444905   \n",
       "not_provided_1                             0.186327  0.245605  0.215966   \n",
       "STRAND_1.0                                 0.504018  0.465783  0.484900   \n",
       "frameshift_variant_1                       0.036468  0.007934  0.022201   \n",
       "nonsense_1                                 0.035517  0.007303  0.021410   \n",
       "\n",
       "                                           prob_diff  \n",
       "AF_EXAC_1                                   0.166545  \n",
       "CLNVI_1                                     0.161237  \n",
       "Hereditary_cancer-predisposing_syndrome_1   0.132933  \n",
       "AF_ESP_1                                    0.114992  \n",
       "not_specified_1                             0.110047  \n",
       "AF_TGP_1                                    0.104691  \n",
       "not_provided_1                              0.059278  \n",
       "STRAND_1.0                                  0.038235  \n",
       "frameshift_variant_1                        0.028534  \n",
       "nonsense_1                                  0.028214  "
      ]
     },
     "execution_count": 114,
     "metadata": {},
     "output_type": "execute_result"
    }
   ],
   "source": [
    "feat_df.sort_values('prob_diff', ascending=False).head(10)"
   ]
  },
  {
   "cell_type": "markdown",
   "metadata": {},
   "source": [
    "# Conclusion\n",
    "\n",
    "In this analysis, I find that I am able to predict when experts will disagree about gene severity moderately well, with an F1 score of 0.437 for my final Bernoulli Naive Bayes model. This is a notable improvement over the dummy model, with F1 score of 0.253. This model can be used to prioritize research on gene variants with debatable severity. However, there is still a fair amount of misclassification, specifically with concurrences being classified as disagreements more often than warranted. Future analysis could look for ways to better balance the overall accuracy with the recall of the model."
   ]
  },
  {
   "cell_type": "code",
   "execution_count": null,
   "metadata": {},
   "outputs": [],
   "source": []
  },
  {
   "cell_type": "code",
   "execution_count": null,
   "metadata": {},
   "outputs": [],
   "source": []
  },
  {
   "cell_type": "code",
   "execution_count": null,
   "metadata": {},
   "outputs": [],
   "source": []
  },
  {
   "cell_type": "code",
   "execution_count": null,
   "metadata": {},
   "outputs": [],
   "source": []
  },
  {
   "cell_type": "code",
   "execution_count": null,
   "metadata": {},
   "outputs": [],
   "source": []
  }
 ],
 "metadata": {
  "kernelspec": {
   "display_name": "Python 3",
   "language": "python",
   "name": "python3"
  },
  "language_info": {
   "codemirror_mode": {
    "name": "ipython",
    "version": 3
   },
   "file_extension": ".py",
   "mimetype": "text/x-python",
   "name": "python",
   "nbconvert_exporter": "python",
   "pygments_lexer": "ipython3",
   "version": "3.7.0"
  }
 },
 "nbformat": 4,
 "nbformat_minor": 2
}
