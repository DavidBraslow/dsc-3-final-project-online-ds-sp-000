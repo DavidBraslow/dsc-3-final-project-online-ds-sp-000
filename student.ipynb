{
 "cells": [
  {
   "cell_type": "markdown",
   "metadata": {},
   "source": [
    "# Module 3 Final Project Submission\n",
    "\n",
    "Please fill out:\n",
    "* Student name: David Braslow\n",
    "* Student pace: self paced \n",
    "* Scheduled project review date/time: \n",
    "* Instructor name: Eli\n",
    "* Blog post URL: TBD\n",
    "* Data source: https://www.kaggle.com/kevinarvai/clinvar-conflicting/version/3\n"
   ]
  },
  {
   "cell_type": "markdown",
   "metadata": {},
   "source": [
    "# Overview\n",
    "\n",
    "This project uses a Kaggle dataset to predict gene classifications. In this dataset, we are given multiple genetic variants and various properties of each. Expert raters at different laboratories rated these variants based on their perceived clinical classifications, with ratings ranging from Benign to Pathogenic. The target variable is whether the raters have clinical classifications that are concordant, meaning that they are in the same clinical category.  "
   ]
  },
  {
   "cell_type": "markdown",
   "metadata": {},
   "source": [
    "## Initialization"
   ]
  },
  {
   "cell_type": "code",
   "execution_count": 1,
   "metadata": {},
   "outputs": [],
   "source": [
    "import pandas as pd\n",
    "import numpy as np\n",
    "import matplotlib.pyplot as plt\n",
    "import seaborn as sns\n",
    "\n",
    "%matplotlib inline"
   ]
  },
  {
   "cell_type": "markdown",
   "metadata": {},
   "source": [
    "# Obtaining the Data\n",
    "\n",
    "For this project, I downloaded the dataset from the Kaggle page as a csv."
   ]
  },
  {
   "cell_type": "code",
   "execution_count": 2,
   "metadata": {},
   "outputs": [
    {
     "name": "stderr",
     "output_type": "stream",
     "text": [
      "C:\\Users\\david\\Anaconda3\\lib\\site-packages\\IPython\\core\\interactiveshell.py:3018: DtypeWarning: Columns (0,38,40) have mixed types. Specify dtype option on import or set low_memory=False.\n",
      "  interactivity=interactivity, compiler=compiler, result=result)\n"
     ]
    },
    {
     "data": {
      "text/html": [
       "<div>\n",
       "<style scoped>\n",
       "    .dataframe tbody tr th:only-of-type {\n",
       "        vertical-align: middle;\n",
       "    }\n",
       "\n",
       "    .dataframe tbody tr th {\n",
       "        vertical-align: top;\n",
       "    }\n",
       "\n",
       "    .dataframe thead th {\n",
       "        text-align: right;\n",
       "    }\n",
       "</style>\n",
       "<table border=\"1\" class=\"dataframe\">\n",
       "  <thead>\n",
       "    <tr style=\"text-align: right;\">\n",
       "      <th></th>\n",
       "      <th>CHROM</th>\n",
       "      <th>POS</th>\n",
       "      <th>REF</th>\n",
       "      <th>ALT</th>\n",
       "      <th>AF_ESP</th>\n",
       "      <th>AF_EXAC</th>\n",
       "      <th>AF_TGP</th>\n",
       "      <th>CLNDISDB</th>\n",
       "      <th>CLNDISDBINCL</th>\n",
       "      <th>CLNDN</th>\n",
       "      <th>...</th>\n",
       "      <th>SIFT</th>\n",
       "      <th>PolyPhen</th>\n",
       "      <th>MOTIF_NAME</th>\n",
       "      <th>MOTIF_POS</th>\n",
       "      <th>HIGH_INF_POS</th>\n",
       "      <th>MOTIF_SCORE_CHANGE</th>\n",
       "      <th>LoFtool</th>\n",
       "      <th>CADD_PHRED</th>\n",
       "      <th>CADD_RAW</th>\n",
       "      <th>BLOSUM62</th>\n",
       "    </tr>\n",
       "  </thead>\n",
       "  <tbody>\n",
       "    <tr>\n",
       "      <th>0</th>\n",
       "      <td>1</td>\n",
       "      <td>955563</td>\n",
       "      <td>G</td>\n",
       "      <td>C</td>\n",
       "      <td>0.0000</td>\n",
       "      <td>0.00000</td>\n",
       "      <td>0.0000</td>\n",
       "      <td>MedGen:C3808739,OMIM:615120|MedGen:CN169374</td>\n",
       "      <td>NaN</td>\n",
       "      <td>Myasthenic_syndrome,_congenital,_8|not_specified</td>\n",
       "      <td>...</td>\n",
       "      <td>NaN</td>\n",
       "      <td>NaN</td>\n",
       "      <td>NaN</td>\n",
       "      <td>NaN</td>\n",
       "      <td>NaN</td>\n",
       "      <td>NaN</td>\n",
       "      <td>0.421</td>\n",
       "      <td>11.390</td>\n",
       "      <td>1.133255</td>\n",
       "      <td>-2.0</td>\n",
       "    </tr>\n",
       "    <tr>\n",
       "      <th>1</th>\n",
       "      <td>1</td>\n",
       "      <td>955597</td>\n",
       "      <td>G</td>\n",
       "      <td>T</td>\n",
       "      <td>0.0000</td>\n",
       "      <td>0.42418</td>\n",
       "      <td>0.2826</td>\n",
       "      <td>MedGen:CN169374</td>\n",
       "      <td>NaN</td>\n",
       "      <td>not_specified</td>\n",
       "      <td>...</td>\n",
       "      <td>NaN</td>\n",
       "      <td>NaN</td>\n",
       "      <td>NaN</td>\n",
       "      <td>NaN</td>\n",
       "      <td>NaN</td>\n",
       "      <td>NaN</td>\n",
       "      <td>0.421</td>\n",
       "      <td>8.150</td>\n",
       "      <td>0.599088</td>\n",
       "      <td>NaN</td>\n",
       "    </tr>\n",
       "    <tr>\n",
       "      <th>2</th>\n",
       "      <td>1</td>\n",
       "      <td>955619</td>\n",
       "      <td>G</td>\n",
       "      <td>C</td>\n",
       "      <td>0.0000</td>\n",
       "      <td>0.03475</td>\n",
       "      <td>0.0088</td>\n",
       "      <td>MedGen:C3808739,OMIM:615120|MedGen:CN169374</td>\n",
       "      <td>NaN</td>\n",
       "      <td>Myasthenic_syndrome,_congenital,_8|not_specified</td>\n",
       "      <td>...</td>\n",
       "      <td>NaN</td>\n",
       "      <td>NaN</td>\n",
       "      <td>NaN</td>\n",
       "      <td>NaN</td>\n",
       "      <td>NaN</td>\n",
       "      <td>NaN</td>\n",
       "      <td>0.421</td>\n",
       "      <td>3.288</td>\n",
       "      <td>0.069819</td>\n",
       "      <td>1.0</td>\n",
       "    </tr>\n",
       "    <tr>\n",
       "      <th>3</th>\n",
       "      <td>1</td>\n",
       "      <td>957640</td>\n",
       "      <td>C</td>\n",
       "      <td>T</td>\n",
       "      <td>0.0318</td>\n",
       "      <td>0.02016</td>\n",
       "      <td>0.0328</td>\n",
       "      <td>MedGen:C3808739,OMIM:615120|MedGen:CN169374</td>\n",
       "      <td>NaN</td>\n",
       "      <td>Myasthenic_syndrome,_congenital,_8|not_specified</td>\n",
       "      <td>...</td>\n",
       "      <td>NaN</td>\n",
       "      <td>NaN</td>\n",
       "      <td>NaN</td>\n",
       "      <td>NaN</td>\n",
       "      <td>NaN</td>\n",
       "      <td>NaN</td>\n",
       "      <td>0.421</td>\n",
       "      <td>12.560</td>\n",
       "      <td>1.356499</td>\n",
       "      <td>NaN</td>\n",
       "    </tr>\n",
       "    <tr>\n",
       "      <th>4</th>\n",
       "      <td>1</td>\n",
       "      <td>976059</td>\n",
       "      <td>C</td>\n",
       "      <td>T</td>\n",
       "      <td>0.0000</td>\n",
       "      <td>0.00022</td>\n",
       "      <td>0.0010</td>\n",
       "      <td>MedGen:CN169374</td>\n",
       "      <td>NaN</td>\n",
       "      <td>not_specified</td>\n",
       "      <td>...</td>\n",
       "      <td>NaN</td>\n",
       "      <td>NaN</td>\n",
       "      <td>NaN</td>\n",
       "      <td>NaN</td>\n",
       "      <td>NaN</td>\n",
       "      <td>NaN</td>\n",
       "      <td>0.421</td>\n",
       "      <td>17.740</td>\n",
       "      <td>2.234711</td>\n",
       "      <td>NaN</td>\n",
       "    </tr>\n",
       "  </tbody>\n",
       "</table>\n",
       "<p>5 rows × 46 columns</p>\n",
       "</div>"
      ],
      "text/plain": [
       "  CHROM     POS REF ALT  AF_ESP  AF_EXAC  AF_TGP  \\\n",
       "0     1  955563   G   C  0.0000  0.00000  0.0000   \n",
       "1     1  955597   G   T  0.0000  0.42418  0.2826   \n",
       "2     1  955619   G   C  0.0000  0.03475  0.0088   \n",
       "3     1  957640   C   T  0.0318  0.02016  0.0328   \n",
       "4     1  976059   C   T  0.0000  0.00022  0.0010   \n",
       "\n",
       "                                      CLNDISDB CLNDISDBINCL  \\\n",
       "0  MedGen:C3808739,OMIM:615120|MedGen:CN169374          NaN   \n",
       "1                              MedGen:CN169374          NaN   \n",
       "2  MedGen:C3808739,OMIM:615120|MedGen:CN169374          NaN   \n",
       "3  MedGen:C3808739,OMIM:615120|MedGen:CN169374          NaN   \n",
       "4                              MedGen:CN169374          NaN   \n",
       "\n",
       "                                              CLNDN   ...    SIFT PolyPhen  \\\n",
       "0  Myasthenic_syndrome,_congenital,_8|not_specified   ...     NaN      NaN   \n",
       "1                                     not_specified   ...     NaN      NaN   \n",
       "2  Myasthenic_syndrome,_congenital,_8|not_specified   ...     NaN      NaN   \n",
       "3  Myasthenic_syndrome,_congenital,_8|not_specified   ...     NaN      NaN   \n",
       "4                                     not_specified   ...     NaN      NaN   \n",
       "\n",
       "  MOTIF_NAME MOTIF_POS HIGH_INF_POS MOTIF_SCORE_CHANGE  LoFtool  CADD_PHRED  \\\n",
       "0        NaN       NaN          NaN                NaN    0.421      11.390   \n",
       "1        NaN       NaN          NaN                NaN    0.421       8.150   \n",
       "2        NaN       NaN          NaN                NaN    0.421       3.288   \n",
       "3        NaN       NaN          NaN                NaN    0.421      12.560   \n",
       "4        NaN       NaN          NaN                NaN    0.421      17.740   \n",
       "\n",
       "   CADD_RAW BLOSUM62  \n",
       "0  1.133255     -2.0  \n",
       "1  0.599088      NaN  \n",
       "2  0.069819      1.0  \n",
       "3  1.356499      NaN  \n",
       "4  2.234711      NaN  \n",
       "\n",
       "[5 rows x 46 columns]"
      ]
     },
     "execution_count": 2,
     "metadata": {},
     "output_type": "execute_result"
    }
   ],
   "source": [
    "df = pd.read_csv('clinvar_conflicting.csv')\n",
    "df.head()"
   ]
  },
  {
   "cell_type": "code",
   "execution_count": 3,
   "metadata": {},
   "outputs": [
    {
     "name": "stdout",
     "output_type": "stream",
     "text": [
      "<class 'pandas.core.frame.DataFrame'>\n",
      "RangeIndex: 65188 entries, 0 to 65187\n",
      "Data columns (total 46 columns):\n",
      "CHROM                 65188 non-null object\n",
      "POS                   65188 non-null int64\n",
      "REF                   65188 non-null object\n",
      "ALT                   65188 non-null object\n",
      "AF_ESP                65188 non-null float64\n",
      "AF_EXAC               65188 non-null float64\n",
      "AF_TGP                65188 non-null float64\n",
      "CLNDISDB              65188 non-null object\n",
      "CLNDISDBINCL          76 non-null object\n",
      "CLNDN                 65188 non-null object\n",
      "CLNDNINCL             76 non-null object\n",
      "CLNHGVS               65188 non-null object\n",
      "CLNSIGINCL            76 non-null object\n",
      "CLNVC                 65188 non-null object\n",
      "CLNVI                 27659 non-null object\n",
      "MC                    58219 non-null object\n",
      "ORIGIN                59065 non-null float64\n",
      "SSR                   104 non-null float64\n",
      "CLASS                 65188 non-null int64\n",
      "Allele                65188 non-null object\n",
      "Consequence           65188 non-null object\n",
      "IMPACT                65188 non-null object\n",
      "SYMBOL                65172 non-null object\n",
      "Feature_type          65174 non-null object\n",
      "Feature               65174 non-null object\n",
      "BIOTYPE               65172 non-null object\n",
      "EXON                  56295 non-null object\n",
      "INTRON                8803 non-null object\n",
      "cDNA_position         56304 non-null object\n",
      "CDS_position          55233 non-null object\n",
      "Protein_position      55233 non-null object\n",
      "Amino_acids           55184 non-null object\n",
      "Codons                55184 non-null object\n",
      "DISTANCE              108 non-null float64\n",
      "STRAND                65174 non-null float64\n",
      "BAM_EDIT              31969 non-null object\n",
      "SIFT                  24836 non-null object\n",
      "PolyPhen              24796 non-null object\n",
      "MOTIF_NAME            2 non-null object\n",
      "MOTIF_POS             2 non-null float64\n",
      "HIGH_INF_POS          2 non-null object\n",
      "MOTIF_SCORE_CHANGE    2 non-null float64\n",
      "LoFtool               60975 non-null float64\n",
      "CADD_PHRED            64096 non-null float64\n",
      "CADD_RAW              64096 non-null float64\n",
      "BLOSUM62              25593 non-null float64\n",
      "dtypes: float64(13), int64(2), object(31)\n",
      "memory usage: 22.9+ MB\n"
     ]
    }
   ],
   "source": [
    "df.info()"
   ]
  },
  {
   "cell_type": "markdown",
   "metadata": {},
   "source": [
    "# Scrubbing the Data\n",
    "\n",
    "There seem to be a number of feilds with missing data and incorrect types. In this section, I scrub the dataset squeaky-clean."
   ]
  },
  {
   "cell_type": "markdown",
   "metadata": {},
   "source": [
    "## Very Low Incidence Features\n",
    "\n",
    "Here I drop features with under 600 entries (1% of dataset)."
   ]
  },
  {
   "cell_type": "code",
   "execution_count": 4,
   "metadata": {},
   "outputs": [],
   "source": [
    "df = df.drop(['CLNDISDBINCL', 'CLNDNINCL', 'CLNSIGINCL', 'SSR', 'DISTANCE', 'MOTIF_NAME', 'MOTIF_POS', 'HIGH_INF_POS', 'MOTIF_SCORE_CHANGE'], axis = 1)"
   ]
  },
  {
   "cell_type": "markdown",
   "metadata": {},
   "source": [
    "## Low Incidence Features\n",
    "\n",
    "Here I dichotomize features that are present for less than half the dataset, 1 indicating that data are present, 0 otherwise."
   ]
  },
  {
   "cell_type": "code",
   "execution_count": 5,
   "metadata": {},
   "outputs": [
    {
     "name": "stdout",
     "output_type": "stream",
     "text": [
      "0    37529\n",
      "1    27659\n",
      "Name: CLNVI, dtype: int64\n",
      "0    56385\n",
      "1     8803\n",
      "Name: INTRON, dtype: int64\n",
      "0    33219\n",
      "1    31969\n",
      "Name: BAM_EDIT, dtype: int64\n",
      "0    40352\n",
      "1    24836\n",
      "Name: SIFT, dtype: int64\n",
      "0    40392\n",
      "1    24796\n",
      "Name: PolyPhen, dtype: int64\n",
      "0    39595\n",
      "1    25593\n",
      "Name: BLOSUM62, dtype: int64\n"
     ]
    }
   ],
   "source": [
    "for var in ['CLNVI', 'INTRON', 'BAM_EDIT', 'SIFT', 'PolyPhen', 'BLOSUM62']:\n",
    "    df[var] = df[var].apply(lambda x: 1 if x == x else 0).astype('category')\n",
    "    print(df[var].value_counts())"
   ]
  },
  {
   "cell_type": "markdown",
   "metadata": {},
   "source": [
    "## Target: CLASS\n",
    "\n",
    "The CLASS vartible is the target variable, which indicates whether there were conflicting submissions."
   ]
  },
  {
   "cell_type": "code",
   "execution_count": 6,
   "metadata": {},
   "outputs": [],
   "source": [
    "df.rename({'CLASS': 'target'}, inplace = True)"
   ]
  },
  {
   "cell_type": "markdown",
   "metadata": {},
   "source": [
    "## CHROM\n",
    "\n",
    "This variable captures the chromosome on which the variant is located. This should be a categorical variable."
   ]
  },
  {
   "cell_type": "code",
   "execution_count": 7,
   "metadata": {},
   "outputs": [
    {
     "data": {
      "text/plain": [
       "2     8645\n",
       "17    5394\n",
       "11    4846\n",
       "1     4454\n",
       "19    3911\n",
       "5     3643\n",
       "7     2867\n",
       "16    2771\n",
       "12    2750\n",
       "9     2744\n",
       "13    2646\n",
       "3     2529\n",
       "10    2341\n",
       "6     2159\n",
       "14    1974\n",
       "X     1926\n",
       "8     1852\n",
       "15    1725\n",
       "4     1206\n",
       "16    1156\n",
       "22    1135\n",
       "18     896\n",
       "21     843\n",
       "20     759\n",
       "MT      16\n",
       "Name: CHROM, dtype: int64"
      ]
     },
     "execution_count": 7,
     "metadata": {},
     "output_type": "execute_result"
    }
   ],
   "source": [
    "df['CHROM'].value_counts()"
   ]
  },
  {
   "cell_type": "code",
   "execution_count": 8,
   "metadata": {},
   "outputs": [],
   "source": [
    "df['CHROM'] = df['CHROM'].astype('category')"
   ]
  },
  {
   "cell_type": "markdown",
   "metadata": {},
   "source": [
    "## POS\n",
    "\n",
    "This variable captures position of the gene on the chromosome. Will need to treat this with care in analysis, since it depends on CHROM."
   ]
  },
  {
   "cell_type": "code",
   "execution_count": 9,
   "metadata": {},
   "outputs": [
    {
     "data": {
      "text/plain": [
       "count    6.518800e+04\n",
       "mean     7.757594e+07\n",
       "std      5.974051e+07\n",
       "min      9.610000e+02\n",
       "25%      3.254179e+07\n",
       "50%      5.797021e+07\n",
       "75%      1.127454e+08\n",
       "max      2.476080e+08\n",
       "Name: POS, dtype: float64"
      ]
     },
     "execution_count": 9,
     "metadata": {},
     "output_type": "execute_result"
    }
   ],
   "source": [
    "df['POS'].describe()"
   ]
  },
  {
   "cell_type": "markdown",
   "metadata": {},
   "source": [
    "## REF, ALT, Allele\n",
    "\n",
    "These variables are for capture variant alleles - should be categorical."
   ]
  },
  {
   "cell_type": "code",
   "execution_count": 10,
   "metadata": {},
   "outputs": [
    {
     "name": "stdout",
     "output_type": "stream",
     "text": [
      "C     21798\n",
      "G     21361\n",
      "A      9845\n",
      "T      9421\n",
      "CT      126\n",
      "GC      113\n",
      "TG      105\n",
      "AG      104\n",
      "AC      103\n",
      "GA       91\n",
      "Name: REF, dtype: int64\n",
      "T     20409\n",
      "A     20205\n",
      "G     11782\n",
      "C     11429\n",
      "TA      118\n",
      "CT       93\n",
      "CA       77\n",
      "AT       75\n",
      "GA       67\n",
      "GT       64\n",
      "Name: ALT, dtype: int64\n",
      "T     19991\n",
      "A     19800\n",
      "G     11397\n",
      "C     10761\n",
      "-      2510\n",
      "AA       46\n",
      "TT       38\n",
      "AT       20\n",
      "CA       19\n",
      "CT       17\n",
      "Name: Allele, dtype: int64\n"
     ]
    }
   ],
   "source": [
    "for var in ['REF', 'ALT', 'Allele']:\n",
    "    print(df[var].value_counts()[0:10])"
   ]
  },
  {
   "cell_type": "markdown",
   "metadata": {},
   "source": [
    "There are a lot of low-frequency categories - I will lump them together into an \"other\" category."
   ]
  },
  {
   "cell_type": "code",
   "execution_count": 11,
   "metadata": {},
   "outputs": [],
   "source": [
    "for var in ['REF', 'ALT', 'Allele']:\n",
    "    df[var] = df[var].apply(lambda x: 'O' if x not in ['A', 'C', 'G', 'T'] else x)"
   ]
  },
  {
   "cell_type": "markdown",
   "metadata": {},
   "source": [
    "## AF_ESP, AF_EXAC, and AF_TGP\n",
    "\n",
    "These variables capture the allele frequency as found in other datasets. They are almost all zero, so I dichotomize them into zero vs non-zero."
   ]
  },
  {
   "cell_type": "code",
   "execution_count": 12,
   "metadata": {},
   "outputs": [
    {
     "data": {
      "text/html": [
       "<div>\n",
       "<style scoped>\n",
       "    .dataframe tbody tr th:only-of-type {\n",
       "        vertical-align: middle;\n",
       "    }\n",
       "\n",
       "    .dataframe tbody tr th {\n",
       "        vertical-align: top;\n",
       "    }\n",
       "\n",
       "    .dataframe thead th {\n",
       "        text-align: right;\n",
       "    }\n",
       "</style>\n",
       "<table border=\"1\" class=\"dataframe\">\n",
       "  <thead>\n",
       "    <tr style=\"text-align: right;\">\n",
       "      <th></th>\n",
       "      <th>AF_ESP</th>\n",
       "      <th>AF_EXAC</th>\n",
       "      <th>AF_TGP</th>\n",
       "    </tr>\n",
       "  </thead>\n",
       "  <tbody>\n",
       "    <tr>\n",
       "      <th>count</th>\n",
       "      <td>65188.000000</td>\n",
       "      <td>65188.000000</td>\n",
       "      <td>65188.000000</td>\n",
       "    </tr>\n",
       "    <tr>\n",
       "      <th>mean</th>\n",
       "      <td>0.014511</td>\n",
       "      <td>0.014492</td>\n",
       "      <td>0.015263</td>\n",
       "    </tr>\n",
       "    <tr>\n",
       "      <th>std</th>\n",
       "      <td>0.057795</td>\n",
       "      <td>0.059542</td>\n",
       "      <td>0.059527</td>\n",
       "    </tr>\n",
       "    <tr>\n",
       "      <th>min</th>\n",
       "      <td>0.000000</td>\n",
       "      <td>0.000000</td>\n",
       "      <td>0.000000</td>\n",
       "    </tr>\n",
       "    <tr>\n",
       "      <th>25%</th>\n",
       "      <td>0.000000</td>\n",
       "      <td>0.000000</td>\n",
       "      <td>0.000000</td>\n",
       "    </tr>\n",
       "    <tr>\n",
       "      <th>50%</th>\n",
       "      <td>0.000000</td>\n",
       "      <td>0.000040</td>\n",
       "      <td>0.000000</td>\n",
       "    </tr>\n",
       "    <tr>\n",
       "      <th>75%</th>\n",
       "      <td>0.001200</td>\n",
       "      <td>0.001230</td>\n",
       "      <td>0.001600</td>\n",
       "    </tr>\n",
       "    <tr>\n",
       "      <th>max</th>\n",
       "      <td>0.499000</td>\n",
       "      <td>0.499890</td>\n",
       "      <td>0.499800</td>\n",
       "    </tr>\n",
       "  </tbody>\n",
       "</table>\n",
       "</div>"
      ],
      "text/plain": [
       "             AF_ESP       AF_EXAC        AF_TGP\n",
       "count  65188.000000  65188.000000  65188.000000\n",
       "mean       0.014511      0.014492      0.015263\n",
       "std        0.057795      0.059542      0.059527\n",
       "min        0.000000      0.000000      0.000000\n",
       "25%        0.000000      0.000000      0.000000\n",
       "50%        0.000000      0.000040      0.000000\n",
       "75%        0.001200      0.001230      0.001600\n",
       "max        0.499000      0.499890      0.499800"
      ]
     },
     "execution_count": 12,
     "metadata": {},
     "output_type": "execute_result"
    }
   ],
   "source": [
    "df[['AF_ESP', 'AF_EXAC', 'AF_TGP']].describe()"
   ]
  },
  {
   "cell_type": "code",
   "execution_count": 13,
   "metadata": {},
   "outputs": [
    {
     "data": {
      "text/plain": [
       "array([[<matplotlib.axes._subplots.AxesSubplot object at 0x0000017640E22EF0>,\n",
       "        <matplotlib.axes._subplots.AxesSubplot object at 0x00000176423E38D0>],\n",
       "       [<matplotlib.axes._subplots.AxesSubplot object at 0x000001764240AB38>,\n",
       "        <matplotlib.axes._subplots.AxesSubplot object at 0x0000017642433DA0>]],\n",
       "      dtype=object)"
      ]
     },
     "execution_count": 13,
     "metadata": {},
     "output_type": "execute_result"
    },
    {
     "data": {
      "image/png": "[encoded data removed]",
      "text/plain": [
       "<Figure size 432x288 with 4 Axes>"
      ]
     },
     "metadata": {
      "needs_background": "light"
     },
     "output_type": "display_data"
    }
   ],
   "source": [
    "df[['AF_ESP', 'AF_EXAC', 'AF_TGP']].hist()"
   ]
  },
  {
   "cell_type": "code",
   "execution_count": 14,
   "metadata": {},
   "outputs": [],
   "source": [
    "df['AF_ESP'] = df['AF_ESP'].apply(lambda x: 1 if x > 0 else 0).astype('category')\n",
    "df['AF_EXAC'] = df['AF_EXAC'].apply(lambda x: 1 if x > 0 else 0).astype('category')\n",
    "df['AF_TGP'] = df['AF_TGP'].apply(lambda x: 1 if x > 0 else 0).astype('category')"
   ]
  },
  {
   "cell_type": "markdown",
   "metadata": {},
   "source": [
    "## CLNDISDB\n",
    "\n",
    "This variable contains IDs for diseases in other databases. This variable has a large number of values, so it will be difficult to use it. I see that different values for this variable often contain the same identifiedrs, making the values arguable not unique (e.g. 'MedGen:CN169374' appears in multiple values). I choose to drop it."
   ]
  },
  {
   "cell_type": "code",
   "execution_count": 15,
   "metadata": {},
   "outputs": [
    {
     "name": "stdout",
     "output_type": "stream",
     "text": [
      "9234\n"
     ]
    },
    {
     "data": {
      "text/plain": [
       "MedGen:CN169374                                                                                             5344\n",
       "MedGen:C0027672,SNOMED_CT:699346009|MedGen:CN169374                                                         1724\n",
       "MedGen:CN169374|MedGen:CN517202                                                                             1398\n",
       "MedGen:C0027672,SNOMED_CT:699346009                                                                         1139\n",
       "MedGen:C1837342,OMIM:608807,Orphanet:ORPHA140922|MedGen:C1858763,OMIM:604145|MedGen:CN169374                 913\n",
       "MedGen:C0020445,OMIM:143890,SNOMED_CT:397915002,SNOMED_CT:398036000                                          732\n",
       "MedGen:C0004135,OMIM:208900,Orphanet:ORPHA100,SNOMED_CT:68504005|MedGen:C0027672,SNOMED_CT:699346009         608\n",
       "MedGen:C0027672,SNOMED_CT:699346009|MedGen:C0346153,OMIM:114480,Orphanet:ORPHA227535,SNOMED_CT:254843006     561\n",
       "Human_Phenotype_Ontology:HP:0012265,MedGen:C0008780,Orphanet:ORPHA244|MedGen:CN169374                        526\n",
       "MedGen:C0027672,SNOMED_CT:699346009|MedGen:C0027831,OMIM:162200,Orphanet:ORPHA636,SNOMED_CT:92824003         513\n",
       "Name: CLNDISDB, dtype: int64"
      ]
     },
     "execution_count": 15,
     "metadata": {},
     "output_type": "execute_result"
    }
   ],
   "source": [
    "print(len(df['CLNDISDB'].unique()))\n",
    "df['CLNDISDB'].value_counts()[0:10]"
   ]
  },
  {
   "cell_type": "code",
   "execution_count": 16,
   "metadata": {},
   "outputs": [],
   "source": [
    "df = df.drop('CLNDISDB', axis = 1)"
   ]
  },
  {
   "cell_type": "markdown",
   "metadata": {},
   "source": [
    "## CLNDN\n",
    "\n",
    "This captures the preferred disease name using the identifiers from CLNDISDB. This may be cleaner than the other variable, and is probably important for prediction, so I will attempt to clean it."
   ]
  },
  {
   "cell_type": "code",
   "execution_count": 17,
   "metadata": {},
   "outputs": [
    {
     "name": "stdout",
     "output_type": "stream",
     "text": [
      "9260\n"
     ]
    },
    {
     "data": {
      "text/plain": [
       "not_specified                                                                                 5344\n",
       "Hereditary_cancer-predisposing_syndrome|not_specified                                         1724\n",
       "not_specified|not_provided                                                                    1398\n",
       "Hereditary_cancer-predisposing_syndrome                                                       1139\n",
       "Limb-girdle_muscular_dystrophy,_type_2J|Dilated_cardiomyopathy_1G|not_specified                913\n",
       "Familial_hypercholesterolemia                                                                  732\n",
       "Ataxia-telangiectasia_syndrome|Hereditary_cancer-predisposing_syndrome                         608\n",
       "Hereditary_cancer-predisposing_syndrome|Familial_cancer_of_breast                              561\n",
       "Ciliary_dyskinesia|not_specified                                                               526\n",
       "Hereditary_cancer-predisposing_syndrome|Neurofibromatosis,_type_1                              513\n",
       "Ataxia-telangiectasia_syndrome|Hereditary_cancer-predisposing_syndrome|not_specified           469\n",
       "Hereditary_cancer-predisposing_syndrome|not_provided                                           456\n",
       "Hereditary_cancer-predisposing_syndrome|Familial_cancer_of_breast|not_specified                450\n",
       "Hereditary_nonpolyposis_colon_cancer|Hereditary_cancer-predisposing_syndrome                   435\n",
       "Hereditary_nonpolyposis_colon_cancer|Hereditary_cancer-predisposing_syndrome|not_specified     397\n",
       "Hereditary_cancer-predisposing_syndrome|Hereditary_breast_and_ovarian_cancer_syndrome          384\n",
       "Hereditary_cancer-predisposing_syndrome|Familial_adenomatous_polyposis_1                       368\n",
       "Hereditary_cancer-predisposing_syndrome|Lynch_syndrome                                         360\n",
       "Hereditary_cancer-predisposing_syndrome|Rhabdoid_tumor_predisposition_syndrome_2               338\n",
       "Hereditary_cancer-predisposing_syndrome|Familial_adenomatous_polyposis_1|not_specified         271\n",
       "Name: CLNDN, dtype: int64"
      ]
     },
     "execution_count": 17,
     "metadata": {},
     "output_type": "execute_result"
    }
   ],
   "source": [
    "print(len(df['CLNDN'].unique()))\n",
    "df['CLNDN'].value_counts()[0:20]"
   ]
  },
  {
   "cell_type": "markdown",
   "metadata": {},
   "source": [
    "Each value is a list of diseases. It seems like I could clean this by creating dummy variables for specific common diseases in each list. I will create dummies for the top 100 diseases."
   ]
  },
  {
   "cell_type": "code",
   "execution_count": 18,
   "metadata": {
    "scrolled": true
   },
   "outputs": [
    {
     "name": "stdout",
     "output_type": "stream",
     "text": [
      "not_specified                                    45547.0\n",
      "Hereditary_cancer-predisposing_syndrome          18367.0\n",
      "not_provided                                     13020.0\n",
      "Hereditary_breast_and_ovarian_cancer_syndrome     2058.0\n",
      "Familial_cancer_of_breast                         1977.0\n",
      "Dilated_cardiomyopathy_1G                         1951.0\n",
      "Limb-girdle_muscular_dystrophy,_type_2J           1920.0\n",
      "Cardiovascular_phenotype                          1853.0\n",
      "Hypertrophic_cardiomyopathy                       1556.0\n",
      "Ataxia-telangiectasia_syndrome                    1510.0\n",
      "dtype: float64\n",
      "['not_specified', 'Hereditary_cancer-predisposing_syndrome', 'not_provided', 'Hereditary_breast_and_ovarian_cancer_syndrome', 'Familial_cancer_of_breast', 'Dilated_cardiomyopathy_1G', 'Limb-girdle_muscular_dystrophy,_type_2J', 'Cardiovascular_phenotype', 'Hypertrophic_cardiomyopathy', 'Ataxia-telangiectasia_syndrome']\n"
     ]
    }
   ],
   "source": [
    "name_df = df['CLNDN'].str.split(pat = '|', expand = True)\n",
    "name_df.head()\n",
    "top_100_dn = name_df.apply(pd.value_counts).sum(axis=1).sort_values(ascending = False)[0:100]\n",
    "print(top_100_dn[0:10])\n",
    "\n",
    "top_100_dn_list = list(top_100_dn.index)\n",
    "print(top_100_dn_list[0:10])"
   ]
  },
  {
   "cell_type": "code",
   "execution_count": 19,
   "metadata": {},
   "outputs": [],
   "source": [
    "for dn in top_100_dn_list:\n",
    "    df[dn] = df['CLNDN'].apply(lambda x: 1 if dn in x else 0).astype('category')\n",
    "df = df.drop('CLNDN', axis = 1)"
   ]
  },
  {
   "cell_type": "code",
   "execution_count": 20,
   "metadata": {},
   "outputs": [
    {
     "name": "stdout",
     "output_type": "stream",
     "text": [
      "Index(['CHROM', 'POS', 'REF', 'ALT', 'AF_ESP', 'AF_EXAC', 'AF_TGP', 'CLNHGVS',\n",
      "       'CLNVC', 'CLNVI',\n",
      "       ...\n",
      "       'Ehlers-Danlos_syndrome,_type_7A', 'Cardiomyopathy',\n",
      "       'Congenital_contractural_arachnodactyly',\n",
      "       'Cardiomyopathy_dilated_with_woolly_hair_and_keratoderma',\n",
      "       'Romano-Ward_syndrome', 'Charcot-Marie-Tooth,_Type_4',\n",
      "       'PTEN_hamartoma_tumor_syndrome', 'Nemaline_Myopathy,_Recessive',\n",
      "       'Renal_cell_carcinoma,_papillary,_1', 'Hereditary_cutaneous_melanoma'],\n",
      "      dtype='object', length=135)\n"
     ]
    }
   ],
   "source": [
    "print(df.columns)"
   ]
  },
  {
   "cell_type": "markdown",
   "metadata": {},
   "source": [
    "## CLNHGVS\n",
    "\n",
    "This variable is all unique values that I don't understand related to HGVS expression. I choose to drop it."
   ]
  },
  {
   "cell_type": "code",
   "execution_count": 21,
   "metadata": {},
   "outputs": [
    {
     "name": "stdout",
     "output_type": "stream",
     "text": [
      "65188\n"
     ]
    }
   ],
   "source": [
    "print(len(df['CLNHGVS'].unique()))\n",
    "df = df.drop('CLNHGVS', axis = 1)"
   ]
  },
  {
   "cell_type": "markdown",
   "metadata": {},
   "source": [
    "## MC\n",
    "\n",
    "Molecular consequence is a categorical variable, need to clean up rare values. Since values are lists of consequences, I will do this similarly to how I did it for the names, splitting up the series and coding dummies."
   ]
  },
  {
   "cell_type": "code",
   "execution_count": 22,
   "metadata": {},
   "outputs": [
    {
     "data": {
      "text/plain": [
       "SO:0001583|missense_variant                                   23034\n",
       "SO:0001819|synonymous_variant                                 16549\n",
       "SO:0001627|intron_variant                                      7534\n",
       "SO:0001583|missense_variant,SO:0001627|intron_variant          2422\n",
       "SO:0001589|frameshift_variant                                  1622\n",
       "SO:0001587|nonsense                                            1573\n",
       "SO:0001627|intron_variant,SO:0001819|synonymous_variant        1148\n",
       "SO:0001583|missense_variant,SO:0001623|5_prime_UTR_variant      599\n",
       "SO:0001623|5_prime_UTR_variant                                  516\n",
       "SO:0001575|splice_donor_variant                                 504\n",
       "Name: MC, dtype: int64"
      ]
     },
     "execution_count": 22,
     "metadata": {},
     "output_type": "execute_result"
    }
   ],
   "source": [
    "df['MC'].value_counts()[0:10]"
   ]
  },
  {
   "cell_type": "code",
   "execution_count": 23,
   "metadata": {},
   "outputs": [
    {
     "name": "stdout",
     "output_type": "stream",
     "text": [
      "missense_variant           26642.0\n",
      "SO:0001583                 26642.0\n",
      "synonymous_variant         18379.0\n",
      "SO:0001819                 18379.0\n",
      "intron_variant             11967.0\n",
      "SO:0001627                 11967.0\n",
      "5_prime_UTR_variant         1985.0\n",
      "SO:0001623                  1985.0\n",
      "SO:0001589                  1861.0\n",
      "frameshift_variant          1861.0\n",
      "nonsense                    1783.0\n",
      "SO:0001587                  1783.0\n",
      "3_prime_UTR_variant          704.0\n",
      "SO:0001624                   704.0\n",
      "splice_donor_variant         579.0\n",
      "SO:0001575                   579.0\n",
      "SO:0001636                   429.0\n",
      "2KB_upstream_variant         429.0\n",
      "SO:0001574                   428.0\n",
      "splice_acceptor_variant      428.0\n",
      "dtype: float64\n",
      "['missense_variant', 'synonymous_variant', 'intron_variant', '5_prime_UTR_variant', 'frameshift_variant', 'nonsense', '3_prime_UTR_variant', 'splice_donor_variant', '2KB_upstream_variant', 'splice_acceptor_variant']\n"
     ]
    }
   ],
   "source": [
    "name_df = df['MC'].str.split(pat = '[|,]', expand = True)\n",
    "name_df.head()\n",
    "top_mc = name_df.apply(pd.value_counts).sum(axis=1).sort_values(ascending = False)[0:20]\n",
    "print(top_mc)\n",
    "\n",
    "top_mc_list = [x for x in list(top_mc.index) if 'SO:' not in x]\n",
    "print(top_mc_list)"
   ]
  },
  {
   "cell_type": "code",
   "execution_count": 24,
   "metadata": {},
   "outputs": [
    {
     "name": "stdout",
     "output_type": "stream",
     "text": [
      "0    38546\n",
      "1    26642\n",
      "Name: missense_variant, dtype: int64\n",
      "0    46809\n",
      "1    18379\n",
      "Name: synonymous_variant, dtype: int64\n",
      "0    53221\n",
      "1    11967\n",
      "Name: intron_variant, dtype: int64\n",
      "0    63203\n",
      "1     1985\n",
      "Name: 5_prime_UTR_variant, dtype: int64\n",
      "0    63327\n",
      "1     1861\n",
      "Name: frameshift_variant, dtype: int64\n",
      "0    63405\n",
      "1     1783\n",
      "Name: nonsense, dtype: int64\n",
      "0    64484\n",
      "1      704\n",
      "Name: 3_prime_UTR_variant, dtype: int64\n",
      "0    64609\n",
      "1      579\n",
      "Name: splice_donor_variant, dtype: int64\n",
      "0    64759\n",
      "1      429\n",
      "Name: 2KB_upstream_variant, dtype: int64\n",
      "0    64760\n",
      "1      428\n",
      "Name: splice_acceptor_variant, dtype: int64\n"
     ]
    }
   ],
   "source": [
    "df['MC'] = df['MC'].fillna('unknown')\n",
    "for mc in top_mc_list:\n",
    "    df[mc] = df['MC'].apply(lambda x: 1 if mc in x else 0).astype('category')\n",
    "    print(df[mc].value_counts())\n",
    "df = df.drop('MC', axis = 1)"
   ]
  },
  {
   "cell_type": "markdown",
   "metadata": {},
   "source": [
    "## ORIGIN\n",
    "\n",
    "Here is the description: \"Allele origin. One or more of the following values may be added: 0 - unknown; 1 - germline; 2 - somatic; 4 - inherited; 8 - paternal; 16 - maternal; 32 - de-novo; 64 - biparental; 128 - uniparental; 256 - not-tested; 512 - tested-inconclusive; 1073741824 - other\" Since almost all have origin 1 (germline), I will recode this to have 0 for all other values to make it a dummy variable."
   ]
  },
  {
   "cell_type": "code",
   "execution_count": 25,
   "metadata": {},
   "outputs": [],
   "source": [
    "df['ORIGIN'] = df['ORIGIN'].fillna(0).apply(lambda x: 1 if x == 1.0 else 0).astype('category')"
   ]
  },
  {
   "cell_type": "markdown",
   "metadata": {},
   "source": [
    "## Consequence\n",
    "\n",
    "This variable is similar to MC, but with slightly different values. I'm not sure why. I will use it to update the MC dummy variables from before."
   ]
  },
  {
   "cell_type": "code",
   "execution_count": 26,
   "metadata": {},
   "outputs": [
    {
     "name": "stdout",
     "output_type": "stream",
     "text": [
      "missense_variant            32408.0\n",
      "synonymous_variant          18220.0\n",
      "intron_variant               7847.0\n",
      "splice_region_variant        5065.0\n",
      "frameshift_variant           1864.0\n",
      "stop_gained                  1800.0\n",
      "5_prime_UTR_variant           642.0\n",
      "inframe_deletion              593.0\n",
      "splice_donor_variant          584.0\n",
      "3_prime_UTR_variant           435.0\n",
      "splice_acceptor_variant       421.0\n",
      "inframe_insertion             204.0\n",
      "start_lost                    100.0\n",
      "upstream_gene_variant          82.0\n",
      "coding_sequence_variant        43.0\n",
      "downstream_gene_variant        26.0\n",
      "stop_lost                      16.0\n",
      "intergenic_variant             14.0\n",
      "stop_retained_variant          12.0\n",
      "protein_altering_variant       10.0\n",
      "dtype: float64\n"
     ]
    }
   ],
   "source": [
    "name_df = df['Consequence'].str.split(pat = '&', expand = True)\n",
    "name_df.head()\n",
    "top_mc = name_df.apply(pd.value_counts).sum(axis=1).sort_values(ascending = False)\n",
    "print(top_mc[0:20])"
   ]
  },
  {
   "cell_type": "code",
   "execution_count": 27,
   "metadata": {},
   "outputs": [
    {
     "name": "stdout",
     "output_type": "stream",
     "text": [
      "1    32783\n",
      "0    32405\n",
      "Name: missense_variant, dtype: int64\n",
      "0    46770\n",
      "1    18418\n",
      "Name: synonymous_variant, dtype: int64\n",
      "0    53145\n",
      "1    12043\n",
      "Name: intron_variant, dtype: int64\n",
      "0    63132\n",
      "1     2056\n",
      "Name: 5_prime_UTR_variant, dtype: int64\n",
      "0    63301\n",
      "1     1887\n",
      "Name: frameshift_variant, dtype: int64\n",
      "0    63405\n",
      "1     1783\n",
      "Name: nonsense, dtype: int64\n",
      "0    64431\n",
      "1      757\n",
      "Name: 3_prime_UTR_variant, dtype: int64\n",
      "0    64568\n",
      "1      620\n",
      "Name: splice_donor_variant, dtype: int64\n",
      "0    64759\n",
      "1      429\n",
      "Name: 2KB_upstream_variant, dtype: int64\n",
      "0    64741\n",
      "1      447\n",
      "Name: splice_acceptor_variant, dtype: int64\n"
     ]
    }
   ],
   "source": [
    "for mc in top_mc_list:\n",
    "    mc2 = mc + '2'\n",
    "    df[mc2] = df['Consequence'].apply(lambda x: 1 if mc in x else 0).astype('category')\n",
    "    df[mc] = df[[mc, mc2]].apply(lambda x: max(x[mc], x[mc2]), axis = 1).astype('category')\n",
    "    print(df[mc].value_counts())\n",
    "    df=df.drop(mc2, axis = 1)\n"
   ]
  },
  {
   "cell_type": "markdown",
   "metadata": {},
   "source": [
    "## IMPACT\n",
    "\n",
    "Categorical variable capturing variant impact"
   ]
  },
  {
   "cell_type": "code",
   "execution_count": 28,
   "metadata": {},
   "outputs": [
    {
     "data": {
      "text/plain": [
       "MODERATE    33212\n",
       "LOW         21642\n",
       "MODIFIER     5582\n",
       "HIGH         4752\n",
       "Name: IMPACT, dtype: int64"
      ]
     },
     "execution_count": 28,
     "metadata": {},
     "output_type": "execute_result"
    }
   ],
   "source": [
    "df['IMPACT'].value_counts()"
   ]
  },
  {
   "cell_type": "code",
   "execution_count": 29,
   "metadata": {},
   "outputs": [],
   "source": [
    "df['IMPACT'] = df['IMPACT'].astype('category')"
   ]
  },
  {
   "cell_type": "markdown",
   "metadata": {},
   "source": [
    "## SYMBOL\n",
    "\n"
   ]
  },
  {
   "cell_type": "code",
   "execution_count": null,
   "metadata": {},
   "outputs": [],
   "source": [
    "df.info()"
   ]
  },
  {
   "cell_type": "code",
   "execution_count": null,
   "metadata": {},
   "outputs": [],
   "source": []
  },
  {
   "cell_type": "code",
   "execution_count": null,
   "metadata": {},
   "outputs": [],
   "source": []
  },
  {
   "cell_type": "code",
   "execution_count": null,
   "metadata": {},
   "outputs": [],
   "source": []
  },
  {
   "cell_type": "code",
   "execution_count": null,
   "metadata": {},
   "outputs": [],
   "source": []
  },
  {
   "cell_type": "code",
   "execution_count": null,
   "metadata": {},
   "outputs": [],
   "source": []
  },
  {
   "cell_type": "code",
   "execution_count": null,
   "metadata": {},
   "outputs": [],
   "source": []
  },
  {
   "cell_type": "code",
   "execution_count": null,
   "metadata": {},
   "outputs": [],
   "source": []
  },
  {
   "cell_type": "code",
   "execution_count": null,
   "metadata": {},
   "outputs": [],
   "source": []
  },
  {
   "cell_type": "code",
   "execution_count": null,
   "metadata": {},
   "outputs": [],
   "source": []
  },
  {
   "cell_type": "code",
   "execution_count": null,
   "metadata": {},
   "outputs": [],
   "source": []
  },
  {
   "cell_type": "code",
   "execution_count": null,
   "metadata": {},
   "outputs": [],
   "source": []
  },
  {
   "cell_type": "code",
   "execution_count": null,
   "metadata": {},
   "outputs": [],
   "source": []
  },
  {
   "cell_type": "code",
   "execution_count": null,
   "metadata": {},
   "outputs": [],
   "source": []
  },
  {
   "cell_type": "code",
   "execution_count": null,
   "metadata": {},
   "outputs": [],
   "source": []
  },
  {
   "cell_type": "code",
   "execution_count": null,
   "metadata": {},
   "outputs": [],
   "source": []
  },
  {
   "cell_type": "code",
   "execution_count": null,
   "metadata": {},
   "outputs": [],
   "source": []
  },
  {
   "cell_type": "code",
   "execution_count": null,
   "metadata": {},
   "outputs": [],
   "source": []
  },
  {
   "cell_type": "code",
   "execution_count": null,
   "metadata": {},
   "outputs": [],
   "source": []
  }
 ],
 "metadata": {
  "kernelspec": {
   "display_name": "Python 3",
   "language": "python",
   "name": "python3"
  },
  "language_info": {
   "codemirror_mode": {
    "name": "ipython",
    "version": 3
   },
   "file_extension": ".py",
   "mimetype": "text/x-python",
   "name": "python",
   "nbconvert_exporter": "python",
   "pygments_lexer": "ipython3",
   "version": "3.7.0"
  }
 },
 "nbformat": 4,
 "nbformat_minor": 2
}
