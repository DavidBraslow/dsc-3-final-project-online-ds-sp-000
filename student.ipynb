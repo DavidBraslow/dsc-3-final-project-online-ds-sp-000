{
 "cells": [
  {
   "cell_type": "markdown",
   "metadata": {},
   "source": [
    "# Module 3 Final Project Submission\n",
    "\n",
    "Please fill out:\n",
    "* Student name: David Braslow\n",
    "* Student pace: self paced \n",
    "* Scheduled project review date/time: \n",
    "* Instructor name: Eli\n",
    "* Blog post URL: TBD\n",
    "* Data source: https://www.kaggle.com/kevinarvai/clinvar-conflicting/version/3\n"
   ]
  },
  {
   "cell_type": "markdown",
   "metadata": {},
   "source": [
    "# Overview\n",
    "\n",
    "This project uses a Kaggle dataset to predict gene classifications. In this dataset, we are given multiple genetic variants and various properties of each. Expert raters at different laboratories rated these variants based on their perceived clinical classifications, with ratings ranging from Benign to Pathogenic. The target variable is whether the raters have clinical classifications that are concordant, meaning that they are in the same clinical category.  "
   ]
  },
  {
   "cell_type": "markdown",
   "metadata": {},
   "source": [
    "## Initialization"
   ]
  },
  {
   "cell_type": "code",
   "execution_count": 1,
   "metadata": {},
   "outputs": [],
   "source": [
    "import pandas as pd\n",
    "import numpy as np\n",
    "import matplotlib.pyplot as plt\n",
    "import seaborn as sns\n",
    "\n",
    "%matplotlib inline"
   ]
  },
  {
   "cell_type": "markdown",
   "metadata": {},
   "source": [
    "# Obtaining the Data\n",
    "\n",
    "For this project, I downloaded the dataset from the Kaggle page as a csv."
   ]
  },
  {
   "cell_type": "code",
   "execution_count": 2,
   "metadata": {},
   "outputs": [
    {
     "name": "stderr",
     "output_type": "stream",
     "text": [
      "C:\\Users\\david_000\\Anaconda3\\lib\\site-packages\\IPython\\core\\interactiveshell.py:3018: DtypeWarning: Columns (0,38,40) have mixed types. Specify dtype option on import or set low_memory=False.\n",
      "  interactivity=interactivity, compiler=compiler, result=result)\n"
     ]
    },
    {
     "data": {
      "text/html": [
       "<div>\n",
       "<style scoped>\n",
       "    .dataframe tbody tr th:only-of-type {\n",
       "        vertical-align: middle;\n",
       "    }\n",
       "\n",
       "    .dataframe tbody tr th {\n",
       "        vertical-align: top;\n",
       "    }\n",
       "\n",
       "    .dataframe thead th {\n",
       "        text-align: right;\n",
       "    }\n",
       "</style>\n",
       "<table border=\"1\" class=\"dataframe\">\n",
       "  <thead>\n",
       "    <tr style=\"text-align: right;\">\n",
       "      <th></th>\n",
       "      <th>CHROM</th>\n",
       "      <th>POS</th>\n",
       "      <th>REF</th>\n",
       "      <th>ALT</th>\n",
       "      <th>AF_ESP</th>\n",
       "      <th>AF_EXAC</th>\n",
       "      <th>AF_TGP</th>\n",
       "      <th>CLNDISDB</th>\n",
       "      <th>CLNDISDBINCL</th>\n",
       "      <th>CLNDN</th>\n",
       "      <th>...</th>\n",
       "      <th>SIFT</th>\n",
       "      <th>PolyPhen</th>\n",
       "      <th>MOTIF_NAME</th>\n",
       "      <th>MOTIF_POS</th>\n",
       "      <th>HIGH_INF_POS</th>\n",
       "      <th>MOTIF_SCORE_CHANGE</th>\n",
       "      <th>LoFtool</th>\n",
       "      <th>CADD_PHRED</th>\n",
       "      <th>CADD_RAW</th>\n",
       "      <th>BLOSUM62</th>\n",
       "    </tr>\n",
       "  </thead>\n",
       "  <tbody>\n",
       "    <tr>\n",
       "      <th>0</th>\n",
       "      <td>1</td>\n",
       "      <td>955563</td>\n",
       "      <td>G</td>\n",
       "      <td>C</td>\n",
       "      <td>0.0000</td>\n",
       "      <td>0.00000</td>\n",
       "      <td>0.0000</td>\n",
       "      <td>MedGen:C3808739,OMIM:615120|MedGen:CN169374</td>\n",
       "      <td>NaN</td>\n",
       "      <td>Myasthenic_syndrome,_congenital,_8|not_specified</td>\n",
       "      <td>...</td>\n",
       "      <td>NaN</td>\n",
       "      <td>NaN</td>\n",
       "      <td>NaN</td>\n",
       "      <td>NaN</td>\n",
       "      <td>NaN</td>\n",
       "      <td>NaN</td>\n",
       "      <td>0.421</td>\n",
       "      <td>11.390</td>\n",
       "      <td>1.133255</td>\n",
       "      <td>-2.0</td>\n",
       "    </tr>\n",
       "    <tr>\n",
       "      <th>1</th>\n",
       "      <td>1</td>\n",
       "      <td>955597</td>\n",
       "      <td>G</td>\n",
       "      <td>T</td>\n",
       "      <td>0.0000</td>\n",
       "      <td>0.42418</td>\n",
       "      <td>0.2826</td>\n",
       "      <td>MedGen:CN169374</td>\n",
       "      <td>NaN</td>\n",
       "      <td>not_specified</td>\n",
       "      <td>...</td>\n",
       "      <td>NaN</td>\n",
       "      <td>NaN</td>\n",
       "      <td>NaN</td>\n",
       "      <td>NaN</td>\n",
       "      <td>NaN</td>\n",
       "      <td>NaN</td>\n",
       "      <td>0.421</td>\n",
       "      <td>8.150</td>\n",
       "      <td>0.599088</td>\n",
       "      <td>NaN</td>\n",
       "    </tr>\n",
       "    <tr>\n",
       "      <th>2</th>\n",
       "      <td>1</td>\n",
       "      <td>955619</td>\n",
       "      <td>G</td>\n",
       "      <td>C</td>\n",
       "      <td>0.0000</td>\n",
       "      <td>0.03475</td>\n",
       "      <td>0.0088</td>\n",
       "      <td>MedGen:C3808739,OMIM:615120|MedGen:CN169374</td>\n",
       "      <td>NaN</td>\n",
       "      <td>Myasthenic_syndrome,_congenital,_8|not_specified</td>\n",
       "      <td>...</td>\n",
       "      <td>NaN</td>\n",
       "      <td>NaN</td>\n",
       "      <td>NaN</td>\n",
       "      <td>NaN</td>\n",
       "      <td>NaN</td>\n",
       "      <td>NaN</td>\n",
       "      <td>0.421</td>\n",
       "      <td>3.288</td>\n",
       "      <td>0.069819</td>\n",
       "      <td>1.0</td>\n",
       "    </tr>\n",
       "    <tr>\n",
       "      <th>3</th>\n",
       "      <td>1</td>\n",
       "      <td>957640</td>\n",
       "      <td>C</td>\n",
       "      <td>T</td>\n",
       "      <td>0.0318</td>\n",
       "      <td>0.02016</td>\n",
       "      <td>0.0328</td>\n",
       "      <td>MedGen:C3808739,OMIM:615120|MedGen:CN169374</td>\n",
       "      <td>NaN</td>\n",
       "      <td>Myasthenic_syndrome,_congenital,_8|not_specified</td>\n",
       "      <td>...</td>\n",
       "      <td>NaN</td>\n",
       "      <td>NaN</td>\n",
       "      <td>NaN</td>\n",
       "      <td>NaN</td>\n",
       "      <td>NaN</td>\n",
       "      <td>NaN</td>\n",
       "      <td>0.421</td>\n",
       "      <td>12.560</td>\n",
       "      <td>1.356499</td>\n",
       "      <td>NaN</td>\n",
       "    </tr>\n",
       "    <tr>\n",
       "      <th>4</th>\n",
       "      <td>1</td>\n",
       "      <td>976059</td>\n",
       "      <td>C</td>\n",
       "      <td>T</td>\n",
       "      <td>0.0000</td>\n",
       "      <td>0.00022</td>\n",
       "      <td>0.0010</td>\n",
       "      <td>MedGen:CN169374</td>\n",
       "      <td>NaN</td>\n",
       "      <td>not_specified</td>\n",
       "      <td>...</td>\n",
       "      <td>NaN</td>\n",
       "      <td>NaN</td>\n",
       "      <td>NaN</td>\n",
       "      <td>NaN</td>\n",
       "      <td>NaN</td>\n",
       "      <td>NaN</td>\n",
       "      <td>0.421</td>\n",
       "      <td>17.740</td>\n",
       "      <td>2.234711</td>\n",
       "      <td>NaN</td>\n",
       "    </tr>\n",
       "  </tbody>\n",
       "</table>\n",
       "<p>5 rows × 46 columns</p>\n",
       "</div>"
      ],
      "text/plain": [
       "  CHROM     POS REF ALT  AF_ESP  AF_EXAC  AF_TGP  \\\n",
       "0     1  955563   G   C  0.0000  0.00000  0.0000   \n",
       "1     1  955597   G   T  0.0000  0.42418  0.2826   \n",
       "2     1  955619   G   C  0.0000  0.03475  0.0088   \n",
       "3     1  957640   C   T  0.0318  0.02016  0.0328   \n",
       "4     1  976059   C   T  0.0000  0.00022  0.0010   \n",
       "\n",
       "                                      CLNDISDB CLNDISDBINCL  \\\n",
       "0  MedGen:C3808739,OMIM:615120|MedGen:CN169374          NaN   \n",
       "1                              MedGen:CN169374          NaN   \n",
       "2  MedGen:C3808739,OMIM:615120|MedGen:CN169374          NaN   \n",
       "3  MedGen:C3808739,OMIM:615120|MedGen:CN169374          NaN   \n",
       "4                              MedGen:CN169374          NaN   \n",
       "\n",
       "                                              CLNDN   ...    SIFT PolyPhen  \\\n",
       "0  Myasthenic_syndrome,_congenital,_8|not_specified   ...     NaN      NaN   \n",
       "1                                     not_specified   ...     NaN      NaN   \n",
       "2  Myasthenic_syndrome,_congenital,_8|not_specified   ...     NaN      NaN   \n",
       "3  Myasthenic_syndrome,_congenital,_8|not_specified   ...     NaN      NaN   \n",
       "4                                     not_specified   ...     NaN      NaN   \n",
       "\n",
       "  MOTIF_NAME MOTIF_POS HIGH_INF_POS MOTIF_SCORE_CHANGE  LoFtool  CADD_PHRED  \\\n",
       "0        NaN       NaN          NaN                NaN    0.421      11.390   \n",
       "1        NaN       NaN          NaN                NaN    0.421       8.150   \n",
       "2        NaN       NaN          NaN                NaN    0.421       3.288   \n",
       "3        NaN       NaN          NaN                NaN    0.421      12.560   \n",
       "4        NaN       NaN          NaN                NaN    0.421      17.740   \n",
       "\n",
       "   CADD_RAW BLOSUM62  \n",
       "0  1.133255     -2.0  \n",
       "1  0.599088      NaN  \n",
       "2  0.069819      1.0  \n",
       "3  1.356499      NaN  \n",
       "4  2.234711      NaN  \n",
       "\n",
       "[5 rows x 46 columns]"
      ]
     },
     "execution_count": 2,
     "metadata": {},
     "output_type": "execute_result"
    }
   ],
   "source": [
    "df = pd.read_csv('clinvar_conflicting.csv')\n",
    "df.head()"
   ]
  },
  {
   "cell_type": "code",
   "execution_count": 3,
   "metadata": {},
   "outputs": [
    {
     "name": "stdout",
     "output_type": "stream",
     "text": [
      "<class 'pandas.core.frame.DataFrame'>\n",
      "RangeIndex: 65188 entries, 0 to 65187\n",
      "Data columns (total 46 columns):\n",
      "CHROM                 65188 non-null object\n",
      "POS                   65188 non-null int64\n",
      "REF                   65188 non-null object\n",
      "ALT                   65188 non-null object\n",
      "AF_ESP                65188 non-null float64\n",
      "AF_EXAC               65188 non-null float64\n",
      "AF_TGP                65188 non-null float64\n",
      "CLNDISDB              65188 non-null object\n",
      "CLNDISDBINCL          76 non-null object\n",
      "CLNDN                 65188 non-null object\n",
      "CLNDNINCL             76 non-null object\n",
      "CLNHGVS               65188 non-null object\n",
      "CLNSIGINCL            76 non-null object\n",
      "CLNVC                 65188 non-null object\n",
      "CLNVI                 27659 non-null object\n",
      "MC                    58219 non-null object\n",
      "ORIGIN                59065 non-null float64\n",
      "SSR                   104 non-null float64\n",
      "CLASS                 65188 non-null int64\n",
      "Allele                65188 non-null object\n",
      "Consequence           65188 non-null object\n",
      "IMPACT                65188 non-null object\n",
      "SYMBOL                65172 non-null object\n",
      "Feature_type          65174 non-null object\n",
      "Feature               65174 non-null object\n",
      "BIOTYPE               65172 non-null object\n",
      "EXON                  56295 non-null object\n",
      "INTRON                8803 non-null object\n",
      "cDNA_position         56304 non-null object\n",
      "CDS_position          55233 non-null object\n",
      "Protein_position      55233 non-null object\n",
      "Amino_acids           55184 non-null object\n",
      "Codons                55184 non-null object\n",
      "DISTANCE              108 non-null float64\n",
      "STRAND                65174 non-null float64\n",
      "BAM_EDIT              31969 non-null object\n",
      "SIFT                  24836 non-null object\n",
      "PolyPhen              24796 non-null object\n",
      "MOTIF_NAME            2 non-null object\n",
      "MOTIF_POS             2 non-null float64\n",
      "HIGH_INF_POS          2 non-null object\n",
      "MOTIF_SCORE_CHANGE    2 non-null float64\n",
      "LoFtool               60975 non-null float64\n",
      "CADD_PHRED            64096 non-null float64\n",
      "CADD_RAW              64096 non-null float64\n",
      "BLOSUM62              25593 non-null float64\n",
      "dtypes: float64(13), int64(2), object(31)\n",
      "memory usage: 22.9+ MB\n"
     ]
    }
   ],
   "source": [
    "df.info()"
   ]
  },
  {
   "cell_type": "markdown",
   "metadata": {},
   "source": [
    "# Scrubbing the Data\n",
    "\n",
    "There seem to be a number of feilds with missing data and incorrect types. In this section, I scrub the dataset squeaky-clean."
   ]
  },
  {
   "cell_type": "markdown",
   "metadata": {},
   "source": [
    "## CHROM\n",
    "\n",
    "This variable captures the chromosome on which the variant is located. This should be a categorical variable."
   ]
  },
  {
   "cell_type": "code",
   "execution_count": 4,
   "metadata": {},
   "outputs": [
    {
     "data": {
      "text/plain": [
       "2     8645\n",
       "17    5394\n",
       "11    4846\n",
       "1     4454\n",
       "19    3911\n",
       "5     3643\n",
       "7     2867\n",
       "16    2771\n",
       "12    2750\n",
       "9     2744\n",
       "13    2646\n",
       "3     2529\n",
       "10    2341\n",
       "6     2159\n",
       "14    1974\n",
       "X     1926\n",
       "8     1852\n",
       "15    1725\n",
       "4     1206\n",
       "16    1156\n",
       "22    1135\n",
       "18     896\n",
       "21     843\n",
       "20     759\n",
       "MT      16\n",
       "Name: CHROM, dtype: int64"
      ]
     },
     "execution_count": 4,
     "metadata": {},
     "output_type": "execute_result"
    }
   ],
   "source": [
    "df['CHROM'].value_counts()"
   ]
  },
  {
   "cell_type": "code",
   "execution_count": 5,
   "metadata": {},
   "outputs": [],
   "source": [
    "df['CHROM'] = df['CHROM'].astype('category')"
   ]
  },
  {
   "cell_type": "markdown",
   "metadata": {},
   "source": [
    "## POS\n",
    "\n",
    "This variable captures position of the gene on the chromosome. Will need to treat this with care in analysis, since it depends on CHROM."
   ]
  },
  {
   "cell_type": "code",
   "execution_count": 6,
   "metadata": {},
   "outputs": [
    {
     "data": {
      "text/plain": [
       "count    6.518800e+04\n",
       "mean     7.757594e+07\n",
       "std      5.974051e+07\n",
       "min      9.610000e+02\n",
       "25%      3.254179e+07\n",
       "50%      5.797021e+07\n",
       "75%      1.127454e+08\n",
       "max      2.476080e+08\n",
       "Name: POS, dtype: float64"
      ]
     },
     "execution_count": 6,
     "metadata": {},
     "output_type": "execute_result"
    }
   ],
   "source": [
    "df['POS'].describe()"
   ]
  },
  {
   "cell_type": "markdown",
   "metadata": {},
   "source": [
    "## REF and ALT\n",
    "\n",
    "These variables are for reference/alternative allele - should be categorical."
   ]
  },
  {
   "cell_type": "code",
   "execution_count": 7,
   "metadata": {},
   "outputs": [
    {
     "data": {
      "text/plain": [
       "C                                                                                                                                  21798\n",
       "G                                                                                                                                  21361\n",
       "A                                                                                                                                   9845\n",
       "T                                                                                                                                   9421\n",
       "CT                                                                                                                                   126\n",
       "GC                                                                                                                                   113\n",
       "TG                                                                                                                                   105\n",
       "AG                                                                                                                                   104\n",
       "AC                                                                                                                                   103\n",
       "GA                                                                                                                                    91\n",
       "CA                                                                                                                                    89\n",
       "TC                                                                                                                                    81\n",
       "TA                                                                                                                                    80\n",
       "AT                                                                                                                                    75\n",
       "CG                                                                                                                                    58\n",
       "CAG                                                                                                                                   51\n",
       "GT                                                                                                                                    48\n",
       "ACT                                                                                                                                   33\n",
       "CAT                                                                                                                                   33\n",
       "CTT                                                                                                                                   30\n",
       "CCTT                                                                                                                                  28\n",
       "CCT                                                                                                                                   25\n",
       "CTG                                                                                                                                   24\n",
       "TCTC                                                                                                                                  23\n",
       "CAA                                                                                                                                   21\n",
       "GAGA                                                                                                                                  20\n",
       "GAA                                                                                                                                   17\n",
       "CTA                                                                                                                                   16\n",
       "AAC                                                                                                                                   15\n",
       "AAAG                                                                                                                                  14\n",
       "                                                                                                                                   ...  \n",
       "CCTGGTGCTGGCG                                                                                                                          1\n",
       "GGATGGAATT                                                                                                                             1\n",
       "CTCTTA                                                                                                                                 1\n",
       "AGGTGAGCG                                                                                                                              1\n",
       "AACTG                                                                                                                                  1\n",
       "GTCCATCATCAGATTTATATTCTCTGTTAACAGAAGGAAAGAGATACAGAATTTATCATCTTGCAACTTCAAAATCTAAAAGTAAATCTGAAAGAGCTAACATACAGTTAGCAGCGACAAAAAAAAC        1\n",
       "ACCGCCGCCGCCGCCGCAGCAGCAGCAG                                                                                                           1\n",
       "GTGA                                                                                                                                   1\n",
       "CGGGCTCAGGTGGAGGTGG                                                                                                                    1\n",
       "AACTTCT                                                                                                                                1\n",
       "AACAGTTGT                                                                                                                              1\n",
       "AGATCATG                                                                                                                               1\n",
       "ATCG                                                                                                                                   1\n",
       "CTGCCAAGGA                                                                                                                             1\n",
       "AACACCCGCAAGAAGCCGGTAGTCT                                                                                                              1\n",
       "TGGTGCA                                                                                                                                1\n",
       "AAAAGT                                                                                                                                 1\n",
       "AATAAATAAATATATATAT                                                                                                                    1\n",
       "TGCTTTA                                                                                                                                1\n",
       "CTTACCT                                                                                                                                1\n",
       "ACGCTGCCTCTTCCTGCGGGCGAGG                                                                                                              1\n",
       "AATAACATAAC                                                                                                                            1\n",
       "GGCTGGCCGTGTTTGCC                                                                                                                      1\n",
       "CTGAG                                                                                                                                  1\n",
       "TTTA                                                                                                                                   1\n",
       "CAGGTGTGGCTCCTCAGCCTGCGGAGAT                                                                                                           1\n",
       "CTAAAGT                                                                                                                                1\n",
       "CAATAAATAAATA                                                                                                                          1\n",
       "ACCGCGACCGGAG                                                                                                                          1\n",
       "GTACT                                                                                                                                  1\n",
       "Name: REF, Length: 866, dtype: int64"
      ]
     },
     "execution_count": 7,
     "metadata": {},
     "output_type": "execute_result"
    }
   ],
   "source": [
    "df['REF'].value_counts()"
   ]
  },
  {
   "cell_type": "markdown",
   "metadata": {},
   "source": [
    "There are a lot of low-frequency categories - I will lump them together into an \"other\" category."
   ]
  },
  {
   "cell_type": "code",
   "execution_count": 8,
   "metadata": {},
   "outputs": [
    {
     "data": {
      "text/plain": [
       "T                           20409\n",
       "A                           20205\n",
       "G                           11782\n",
       "C                           11429\n",
       "TA                            118\n",
       "CT                             93\n",
       "CA                             77\n",
       "AT                             75\n",
       "GA                             67\n",
       "GT                             64\n",
       "TG                             51\n",
       "GC                             42\n",
       "AG                             40\n",
       "AC                             37\n",
       "TC                             33\n",
       "CG                             30\n",
       "AA                             30\n",
       "TT                             27\n",
       "TGCC                            8\n",
       "GAA                             8\n",
       "CTT                             7\n",
       "TAA                             6\n",
       "CC                              5\n",
       "CCAG                            5\n",
       "TTA                             5\n",
       "GAAA                            4\n",
       "TTC                             4\n",
       "GGCA                            4\n",
       "ATC                             4\n",
       "ACAGCAG                         4\n",
       "                            ...  \n",
       "AGCT                            1\n",
       "TACAAAACAAA                     1\n",
       "TACAG                           1\n",
       "ACCGT                           1\n",
       "AACGGTAC                        1\n",
       "CGACTGCTGCCTCACCGACTG           1\n",
       "CACTG                           1\n",
       "GGGA                            1\n",
       "GTGA                            1\n",
       "ATG                             1\n",
       "GATC                            1\n",
       "GTC                             1\n",
       "TCATCT                          1\n",
       "TTTA                            1\n",
       "TGCAGACATAGATGCCCCC             1\n",
       "CTGAG                           1\n",
       "CGT                             1\n",
       "TTTC                            1\n",
       "GACAT                           1\n",
       "TCTCCCAGAGGAAGTTATTCAAAA        1\n",
       "GGGGGC                          1\n",
       "TGCCGCGCCTCGTGGCCCC             1\n",
       "TGGTGCA                         1\n",
       "TTCTC                           1\n",
       "AGTAG                           1\n",
       "ATTAAT                          1\n",
       "CGGGGCGATGGGAGCTGGCCG           1\n",
       "GGGGG                           1\n",
       "AGCGTCATCTTCCTGAC               1\n",
       "CCCGG                           1\n",
       "Name: ALT, Length: 458, dtype: int64"
      ]
     },
     "execution_count": 8,
     "metadata": {},
     "output_type": "execute_result"
    }
   ],
   "source": [
    "df['ALT'].value_counts()"
   ]
  },
  {
   "cell_type": "code",
   "execution_count": 9,
   "metadata": {},
   "outputs": [],
   "source": [
    "df['REF'] = df['REF'].apply(lambda x: 'O' if x not in ['A', 'C', 'G', 'T'] else x)\n",
    "df['ALT'] = df['ALT'].apply(lambda x: 'O' if x not in ['A', 'C', 'G', 'T'] else x)"
   ]
  },
  {
   "cell_type": "markdown",
   "metadata": {},
   "source": [
    "## AF_ESP, AF_EXAC, and AF_TGP\n",
    "\n",
    "These variables capture the allele frequency as found in other datasets. They are almost all zero, so I dichotomize them into zero vs non-zero."
   ]
  },
  {
   "cell_type": "code",
   "execution_count": 10,
   "metadata": {},
   "outputs": [
    {
     "data": {
      "text/html": [
       "<div>\n",
       "<style scoped>\n",
       "    .dataframe tbody tr th:only-of-type {\n",
       "        vertical-align: middle;\n",
       "    }\n",
       "\n",
       "    .dataframe tbody tr th {\n",
       "        vertical-align: top;\n",
       "    }\n",
       "\n",
       "    .dataframe thead th {\n",
       "        text-align: right;\n",
       "    }\n",
       "</style>\n",
       "<table border=\"1\" class=\"dataframe\">\n",
       "  <thead>\n",
       "    <tr style=\"text-align: right;\">\n",
       "      <th></th>\n",
       "      <th>AF_ESP</th>\n",
       "      <th>AF_EXAC</th>\n",
       "      <th>AF_TGP</th>\n",
       "    </tr>\n",
       "  </thead>\n",
       "  <tbody>\n",
       "    <tr>\n",
       "      <th>count</th>\n",
       "      <td>65188.000000</td>\n",
       "      <td>65188.000000</td>\n",
       "      <td>65188.000000</td>\n",
       "    </tr>\n",
       "    <tr>\n",
       "      <th>mean</th>\n",
       "      <td>0.014511</td>\n",
       "      <td>0.014492</td>\n",
       "      <td>0.015263</td>\n",
       "    </tr>\n",
       "    <tr>\n",
       "      <th>std</th>\n",
       "      <td>0.057795</td>\n",
       "      <td>0.059542</td>\n",
       "      <td>0.059527</td>\n",
       "    </tr>\n",
       "    <tr>\n",
       "      <th>min</th>\n",
       "      <td>0.000000</td>\n",
       "      <td>0.000000</td>\n",
       "      <td>0.000000</td>\n",
       "    </tr>\n",
       "    <tr>\n",
       "      <th>25%</th>\n",
       "      <td>0.000000</td>\n",
       "      <td>0.000000</td>\n",
       "      <td>0.000000</td>\n",
       "    </tr>\n",
       "    <tr>\n",
       "      <th>50%</th>\n",
       "      <td>0.000000</td>\n",
       "      <td>0.000040</td>\n",
       "      <td>0.000000</td>\n",
       "    </tr>\n",
       "    <tr>\n",
       "      <th>75%</th>\n",
       "      <td>0.001200</td>\n",
       "      <td>0.001230</td>\n",
       "      <td>0.001600</td>\n",
       "    </tr>\n",
       "    <tr>\n",
       "      <th>max</th>\n",
       "      <td>0.499000</td>\n",
       "      <td>0.499890</td>\n",
       "      <td>0.499800</td>\n",
       "    </tr>\n",
       "  </tbody>\n",
       "</table>\n",
       "</div>"
      ],
      "text/plain": [
       "             AF_ESP       AF_EXAC        AF_TGP\n",
       "count  65188.000000  65188.000000  65188.000000\n",
       "mean       0.014511      0.014492      0.015263\n",
       "std        0.057795      0.059542      0.059527\n",
       "min        0.000000      0.000000      0.000000\n",
       "25%        0.000000      0.000000      0.000000\n",
       "50%        0.000000      0.000040      0.000000\n",
       "75%        0.001200      0.001230      0.001600\n",
       "max        0.499000      0.499890      0.499800"
      ]
     },
     "execution_count": 10,
     "metadata": {},
     "output_type": "execute_result"
    }
   ],
   "source": [
    "df[['AF_ESP', 'AF_EXAC', 'AF_TGP']].describe()"
   ]
  },
  {
   "cell_type": "code",
   "execution_count": 11,
   "metadata": {},
   "outputs": [
    {
     "data": {
      "text/plain": [
       "array([[<matplotlib.axes._subplots.AxesSubplot object at 0x000001A01D94E240>,\n",
       "        <matplotlib.axes._subplots.AxesSubplot object at 0x000001A01DD8D588>],\n",
       "       [<matplotlib.axes._subplots.AxesSubplot object at 0x000001A01DDB87B8>,\n",
       "        <matplotlib.axes._subplots.AxesSubplot object at 0x000001A01DDE0A20>]],\n",
       "      dtype=object)"
      ]
     },
     "execution_count": 11,
     "metadata": {},
     "output_type": "execute_result"
    },
    {
     "data": {
      "image/png": "[encoded data removed]",
      "text/plain": [
       "<Figure size 432x288 with 4 Axes>"
      ]
     },
     "metadata": {
      "needs_background": "light"
     },
     "output_type": "display_data"
    }
   ],
   "source": [
    "df[['AF_ESP', 'AF_EXAC', 'AF_TGP']].hist()"
   ]
  },
  {
   "cell_type": "code",
   "execution_count": 12,
   "metadata": {},
   "outputs": [],
   "source": [
    "df['AF_ESP'] = df['AF_ESP'].apply(lambda x: 1 if x > 0 else 0).astype('category')\n",
    "df['AF_EXAC'] = df['AF_EXAC'].apply(lambda x: 1 if x > 0 else 0).astype('category')\n",
    "df['AF_TGP'] = df['AF_TGP'].apply(lambda x: 1 if x > 0 else 0).astype('category')"
   ]
  },
  {
   "cell_type": "markdown",
   "metadata": {},
   "source": [
    "## CLNDISDB\n",
    "\n",
    "This variable contains IDs for diseases in other databases. This variable has a large number of values, so it will be difficult to use it. I see that different values for this variable often contain the same identifiedrs, making the values arguable not unique (e.g. 'MedGen:CN169374' appears in multiple values). I choose to drop it."
   ]
  },
  {
   "cell_type": "code",
   "execution_count": 13,
   "metadata": {},
   "outputs": [
    {
     "name": "stdout",
     "output_type": "stream",
     "text": [
      "9234\n"
     ]
    },
    {
     "data": {
      "text/plain": [
       "MedGen:CN169374                                                                                             5344\n",
       "MedGen:C0027672,SNOMED_CT:699346009|MedGen:CN169374                                                         1724\n",
       "MedGen:CN169374|MedGen:CN517202                                                                             1398\n",
       "MedGen:C0027672,SNOMED_CT:699346009                                                                         1139\n",
       "MedGen:C1837342,OMIM:608807,Orphanet:ORPHA140922|MedGen:C1858763,OMIM:604145|MedGen:CN169374                 913\n",
       "MedGen:C0020445,OMIM:143890,SNOMED_CT:397915002,SNOMED_CT:398036000                                          732\n",
       "MedGen:C0004135,OMIM:208900,Orphanet:ORPHA100,SNOMED_CT:68504005|MedGen:C0027672,SNOMED_CT:699346009         608\n",
       "MedGen:C0027672,SNOMED_CT:699346009|MedGen:C0346153,OMIM:114480,Orphanet:ORPHA227535,SNOMED_CT:254843006     561\n",
       "Human_Phenotype_Ontology:HP:0012265,MedGen:C0008780,Orphanet:ORPHA244|MedGen:CN169374                        526\n",
       "MedGen:C0027672,SNOMED_CT:699346009|MedGen:C0027831,OMIM:162200,Orphanet:ORPHA636,SNOMED_CT:92824003         513\n",
       "Name: CLNDISDB, dtype: int64"
      ]
     },
     "execution_count": 13,
     "metadata": {},
     "output_type": "execute_result"
    }
   ],
   "source": [
    "print(len(df['CLNDISDB'].unique()))\n",
    "df['CLNDISDB'].value_counts()[0:10]"
   ]
  },
  {
   "cell_type": "code",
   "execution_count": 14,
   "metadata": {},
   "outputs": [],
   "source": [
    "df = df.drop('CLNDISDB', axis = 1)"
   ]
  },
  {
   "cell_type": "markdown",
   "metadata": {},
   "source": [
    "## CLNDISDBINCL, CLNDNINCL, CLNSIGINCL\n",
    "\n",
    "This variables capture external information for included variants only. They are extremely sparse (only 76 observations have values), so I drop them.  "
   ]
  },
  {
   "cell_type": "code",
   "execution_count": 15,
   "metadata": {},
   "outputs": [],
   "source": [
    "df = df.drop(['CLNDISDBINCL', 'CLNDNINCL', 'CLNSIGINCL'], axis = 1)"
   ]
  },
  {
   "cell_type": "markdown",
   "metadata": {},
   "source": [
    "## CLNDN\n",
    "\n",
    "This captures the preferred disease name using the identifiers from CLNDISDB. This may be cleaner than the other variable, and is probably important for prediction, so I will attempt to clean it."
   ]
  },
  {
   "cell_type": "code",
   "execution_count": 16,
   "metadata": {},
   "outputs": [
    {
     "name": "stdout",
     "output_type": "stream",
     "text": [
      "9260\n"
     ]
    },
    {
     "data": {
      "text/plain": [
       "not_specified                                                                                 5344\n",
       "Hereditary_cancer-predisposing_syndrome|not_specified                                         1724\n",
       "not_specified|not_provided                                                                    1398\n",
       "Hereditary_cancer-predisposing_syndrome                                                       1139\n",
       "Limb-girdle_muscular_dystrophy,_type_2J|Dilated_cardiomyopathy_1G|not_specified                913\n",
       "Familial_hypercholesterolemia                                                                  732\n",
       "Ataxia-telangiectasia_syndrome|Hereditary_cancer-predisposing_syndrome                         608\n",
       "Hereditary_cancer-predisposing_syndrome|Familial_cancer_of_breast                              561\n",
       "Ciliary_dyskinesia|not_specified                                                               526\n",
       "Hereditary_cancer-predisposing_syndrome|Neurofibromatosis,_type_1                              513\n",
       "Ataxia-telangiectasia_syndrome|Hereditary_cancer-predisposing_syndrome|not_specified           469\n",
       "Hereditary_cancer-predisposing_syndrome|not_provided                                           456\n",
       "Hereditary_cancer-predisposing_syndrome|Familial_cancer_of_breast|not_specified                450\n",
       "Hereditary_nonpolyposis_colon_cancer|Hereditary_cancer-predisposing_syndrome                   435\n",
       "Hereditary_nonpolyposis_colon_cancer|Hereditary_cancer-predisposing_syndrome|not_specified     397\n",
       "Hereditary_cancer-predisposing_syndrome|Hereditary_breast_and_ovarian_cancer_syndrome          384\n",
       "Hereditary_cancer-predisposing_syndrome|Familial_adenomatous_polyposis_1                       368\n",
       "Hereditary_cancer-predisposing_syndrome|Lynch_syndrome                                         360\n",
       "Hereditary_cancer-predisposing_syndrome|Rhabdoid_tumor_predisposition_syndrome_2               338\n",
       "Hereditary_cancer-predisposing_syndrome|Familial_adenomatous_polyposis_1|not_specified         271\n",
       "Name: CLNDN, dtype: int64"
      ]
     },
     "execution_count": 16,
     "metadata": {},
     "output_type": "execute_result"
    }
   ],
   "source": [
    "print(len(df['CLNDN'].unique()))\n",
    "df['CLNDN'].value_counts()[0:20]"
   ]
  },
  {
   "cell_type": "markdown",
   "metadata": {},
   "source": [
    "Each value is a list of diseases. It seems like I could clean this by creating dummy variables for specific common diseases in each list. I will create dummies for the top 100 diseases."
   ]
  },
  {
   "cell_type": "code",
   "execution_count": 17,
   "metadata": {
    "scrolled": true
   },
   "outputs": [
    {
     "name": "stdout",
     "output_type": "stream",
     "text": [
      "not_specified                                    45547.0\n",
      "Hereditary_cancer-predisposing_syndrome          18367.0\n",
      "not_provided                                     13020.0\n",
      "Hereditary_breast_and_ovarian_cancer_syndrome     2058.0\n",
      "Familial_cancer_of_breast                         1977.0\n",
      "Dilated_cardiomyopathy_1G                         1951.0\n",
      "Limb-girdle_muscular_dystrophy,_type_2J           1920.0\n",
      "Cardiovascular_phenotype                          1853.0\n",
      "Hypertrophic_cardiomyopathy                       1556.0\n",
      "Ataxia-telangiectasia_syndrome                    1510.0\n",
      "dtype: float64\n",
      "['not_specified', 'Hereditary_cancer-predisposing_syndrome', 'not_provided', 'Hereditary_breast_and_ovarian_cancer_syndrome', 'Familial_cancer_of_breast', 'Dilated_cardiomyopathy_1G', 'Limb-girdle_muscular_dystrophy,_type_2J', 'Cardiovascular_phenotype', 'Hypertrophic_cardiomyopathy', 'Ataxia-telangiectasia_syndrome', 'Hereditary_nonpolyposis_colon_cancer', 'Dilated_Cardiomyopathy,_Dominant', 'Familial_hypercholesterolemia', 'Breast-ovarian_cancer,_familial_2', 'Familial_adenomatous_polyposis_1', 'Limb-Girdle_Muscular_Dystrophy,_Recessive', 'Lynch_syndrome', 'Thoracic_aortic_aneurysm_and_aortic_dissection', 'Long_QT_syndrome', 'Distal_myopathy_Markesbery-Griggs_type', 'Hereditary_myopathy_with_early_respiratory_failure', 'Myopathy,_early-onset,_with_fatal_cardiomyopathy', 'Ciliary_dyskinesia', 'Neurofibromatosis,_type_1', 'Breast-ovarian_cancer,_familial_1', 'Nonsyndromic_Hearing_Loss,_Recessive', 'Tuberous_sclerosis_2', 'Fanconi_anemia', 'Colorectal_cancer,_susceptibility_to,_12', 'Primary_familial_hypertrophic_cardiomyopathy', 'Nonsyndromic_Hearing_Loss,_Dominant', 'Emery-Dreifuss_muscular_dystrophy', 'Hereditary_diffuse_gastric_cancer', 'Fanconi_anemia,_complementation_group_J', 'Brugada_syndrome', 'Rhabdoid_tumor_predisposition_syndrome_2', 'Joubert_syndrome', 'Tuberous_sclerosis_syndrome', 'Colorectal_cancer_10', 'Bethlem_myopathy_1', 'Primary_dilated_cardiomyopathy', 'Collagen_VI-related_myopathy', 'MYH-associated_polyposis', 'Cardiomyopathy,_ARVC', 'Retinitis_Pigmentosa,_Recessive', 'Li-Fraumeni_syndrome', 'Microcephaly,_normal_intelligence_and_immunodeficiency', 'Catecholaminergic_polymorphic_ventricular_tachycardia', 'Retinitis_pigmentosa-deafness_syndrome', 'Early_infantile_epileptic_encephalopathy', 'Peutz-Jeghers_syndrome', 'DICER1-related_pleuropulmonary_blastoma_cancer_predisposition_syndrome', 'Cerebellar_ataxia', 'Nephronophthisis', 'Marfan_syndrome', 'Malignant_hyperthermia_susceptibility', 'Epidermolysa_bullosa_simplex_and_limb_girdle_muscular_dystrophy', 'Epidermolysis_bullosa_simplex_with_pyloric_atresia', 'Epidermolysis_bullosa_simplex_with_nail_dystrophy', 'Limb-girdle_muscular_dystrophy,_type_2Q', 'Epidermolysis_bullosa_simplex,_Ogna_type', 'Juvenile_polyposis_syndrome', 'Charcot-Marie-Tooth,_Type_2', 'Neoplasm_of_the_breast', 'Duchenne_muscular_dystrophy', 'Ehlers-Danlos_syndrome,_classic_type', 'Primary_Microcephaly,_Recessive', 'Meckel-Gruber_syndrome', 'Congenital_disorder_of_glycosylation', 'Charcot-Marie-Tooth_disease,_type_2', 'Pheochromocytoma', 'Bardet-Biedl_syndrome', 'Gorlin_syndrome', 'Nemaline_myopathy_2', 'Central_core_disease', 'Spastic_paraplegia', 'RYR1-Related_Disorders', 'Tuberous_sclerosis_1', 'Rasopathy', 'Multiple_endocrine_neoplasia,_type_2', 'Fanconi_anemia,_complementation_group_O', 'Charcot-Marie-Tooth_disease,_type_IV', 'Neuromuscular_disease,_congenital,_with_uniform_type_1_fiber', 'Multiminicore_Disease', 'Breast-ovarian_cancer,_familial_4', 'Spinocerebellar_ataxia,_autosomal_recessive_8', 'Spastic_Paraplegia,_Recessive', 'Emery-Dreifuss_muscular_dystrophy_4,_autosomal_dominant', 'Congenital_long_QT_syndrome', 'Arrhythmogenic_right_ventricular_cardiomyopathy,_type_8', 'Ehlers-Danlos_syndrome,_type_7A', 'Cardiomyopathy', 'Congenital_contractural_arachnodactyly', 'Cardiomyopathy_dilated_with_woolly_hair_and_keratoderma', 'Romano-Ward_syndrome', 'Charcot-Marie-Tooth,_Type_4', 'PTEN_hamartoma_tumor_syndrome', 'Nemaline_Myopathy,_Recessive', 'Renal_cell_carcinoma,_papillary,_1', 'Hereditary_cutaneous_melanoma']\n"
     ]
    }
   ],
   "source": [
    "name_df = df['CLNDN'].str.split(pat = '|', expand = True)\n",
    "name_df.head()\n",
    "top_100_dn = name_df.apply(pd.value_counts).sum(axis=1).sort_values(ascending = False)[0:100]\n",
    "print(top_100_dn[0:10])\n",
    "\n",
    "top_100_dn_list = list(top_100_dn.index)\n",
    "print(top_100_dn_list)"
   ]
  },
  {
   "cell_type": "code",
   "execution_count": 18,
   "metadata": {},
   "outputs": [
    {
     "name": "stdout",
     "output_type": "stream",
     "text": [
      "<class 'pandas.core.frame.DataFrame'>\n",
      "RangeIndex: 65188 entries, 0 to 65187\n",
      "Columns: 142 entries, CHROM to Hereditary_cutaneous_melanoma\n",
      "dtypes: category(104), float64(10), int64(2), object(26)\n",
      "memory usage: 25.4+ MB\n"
     ]
    }
   ],
   "source": [
    "for dn in top_100_dn_list:\n",
    "    df[dn] = df['CLNDN'].apply(lambda x: 1 if dn in x else 0).astype('category')\n",
    "df.info()"
   ]
  },
  {
   "cell_type": "markdown",
   "metadata": {},
   "source": [
    "## CLNHGVS\n",
    "\n",
    "This variable is all unique values that I don't understand related to HGVS expression. I choose to drop it."
   ]
  },
  {
   "cell_type": "code",
   "execution_count": 19,
   "metadata": {},
   "outputs": [
    {
     "name": "stdout",
     "output_type": "stream",
     "text": [
      "65188\n"
     ]
    }
   ],
   "source": [
    "print(len(df['CLNHGVS'].unique()))\n",
    "df = df.drop('CLNHGVS', axis = 1)"
   ]
  },
  {
   "cell_type": "markdown",
   "metadata": {},
   "source": [
    "## CLNVI\n",
    "\n",
    "IDs from clinical sources - all unique, but only exist for half of the variants. I will create a dummy for whether this exists."
   ]
  },
  {
   "cell_type": "code",
   "execution_count": 20,
   "metadata": {},
   "outputs": [
    {
     "name": "stdout",
     "output_type": "stream",
     "text": [
      "26290\n"
     ]
    }
   ],
   "source": [
    "print(len(df['CLNVI'].unique()))\n",
    "df['CLNVI'] = df['CLNVI'].fillna('0')\n",
    "df['CLNVI'] = df['CLNVI'].apply(lambda x: '1' if x != '0' else '0').astype('category')"
   ]
  },
  {
   "cell_type": "markdown",
   "metadata": {},
   "source": [
    "## MC\n",
    "\n",
    "Molecular consequence is a categorical variable, need to clean up rare values. Since values are lists of consequences, I will do this similarly to how I did it for the names, splitting up the series and coding dummies."
   ]
  },
  {
   "cell_type": "code",
   "execution_count": 22,
   "metadata": {},
   "outputs": [
    {
     "data": {
      "text/plain": [
       "SO:0001583|missense_variant                                   23034\n",
       "SO:0001819|synonymous_variant                                 16549\n",
       "SO:0001627|intron_variant                                      7534\n",
       "SO:0001583|missense_variant,SO:0001627|intron_variant          2422\n",
       "SO:0001589|frameshift_variant                                  1622\n",
       "SO:0001587|nonsense                                            1573\n",
       "SO:0001627|intron_variant,SO:0001819|synonymous_variant        1148\n",
       "SO:0001583|missense_variant,SO:0001623|5_prime_UTR_variant      599\n",
       "SO:0001623|5_prime_UTR_variant                                  516\n",
       "SO:0001575|splice_donor_variant                                 504\n",
       "Name: MC, dtype: int64"
      ]
     },
     "execution_count": 22,
     "metadata": {},
     "output_type": "execute_result"
    }
   ],
   "source": [
    "df['MC'].value_counts()[0:10]"
   ]
  },
  {
   "cell_type": "code",
   "execution_count": 24,
   "metadata": {},
   "outputs": [
    {
     "ename": "AttributeError",
     "evalue": "'DataFrame' object has no attribute 'split'",
     "output_type": "error",
     "traceback": [
      "\u001b[1;31m---------------------------------------------------------------------------\u001b[0m",
      "\u001b[1;31mAttributeError\u001b[0m                            Traceback (most recent call last)",
      "\u001b[1;32m<ipython-input-24-7382e16c1985>\u001b[0m in \u001b[0;36m<module>\u001b[1;34m\u001b[0m\n\u001b[1;32m----> 1\u001b[1;33m \u001b[0mname_df\u001b[0m \u001b[1;33m=\u001b[0m \u001b[0mdf\u001b[0m\u001b[1;33m[\u001b[0m\u001b[1;34m'MC'\u001b[0m\u001b[1;33m]\u001b[0m\u001b[1;33m.\u001b[0m\u001b[0mstr\u001b[0m\u001b[1;33m.\u001b[0m\u001b[0msplit\u001b[0m\u001b[1;33m(\u001b[0m\u001b[0mpat\u001b[0m \u001b[1;33m=\u001b[0m \u001b[1;34m'|'\u001b[0m\u001b[1;33m,\u001b[0m \u001b[0mexpand\u001b[0m \u001b[1;33m=\u001b[0m \u001b[1;32mTrue\u001b[0m\u001b[1;33m)\u001b[0m\u001b[1;33m.\u001b[0m\u001b[0msplit\u001b[0m\u001b[1;33m(\u001b[0m\u001b[0mpat\u001b[0m \u001b[1;33m=\u001b[0m \u001b[1;34m','\u001b[0m\u001b[1;33m,\u001b[0m \u001b[0mexpand\u001b[0m \u001b[1;33m=\u001b[0m \u001b[1;32mTrue\u001b[0m\u001b[1;33m)\u001b[0m\u001b[1;33m\u001b[0m\u001b[0m\n\u001b[0m\u001b[0;32m      2\u001b[0m \u001b[0mname_df\u001b[0m\u001b[1;33m.\u001b[0m\u001b[0mhead\u001b[0m\u001b[1;33m(\u001b[0m\u001b[1;33m)\u001b[0m\u001b[1;33m\u001b[0m\u001b[0m\n\u001b[0;32m      3\u001b[0m \u001b[0mtop_100_dn\u001b[0m \u001b[1;33m=\u001b[0m \u001b[0mname_df\u001b[0m\u001b[1;33m.\u001b[0m\u001b[0mapply\u001b[0m\u001b[1;33m(\u001b[0m\u001b[0mpd\u001b[0m\u001b[1;33m.\u001b[0m\u001b[0mvalue_counts\u001b[0m\u001b[1;33m)\u001b[0m\u001b[1;33m.\u001b[0m\u001b[0msum\u001b[0m\u001b[1;33m(\u001b[0m\u001b[0maxis\u001b[0m\u001b[1;33m=\u001b[0m\u001b[1;36m1\u001b[0m\u001b[1;33m)\u001b[0m\u001b[1;33m.\u001b[0m\u001b[0msort_values\u001b[0m\u001b[1;33m(\u001b[0m\u001b[0mascending\u001b[0m \u001b[1;33m=\u001b[0m \u001b[1;32mFalse\u001b[0m\u001b[1;33m)\u001b[0m\u001b[1;33m[\u001b[0m\u001b[1;36m0\u001b[0m\u001b[1;33m:\u001b[0m\u001b[1;36m100\u001b[0m\u001b[1;33m]\u001b[0m\u001b[1;33m\u001b[0m\u001b[0m\n\u001b[0;32m      4\u001b[0m \u001b[0mprint\u001b[0m\u001b[1;33m(\u001b[0m\u001b[0mtop_100_dn\u001b[0m\u001b[1;33m[\u001b[0m\u001b[1;36m0\u001b[0m\u001b[1;33m:\u001b[0m\u001b[1;36m10\u001b[0m\u001b[1;33m]\u001b[0m\u001b[1;33m)\u001b[0m\u001b[1;33m\u001b[0m\u001b[0m\n\u001b[0;32m      5\u001b[0m \u001b[1;33m\u001b[0m\u001b[0m\n",
      "\u001b[1;32m~\\Anaconda3\\lib\\site-packages\\pandas\\core\\generic.py\u001b[0m in \u001b[0;36m__getattr__\u001b[1;34m(self, name)\u001b[0m\n\u001b[0;32m   4374\u001b[0m             \u001b[1;32mif\u001b[0m \u001b[0mself\u001b[0m\u001b[1;33m.\u001b[0m\u001b[0m_info_axis\u001b[0m\u001b[1;33m.\u001b[0m\u001b[0m_can_hold_identifiers_and_holds_name\u001b[0m\u001b[1;33m(\u001b[0m\u001b[0mname\u001b[0m\u001b[1;33m)\u001b[0m\u001b[1;33m:\u001b[0m\u001b[1;33m\u001b[0m\u001b[0m\n\u001b[0;32m   4375\u001b[0m                 \u001b[1;32mreturn\u001b[0m \u001b[0mself\u001b[0m\u001b[1;33m[\u001b[0m\u001b[0mname\u001b[0m\u001b[1;33m]\u001b[0m\u001b[1;33m\u001b[0m\u001b[0m\n\u001b[1;32m-> 4376\u001b[1;33m             \u001b[1;32mreturn\u001b[0m \u001b[0mobject\u001b[0m\u001b[1;33m.\u001b[0m\u001b[0m__getattribute__\u001b[0m\u001b[1;33m(\u001b[0m\u001b[0mself\u001b[0m\u001b[1;33m,\u001b[0m \u001b[0mname\u001b[0m\u001b[1;33m)\u001b[0m\u001b[1;33m\u001b[0m\u001b[0m\n\u001b[0m\u001b[0;32m   4377\u001b[0m \u001b[1;33m\u001b[0m\u001b[0m\n\u001b[0;32m   4378\u001b[0m     \u001b[1;32mdef\u001b[0m \u001b[0m__setattr__\u001b[0m\u001b[1;33m(\u001b[0m\u001b[0mself\u001b[0m\u001b[1;33m,\u001b[0m \u001b[0mname\u001b[0m\u001b[1;33m,\u001b[0m \u001b[0mvalue\u001b[0m\u001b[1;33m)\u001b[0m\u001b[1;33m:\u001b[0m\u001b[1;33m\u001b[0m\u001b[0m\n",
      "\u001b[1;31mAttributeError\u001b[0m: 'DataFrame' object has no attribute 'split'"
     ]
    }
   ],
   "source": [
    "import re\n",
    "\n",
    "mc_re = re.compile()\n",
    "name_df = df['MC'].str.split(pat = mc_re, expand = True)\n",
    "name_df.head()\n",
    "top_100_dn = name_df.apply(pd.value_counts).sum(axis=1).sort_values(ascending = False)[0:100]\n",
    "print(top_100_dn[0:10])\n",
    "\n",
    "top_100_dn_list = list(top_100_dn.index)\n",
    "print(top_100_dn_list)"
   ]
  },
  {
   "cell_type": "code",
   "execution_count": null,
   "metadata": {},
   "outputs": [],
   "source": []
  },
  {
   "cell_type": "code",
   "execution_count": null,
   "metadata": {},
   "outputs": [],
   "source": []
  },
  {
   "cell_type": "code",
   "execution_count": null,
   "metadata": {},
   "outputs": [],
   "source": []
  },
  {
   "cell_type": "code",
   "execution_count": null,
   "metadata": {},
   "outputs": [],
   "source": []
  },
  {
   "cell_type": "code",
   "execution_count": null,
   "metadata": {},
   "outputs": [],
   "source": []
  },
  {
   "cell_type": "code",
   "execution_count": null,
   "metadata": {},
   "outputs": [],
   "source": []
  },
  {
   "cell_type": "code",
   "execution_count": null,
   "metadata": {},
   "outputs": [],
   "source": []
  },
  {
   "cell_type": "code",
   "execution_count": null,
   "metadata": {},
   "outputs": [],
   "source": []
  }
 ],
 "metadata": {
  "kernelspec": {
   "display_name": "Python 3",
   "language": "python",
   "name": "python3"
  },
  "language_info": {
   "codemirror_mode": {
    "name": "ipython",
    "version": 3
   },
   "file_extension": ".py",
   "mimetype": "text/x-python",
   "name": "python",
   "nbconvert_exporter": "python",
   "pygments_lexer": "ipython3",
   "version": "3.7.0"
  }
 },
 "nbformat": 4,
 "nbformat_minor": 2
}
