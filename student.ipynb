{
 "cells": [
  {
   "cell_type": "markdown",
   "metadata": {},
   "source": [
    "# Module 3 Final Project Submission\n",
    "\n",
    "Please fill out:\n",
    "* Student name: David Braslow\n",
    "* Student pace: self paced \n",
    "* Scheduled project review date/time: \n",
    "* Instructor name: Eli\n",
    "* Blog post URL: TBD\n",
    "* Data source: https://www.kaggle.com/kevinarvai/clinvar-conflicting/version/3\n"
   ]
  },
  {
   "cell_type": "markdown",
   "metadata": {},
   "source": [
    "# Overview\n",
    "\n",
    "This project uses a Kaggle dataset to predict gene classifications. In this dataset, we are given multiple genetic variants and various properties of each. Expert raters at different laboratories rated these variants based on their perceived clinical classifications, with ratings ranging from Benign to Pathogenic. The target variable is whether the raters have clinical classifications that are concordant, meaning that they are in the same clinical category.  "
   ]
  },
  {
   "cell_type": "markdown",
   "metadata": {},
   "source": [
    "## Initialization"
   ]
  },
  {
   "cell_type": "code",
   "execution_count": 1,
   "metadata": {},
   "outputs": [],
   "source": [
    "import pandas as pd\n",
    "import numpy as np\n",
    "import matplotlib.pyplot as plt\n",
    "import seaborn as sns\n",
    "\n",
    "%matplotlib inline"
   ]
  },
  {
   "cell_type": "markdown",
   "metadata": {},
   "source": [
    "# Obtaining the Data\n",
    "\n",
    "For this project, I downloaded the dataset from the Kaggle page as a csv."
   ]
  },
  {
   "cell_type": "code",
   "execution_count": 2,
   "metadata": {},
   "outputs": [
    {
     "name": "stderr",
     "output_type": "stream",
     "text": [
      "C:\\Users\\david\\Anaconda3\\lib\\site-packages\\IPython\\core\\interactiveshell.py:3018: DtypeWarning: Columns (0,38,40) have mixed types. Specify dtype option on import or set low_memory=False.\n",
      "  interactivity=interactivity, compiler=compiler, result=result)\n"
     ]
    },
    {
     "data": {
      "text/html": [
       "<div>\n",
       "<style scoped>\n",
       "    .dataframe tbody tr th:only-of-type {\n",
       "        vertical-align: middle;\n",
       "    }\n",
       "\n",
       "    .dataframe tbody tr th {\n",
       "        vertical-align: top;\n",
       "    }\n",
       "\n",
       "    .dataframe thead th {\n",
       "        text-align: right;\n",
       "    }\n",
       "</style>\n",
       "<table border=\"1\" class=\"dataframe\">\n",
       "  <thead>\n",
       "    <tr style=\"text-align: right;\">\n",
       "      <th></th>\n",
       "      <th>CHROM</th>\n",
       "      <th>POS</th>\n",
       "      <th>REF</th>\n",
       "      <th>ALT</th>\n",
       "      <th>AF_ESP</th>\n",
       "      <th>AF_EXAC</th>\n",
       "      <th>AF_TGP</th>\n",
       "      <th>CLNDISDB</th>\n",
       "      <th>CLNDISDBINCL</th>\n",
       "      <th>CLNDN</th>\n",
       "      <th>...</th>\n",
       "      <th>SIFT</th>\n",
       "      <th>PolyPhen</th>\n",
       "      <th>MOTIF_NAME</th>\n",
       "      <th>MOTIF_POS</th>\n",
       "      <th>HIGH_INF_POS</th>\n",
       "      <th>MOTIF_SCORE_CHANGE</th>\n",
       "      <th>LoFtool</th>\n",
       "      <th>CADD_PHRED</th>\n",
       "      <th>CADD_RAW</th>\n",
       "      <th>BLOSUM62</th>\n",
       "    </tr>\n",
       "  </thead>\n",
       "  <tbody>\n",
       "    <tr>\n",
       "      <th>0</th>\n",
       "      <td>1</td>\n",
       "      <td>955563</td>\n",
       "      <td>G</td>\n",
       "      <td>C</td>\n",
       "      <td>0.0000</td>\n",
       "      <td>0.00000</td>\n",
       "      <td>0.0000</td>\n",
       "      <td>MedGen:C3808739,OMIM:615120|MedGen:CN169374</td>\n",
       "      <td>NaN</td>\n",
       "      <td>Myasthenic_syndrome,_congenital,_8|not_specified</td>\n",
       "      <td>...</td>\n",
       "      <td>NaN</td>\n",
       "      <td>NaN</td>\n",
       "      <td>NaN</td>\n",
       "      <td>NaN</td>\n",
       "      <td>NaN</td>\n",
       "      <td>NaN</td>\n",
       "      <td>0.421</td>\n",
       "      <td>11.390</td>\n",
       "      <td>1.133255</td>\n",
       "      <td>-2.0</td>\n",
       "    </tr>\n",
       "    <tr>\n",
       "      <th>1</th>\n",
       "      <td>1</td>\n",
       "      <td>955597</td>\n",
       "      <td>G</td>\n",
       "      <td>T</td>\n",
       "      <td>0.0000</td>\n",
       "      <td>0.42418</td>\n",
       "      <td>0.2826</td>\n",
       "      <td>MedGen:CN169374</td>\n",
       "      <td>NaN</td>\n",
       "      <td>not_specified</td>\n",
       "      <td>...</td>\n",
       "      <td>NaN</td>\n",
       "      <td>NaN</td>\n",
       "      <td>NaN</td>\n",
       "      <td>NaN</td>\n",
       "      <td>NaN</td>\n",
       "      <td>NaN</td>\n",
       "      <td>0.421</td>\n",
       "      <td>8.150</td>\n",
       "      <td>0.599088</td>\n",
       "      <td>NaN</td>\n",
       "    </tr>\n",
       "    <tr>\n",
       "      <th>2</th>\n",
       "      <td>1</td>\n",
       "      <td>955619</td>\n",
       "      <td>G</td>\n",
       "      <td>C</td>\n",
       "      <td>0.0000</td>\n",
       "      <td>0.03475</td>\n",
       "      <td>0.0088</td>\n",
       "      <td>MedGen:C3808739,OMIM:615120|MedGen:CN169374</td>\n",
       "      <td>NaN</td>\n",
       "      <td>Myasthenic_syndrome,_congenital,_8|not_specified</td>\n",
       "      <td>...</td>\n",
       "      <td>NaN</td>\n",
       "      <td>NaN</td>\n",
       "      <td>NaN</td>\n",
       "      <td>NaN</td>\n",
       "      <td>NaN</td>\n",
       "      <td>NaN</td>\n",
       "      <td>0.421</td>\n",
       "      <td>3.288</td>\n",
       "      <td>0.069819</td>\n",
       "      <td>1.0</td>\n",
       "    </tr>\n",
       "    <tr>\n",
       "      <th>3</th>\n",
       "      <td>1</td>\n",
       "      <td>957640</td>\n",
       "      <td>C</td>\n",
       "      <td>T</td>\n",
       "      <td>0.0318</td>\n",
       "      <td>0.02016</td>\n",
       "      <td>0.0328</td>\n",
       "      <td>MedGen:C3808739,OMIM:615120|MedGen:CN169374</td>\n",
       "      <td>NaN</td>\n",
       "      <td>Myasthenic_syndrome,_congenital,_8|not_specified</td>\n",
       "      <td>...</td>\n",
       "      <td>NaN</td>\n",
       "      <td>NaN</td>\n",
       "      <td>NaN</td>\n",
       "      <td>NaN</td>\n",
       "      <td>NaN</td>\n",
       "      <td>NaN</td>\n",
       "      <td>0.421</td>\n",
       "      <td>12.560</td>\n",
       "      <td>1.356499</td>\n",
       "      <td>NaN</td>\n",
       "    </tr>\n",
       "    <tr>\n",
       "      <th>4</th>\n",
       "      <td>1</td>\n",
       "      <td>976059</td>\n",
       "      <td>C</td>\n",
       "      <td>T</td>\n",
       "      <td>0.0000</td>\n",
       "      <td>0.00022</td>\n",
       "      <td>0.0010</td>\n",
       "      <td>MedGen:CN169374</td>\n",
       "      <td>NaN</td>\n",
       "      <td>not_specified</td>\n",
       "      <td>...</td>\n",
       "      <td>NaN</td>\n",
       "      <td>NaN</td>\n",
       "      <td>NaN</td>\n",
       "      <td>NaN</td>\n",
       "      <td>NaN</td>\n",
       "      <td>NaN</td>\n",
       "      <td>0.421</td>\n",
       "      <td>17.740</td>\n",
       "      <td>2.234711</td>\n",
       "      <td>NaN</td>\n",
       "    </tr>\n",
       "  </tbody>\n",
       "</table>\n",
       "<p>5 rows × 46 columns</p>\n",
       "</div>"
      ],
      "text/plain": [
       "  CHROM     POS REF ALT  AF_ESP  AF_EXAC  AF_TGP  \\\n",
       "0     1  955563   G   C  0.0000  0.00000  0.0000   \n",
       "1     1  955597   G   T  0.0000  0.42418  0.2826   \n",
       "2     1  955619   G   C  0.0000  0.03475  0.0088   \n",
       "3     1  957640   C   T  0.0318  0.02016  0.0328   \n",
       "4     1  976059   C   T  0.0000  0.00022  0.0010   \n",
       "\n",
       "                                      CLNDISDB CLNDISDBINCL  \\\n",
       "0  MedGen:C3808739,OMIM:615120|MedGen:CN169374          NaN   \n",
       "1                              MedGen:CN169374          NaN   \n",
       "2  MedGen:C3808739,OMIM:615120|MedGen:CN169374          NaN   \n",
       "3  MedGen:C3808739,OMIM:615120|MedGen:CN169374          NaN   \n",
       "4                              MedGen:CN169374          NaN   \n",
       "\n",
       "                                              CLNDN   ...    SIFT PolyPhen  \\\n",
       "0  Myasthenic_syndrome,_congenital,_8|not_specified   ...     NaN      NaN   \n",
       "1                                     not_specified   ...     NaN      NaN   \n",
       "2  Myasthenic_syndrome,_congenital,_8|not_specified   ...     NaN      NaN   \n",
       "3  Myasthenic_syndrome,_congenital,_8|not_specified   ...     NaN      NaN   \n",
       "4                                     not_specified   ...     NaN      NaN   \n",
       "\n",
       "  MOTIF_NAME MOTIF_POS HIGH_INF_POS MOTIF_SCORE_CHANGE  LoFtool  CADD_PHRED  \\\n",
       "0        NaN       NaN          NaN                NaN    0.421      11.390   \n",
       "1        NaN       NaN          NaN                NaN    0.421       8.150   \n",
       "2        NaN       NaN          NaN                NaN    0.421       3.288   \n",
       "3        NaN       NaN          NaN                NaN    0.421      12.560   \n",
       "4        NaN       NaN          NaN                NaN    0.421      17.740   \n",
       "\n",
       "   CADD_RAW BLOSUM62  \n",
       "0  1.133255     -2.0  \n",
       "1  0.599088      NaN  \n",
       "2  0.069819      1.0  \n",
       "3  1.356499      NaN  \n",
       "4  2.234711      NaN  \n",
       "\n",
       "[5 rows x 46 columns]"
      ]
     },
     "execution_count": 2,
     "metadata": {},
     "output_type": "execute_result"
    }
   ],
   "source": [
    "df = pd.read_csv('clinvar_conflicting.csv')\n",
    "df.head()"
   ]
  },
  {
   "cell_type": "code",
   "execution_count": 3,
   "metadata": {},
   "outputs": [
    {
     "name": "stdout",
     "output_type": "stream",
     "text": [
      "<class 'pandas.core.frame.DataFrame'>\n",
      "RangeIndex: 65188 entries, 0 to 65187\n",
      "Data columns (total 46 columns):\n",
      "CHROM                 65188 non-null object\n",
      "POS                   65188 non-null int64\n",
      "REF                   65188 non-null object\n",
      "ALT                   65188 non-null object\n",
      "AF_ESP                65188 non-null float64\n",
      "AF_EXAC               65188 non-null float64\n",
      "AF_TGP                65188 non-null float64\n",
      "CLNDISDB              65188 non-null object\n",
      "CLNDISDBINCL          76 non-null object\n",
      "CLNDN                 65188 non-null object\n",
      "CLNDNINCL             76 non-null object\n",
      "CLNHGVS               65188 non-null object\n",
      "CLNSIGINCL            76 non-null object\n",
      "CLNVC                 65188 non-null object\n",
      "CLNVI                 27659 non-null object\n",
      "MC                    58219 non-null object\n",
      "ORIGIN                59065 non-null float64\n",
      "SSR                   104 non-null float64\n",
      "CLASS                 65188 non-null int64\n",
      "Allele                65188 non-null object\n",
      "Consequence           65188 non-null object\n",
      "IMPACT                65188 non-null object\n",
      "SYMBOL                65172 non-null object\n",
      "Feature_type          65174 non-null object\n",
      "Feature               65174 non-null object\n",
      "BIOTYPE               65172 non-null object\n",
      "EXON                  56295 non-null object\n",
      "INTRON                8803 non-null object\n",
      "cDNA_position         56304 non-null object\n",
      "CDS_position          55233 non-null object\n",
      "Protein_position      55233 non-null object\n",
      "Amino_acids           55184 non-null object\n",
      "Codons                55184 non-null object\n",
      "DISTANCE              108 non-null float64\n",
      "STRAND                65174 non-null float64\n",
      "BAM_EDIT              31969 non-null object\n",
      "SIFT                  24836 non-null object\n",
      "PolyPhen              24796 non-null object\n",
      "MOTIF_NAME            2 non-null object\n",
      "MOTIF_POS             2 non-null float64\n",
      "HIGH_INF_POS          2 non-null object\n",
      "MOTIF_SCORE_CHANGE    2 non-null float64\n",
      "LoFtool               60975 non-null float64\n",
      "CADD_PHRED            64096 non-null float64\n",
      "CADD_RAW              64096 non-null float64\n",
      "BLOSUM62              25593 non-null float64\n",
      "dtypes: float64(13), int64(2), object(31)\n",
      "memory usage: 22.9+ MB\n"
     ]
    }
   ],
   "source": [
    "df.info()"
   ]
  },
  {
   "cell_type": "markdown",
   "metadata": {},
   "source": [
    "# Scrubbing the Data\n",
    "\n",
    "There seem to be a number of feilds with missing data and incorrect types. In this section, I scrub the dataset squeaky-clean."
   ]
  },
  {
   "cell_type": "markdown",
   "metadata": {},
   "source": [
    "## Very Low Incidence Features\n",
    "\n",
    "Here I drop features with under 600 entries (1% of dataset)."
   ]
  },
  {
   "cell_type": "code",
   "execution_count": 4,
   "metadata": {},
   "outputs": [],
   "source": [
    "df = df.drop(['CLNDISDBINCL', 'CLNDNINCL', 'CLNSIGINCL', 'SSR', 'DISTANCE', 'MOTIF_NAME', 'MOTIF_POS', 'HIGH_INF_POS', 'MOTIF_SCORE_CHANGE'], axis = 1)"
   ]
  },
  {
   "cell_type": "markdown",
   "metadata": {},
   "source": [
    "## Low Incidence Features\n",
    "\n",
    "Here I dichotomize features that are present for less than half the dataset, 1 indicating that data are present, 0 otherwise."
   ]
  },
  {
   "cell_type": "code",
   "execution_count": 5,
   "metadata": {},
   "outputs": [
    {
     "name": "stdout",
     "output_type": "stream",
     "text": [
      "0    37529\n",
      "1    27659\n",
      "Name: CLNVI, dtype: int64\n",
      "0    56385\n",
      "1     8803\n",
      "Name: INTRON, dtype: int64\n",
      "0    33219\n",
      "1    31969\n",
      "Name: BAM_EDIT, dtype: int64\n",
      "0    40352\n",
      "1    24836\n",
      "Name: SIFT, dtype: int64\n",
      "0    40392\n",
      "1    24796\n",
      "Name: PolyPhen, dtype: int64\n",
      "0    39595\n",
      "1    25593\n",
      "Name: BLOSUM62, dtype: int64\n"
     ]
    }
   ],
   "source": [
    "for var in ['CLNVI', 'INTRON', 'BAM_EDIT', 'SIFT', 'PolyPhen', 'BLOSUM62']:\n",
    "    df[var] = df[var].apply(lambda x: 1 if x == x else 0).astype('category')\n",
    "    print(df[var].value_counts())"
   ]
  },
  {
   "cell_type": "markdown",
   "metadata": {},
   "source": [
    "## Target: CLASS\n",
    "\n",
    "The CLASS vartible is the target variable, which indicates whether there were conflicting submissions."
   ]
  },
  {
   "cell_type": "code",
   "execution_count": 137,
   "metadata": {},
   "outputs": [
    {
     "data": {
      "text/plain": [
       "0    48754\n",
       "1    16434\n",
       "Name: target, dtype: int64"
      ]
     },
     "execution_count": 137,
     "metadata": {},
     "output_type": "execute_result"
    }
   ],
   "source": [
    "df = df.rename({'CLASS': 'target'}, axis = 1)\n",
    "df['target'] = df['target'].astype('category')\n",
    "df['target'].value_counts()"
   ]
  },
  {
   "cell_type": "markdown",
   "metadata": {},
   "source": [
    "## CHROM\n",
    "\n",
    "This variable captures the chromosome on which the variant is located. This should be a categorical variable."
   ]
  },
  {
   "cell_type": "code",
   "execution_count": 7,
   "metadata": {},
   "outputs": [
    {
     "data": {
      "text/plain": [
       "2     8645\n",
       "17    5394\n",
       "11    4846\n",
       "1     4454\n",
       "19    3911\n",
       "5     3643\n",
       "7     2867\n",
       "16    2771\n",
       "12    2750\n",
       "9     2744\n",
       "13    2646\n",
       "3     2529\n",
       "10    2341\n",
       "6     2159\n",
       "14    1974\n",
       "X     1926\n",
       "8     1852\n",
       "15    1725\n",
       "4     1206\n",
       "16    1156\n",
       "22    1135\n",
       "18     896\n",
       "21     843\n",
       "20     759\n",
       "MT      16\n",
       "Name: CHROM, dtype: int64"
      ]
     },
     "execution_count": 7,
     "metadata": {},
     "output_type": "execute_result"
    }
   ],
   "source": [
    "df['CHROM'].value_counts()"
   ]
  },
  {
   "cell_type": "code",
   "execution_count": 8,
   "metadata": {},
   "outputs": [],
   "source": [
    "df['CHROM'] = df['CHROM'].astype('category')"
   ]
  },
  {
   "cell_type": "markdown",
   "metadata": {},
   "source": [
    "## POS\n",
    "\n",
    "This variable captures position of the gene on the chromosome. Will need to treat this with care in analysis, since it depends on CHROM."
   ]
  },
  {
   "cell_type": "code",
   "execution_count": 9,
   "metadata": {},
   "outputs": [
    {
     "data": {
      "text/plain": [
       "count    6.518800e+04\n",
       "mean     7.757594e+07\n",
       "std      5.974051e+07\n",
       "min      9.610000e+02\n",
       "25%      3.254179e+07\n",
       "50%      5.797021e+07\n",
       "75%      1.127454e+08\n",
       "max      2.476080e+08\n",
       "Name: POS, dtype: float64"
      ]
     },
     "execution_count": 9,
     "metadata": {},
     "output_type": "execute_result"
    }
   ],
   "source": [
    "df['POS'].describe()"
   ]
  },
  {
   "cell_type": "markdown",
   "metadata": {},
   "source": [
    "## REF, ALT, Allele\n",
    "\n",
    "These variables are for capture variant alleles - should be categorical."
   ]
  },
  {
   "cell_type": "code",
   "execution_count": 10,
   "metadata": {},
   "outputs": [
    {
     "name": "stdout",
     "output_type": "stream",
     "text": [
      "C     21798\n",
      "G     21361\n",
      "A      9845\n",
      "T      9421\n",
      "CT      126\n",
      "GC      113\n",
      "TG      105\n",
      "AG      104\n",
      "AC      103\n",
      "GA       91\n",
      "Name: REF, dtype: int64\n",
      "T     20409\n",
      "A     20205\n",
      "G     11782\n",
      "C     11429\n",
      "TA      118\n",
      "CT       93\n",
      "CA       77\n",
      "AT       75\n",
      "GA       67\n",
      "GT       64\n",
      "Name: ALT, dtype: int64\n",
      "T     19991\n",
      "A     19800\n",
      "G     11397\n",
      "C     10761\n",
      "-      2510\n",
      "AA       46\n",
      "TT       38\n",
      "AT       20\n",
      "CA       19\n",
      "CT       17\n",
      "Name: Allele, dtype: int64\n"
     ]
    }
   ],
   "source": [
    "for var in ['REF', 'ALT', 'Allele']:\n",
    "    print(df[var].value_counts()[0:10])"
   ]
  },
  {
   "cell_type": "markdown",
   "metadata": {},
   "source": [
    "There are a lot of low-frequency categories - I will lump them together into an \"other\" category."
   ]
  },
  {
   "cell_type": "code",
   "execution_count": 11,
   "metadata": {},
   "outputs": [],
   "source": [
    "for var in ['REF', 'ALT', 'Allele']:\n",
    "    df[var] = df[var].apply(lambda x: 'O' if x not in ['A', 'C', 'G', 'T'] else x).astype('category')"
   ]
  },
  {
   "cell_type": "markdown",
   "metadata": {},
   "source": [
    "## AF_ESP, AF_EXAC, and AF_TGP\n",
    "\n",
    "These variables capture the allele frequency as found in other datasets. They are almost all zero, so I dichotomize them into zero vs non-zero."
   ]
  },
  {
   "cell_type": "code",
   "execution_count": 12,
   "metadata": {},
   "outputs": [
    {
     "data": {
      "text/html": [
       "<div>\n",
       "<style scoped>\n",
       "    .dataframe tbody tr th:only-of-type {\n",
       "        vertical-align: middle;\n",
       "    }\n",
       "\n",
       "    .dataframe tbody tr th {\n",
       "        vertical-align: top;\n",
       "    }\n",
       "\n",
       "    .dataframe thead th {\n",
       "        text-align: right;\n",
       "    }\n",
       "</style>\n",
       "<table border=\"1\" class=\"dataframe\">\n",
       "  <thead>\n",
       "    <tr style=\"text-align: right;\">\n",
       "      <th></th>\n",
       "      <th>AF_ESP</th>\n",
       "      <th>AF_EXAC</th>\n",
       "      <th>AF_TGP</th>\n",
       "    </tr>\n",
       "  </thead>\n",
       "  <tbody>\n",
       "    <tr>\n",
       "      <th>count</th>\n",
       "      <td>65188.000000</td>\n",
       "      <td>65188.000000</td>\n",
       "      <td>65188.000000</td>\n",
       "    </tr>\n",
       "    <tr>\n",
       "      <th>mean</th>\n",
       "      <td>0.014511</td>\n",
       "      <td>0.014492</td>\n",
       "      <td>0.015263</td>\n",
       "    </tr>\n",
       "    <tr>\n",
       "      <th>std</th>\n",
       "      <td>0.057795</td>\n",
       "      <td>0.059542</td>\n",
       "      <td>0.059527</td>\n",
       "    </tr>\n",
       "    <tr>\n",
       "      <th>min</th>\n",
       "      <td>0.000000</td>\n",
       "      <td>0.000000</td>\n",
       "      <td>0.000000</td>\n",
       "    </tr>\n",
       "    <tr>\n",
       "      <th>25%</th>\n",
       "      <td>0.000000</td>\n",
       "      <td>0.000000</td>\n",
       "      <td>0.000000</td>\n",
       "    </tr>\n",
       "    <tr>\n",
       "      <th>50%</th>\n",
       "      <td>0.000000</td>\n",
       "      <td>0.000040</td>\n",
       "      <td>0.000000</td>\n",
       "    </tr>\n",
       "    <tr>\n",
       "      <th>75%</th>\n",
       "      <td>0.001200</td>\n",
       "      <td>0.001230</td>\n",
       "      <td>0.001600</td>\n",
       "    </tr>\n",
       "    <tr>\n",
       "      <th>max</th>\n",
       "      <td>0.499000</td>\n",
       "      <td>0.499890</td>\n",
       "      <td>0.499800</td>\n",
       "    </tr>\n",
       "  </tbody>\n",
       "</table>\n",
       "</div>"
      ],
      "text/plain": [
       "             AF_ESP       AF_EXAC        AF_TGP\n",
       "count  65188.000000  65188.000000  65188.000000\n",
       "mean       0.014511      0.014492      0.015263\n",
       "std        0.057795      0.059542      0.059527\n",
       "min        0.000000      0.000000      0.000000\n",
       "25%        0.000000      0.000000      0.000000\n",
       "50%        0.000000      0.000040      0.000000\n",
       "75%        0.001200      0.001230      0.001600\n",
       "max        0.499000      0.499890      0.499800"
      ]
     },
     "execution_count": 12,
     "metadata": {},
     "output_type": "execute_result"
    }
   ],
   "source": [
    "df[['AF_ESP', 'AF_EXAC', 'AF_TGP']].describe()"
   ]
  },
  {
   "cell_type": "code",
   "execution_count": 13,
   "metadata": {},
   "outputs": [
    {
     "data": {
      "text/plain": [
       "array([[<matplotlib.axes._subplots.AxesSubplot object at 0x000001C282F14F28>,\n",
       "        <matplotlib.axes._subplots.AxesSubplot object at 0x000001C285981A20>],\n",
       "       [<matplotlib.axes._subplots.AxesSubplot object at 0x000001C2859A8C88>,\n",
       "        <matplotlib.axes._subplots.AxesSubplot object at 0x000001C2859D2EF0>]],\n",
       "      dtype=object)"
      ]
     },
     "execution_count": 13,
     "metadata": {},
     "output_type": "execute_result"
    },
    {
     "data": {
      "image/png": "[encoded data removed]",
      "text/plain": [
       "<Figure size 432x288 with 4 Axes>"
      ]
     },
     "metadata": {
      "needs_background": "light"
     },
     "output_type": "display_data"
    }
   ],
   "source": [
    "df[['AF_ESP', 'AF_EXAC', 'AF_TGP']].hist()"
   ]
  },
  {
   "cell_type": "code",
   "execution_count": 14,
   "metadata": {},
   "outputs": [],
   "source": [
    "df['AF_ESP'] = df['AF_ESP'].apply(lambda x: 1 if x > 0 else 0).astype('category')\n",
    "df['AF_EXAC'] = df['AF_EXAC'].apply(lambda x: 1 if x > 0 else 0).astype('category')\n",
    "df['AF_TGP'] = df['AF_TGP'].apply(lambda x: 1 if x > 0 else 0).astype('category')"
   ]
  },
  {
   "cell_type": "markdown",
   "metadata": {},
   "source": [
    "## CLNDISDB\n",
    "\n",
    "This variable contains IDs for diseases in other databases. This variable has a large number of values, so it will be difficult to use it. I see that different values for this variable often contain the same identifiedrs, making the values arguable not unique (e.g. 'MedGen:CN169374' appears in multiple values). I choose to drop it."
   ]
  },
  {
   "cell_type": "code",
   "execution_count": 15,
   "metadata": {},
   "outputs": [
    {
     "name": "stdout",
     "output_type": "stream",
     "text": [
      "9234\n"
     ]
    },
    {
     "data": {
      "text/plain": [
       "MedGen:CN169374                                                                                             5344\n",
       "MedGen:C0027672,SNOMED_CT:699346009|MedGen:CN169374                                                         1724\n",
       "MedGen:CN169374|MedGen:CN517202                                                                             1398\n",
       "MedGen:C0027672,SNOMED_CT:699346009                                                                         1139\n",
       "MedGen:C1837342,OMIM:608807,Orphanet:ORPHA140922|MedGen:C1858763,OMIM:604145|MedGen:CN169374                 913\n",
       "MedGen:C0020445,OMIM:143890,SNOMED_CT:397915002,SNOMED_CT:398036000                                          732\n",
       "MedGen:C0004135,OMIM:208900,Orphanet:ORPHA100,SNOMED_CT:68504005|MedGen:C0027672,SNOMED_CT:699346009         608\n",
       "MedGen:C0027672,SNOMED_CT:699346009|MedGen:C0346153,OMIM:114480,Orphanet:ORPHA227535,SNOMED_CT:254843006     561\n",
       "Human_Phenotype_Ontology:HP:0012265,MedGen:C0008780,Orphanet:ORPHA244|MedGen:CN169374                        526\n",
       "MedGen:C0027672,SNOMED_CT:699346009|MedGen:C0027831,OMIM:162200,Orphanet:ORPHA636,SNOMED_CT:92824003         513\n",
       "Name: CLNDISDB, dtype: int64"
      ]
     },
     "execution_count": 15,
     "metadata": {},
     "output_type": "execute_result"
    }
   ],
   "source": [
    "print(len(df['CLNDISDB'].unique()))\n",
    "df['CLNDISDB'].value_counts()[0:10]"
   ]
  },
  {
   "cell_type": "code",
   "execution_count": 16,
   "metadata": {},
   "outputs": [],
   "source": [
    "df = df.drop('CLNDISDB', axis = 1)"
   ]
  },
  {
   "cell_type": "markdown",
   "metadata": {},
   "source": [
    "## CLNDN\n",
    "\n",
    "This captures the preferred disease name using the identifiers from CLNDISDB. This may be cleaner than the other variable, and is probably important for prediction, so I will attempt to clean it."
   ]
  },
  {
   "cell_type": "code",
   "execution_count": 17,
   "metadata": {},
   "outputs": [
    {
     "name": "stdout",
     "output_type": "stream",
     "text": [
      "9260\n"
     ]
    },
    {
     "data": {
      "text/plain": [
       "not_specified                                                                                 5344\n",
       "Hereditary_cancer-predisposing_syndrome|not_specified                                         1724\n",
       "not_specified|not_provided                                                                    1398\n",
       "Hereditary_cancer-predisposing_syndrome                                                       1139\n",
       "Limb-girdle_muscular_dystrophy,_type_2J|Dilated_cardiomyopathy_1G|not_specified                913\n",
       "Familial_hypercholesterolemia                                                                  732\n",
       "Ataxia-telangiectasia_syndrome|Hereditary_cancer-predisposing_syndrome                         608\n",
       "Hereditary_cancer-predisposing_syndrome|Familial_cancer_of_breast                              561\n",
       "Ciliary_dyskinesia|not_specified                                                               526\n",
       "Hereditary_cancer-predisposing_syndrome|Neurofibromatosis,_type_1                              513\n",
       "Ataxia-telangiectasia_syndrome|Hereditary_cancer-predisposing_syndrome|not_specified           469\n",
       "Hereditary_cancer-predisposing_syndrome|not_provided                                           456\n",
       "Hereditary_cancer-predisposing_syndrome|Familial_cancer_of_breast|not_specified                450\n",
       "Hereditary_nonpolyposis_colon_cancer|Hereditary_cancer-predisposing_syndrome                   435\n",
       "Hereditary_nonpolyposis_colon_cancer|Hereditary_cancer-predisposing_syndrome|not_specified     397\n",
       "Hereditary_cancer-predisposing_syndrome|Hereditary_breast_and_ovarian_cancer_syndrome          384\n",
       "Hereditary_cancer-predisposing_syndrome|Familial_adenomatous_polyposis_1                       368\n",
       "Hereditary_cancer-predisposing_syndrome|Lynch_syndrome                                         360\n",
       "Hereditary_cancer-predisposing_syndrome|Rhabdoid_tumor_predisposition_syndrome_2               338\n",
       "Hereditary_cancer-predisposing_syndrome|Familial_adenomatous_polyposis_1|not_specified         271\n",
       "Name: CLNDN, dtype: int64"
      ]
     },
     "execution_count": 17,
     "metadata": {},
     "output_type": "execute_result"
    }
   ],
   "source": [
    "print(len(df['CLNDN'].unique()))\n",
    "df['CLNDN'].value_counts()[0:20]"
   ]
  },
  {
   "cell_type": "markdown",
   "metadata": {},
   "source": [
    "Each value is a list of diseases. It seems like I could clean this by creating dummy variables for specific common diseases in each list. I will create dummies for the top 100 diseases."
   ]
  },
  {
   "cell_type": "code",
   "execution_count": 18,
   "metadata": {
    "scrolled": true
   },
   "outputs": [
    {
     "name": "stdout",
     "output_type": "stream",
     "text": [
      "not_specified                                    45547.0\n",
      "Hereditary_cancer-predisposing_syndrome          18367.0\n",
      "not_provided                                     13020.0\n",
      "Hereditary_breast_and_ovarian_cancer_syndrome     2058.0\n",
      "Familial_cancer_of_breast                         1977.0\n",
      "Dilated_cardiomyopathy_1G                         1951.0\n",
      "Limb-girdle_muscular_dystrophy,_type_2J           1920.0\n",
      "Cardiovascular_phenotype                          1853.0\n",
      "Hypertrophic_cardiomyopathy                       1556.0\n",
      "Ataxia-telangiectasia_syndrome                    1510.0\n",
      "dtype: float64\n",
      "['not_specified', 'Hereditary_cancer-predisposing_syndrome', 'not_provided', 'Hereditary_breast_and_ovarian_cancer_syndrome', 'Familial_cancer_of_breast', 'Dilated_cardiomyopathy_1G', 'Limb-girdle_muscular_dystrophy,_type_2J', 'Cardiovascular_phenotype', 'Hypertrophic_cardiomyopathy', 'Ataxia-telangiectasia_syndrome']\n"
     ]
    }
   ],
   "source": [
    "name_df = df['CLNDN'].str.split(pat = '|', expand = True)\n",
    "name_df.head()\n",
    "top_100_dn = name_df.apply(pd.value_counts).sum(axis=1).sort_values(ascending = False)[0:100]\n",
    "print(top_100_dn[0:10])\n",
    "\n",
    "top_100_dn_list = list(top_100_dn.index)\n",
    "print(top_100_dn_list[0:10])"
   ]
  },
  {
   "cell_type": "code",
   "execution_count": 19,
   "metadata": {},
   "outputs": [],
   "source": [
    "for dn in top_100_dn_list:\n",
    "    df[dn] = df['CLNDN'].apply(lambda x: 1 if dn in x else 0).astype('category')\n",
    "df = df.drop('CLNDN', axis = 1)"
   ]
  },
  {
   "cell_type": "code",
   "execution_count": 20,
   "metadata": {},
   "outputs": [
    {
     "name": "stdout",
     "output_type": "stream",
     "text": [
      "Index(['CHROM', 'POS', 'REF', 'ALT', 'AF_ESP', 'AF_EXAC', 'AF_TGP', 'CLNHGVS',\n",
      "       'CLNVC', 'CLNVI',\n",
      "       ...\n",
      "       'Ehlers-Danlos_syndrome,_type_7A', 'Cardiomyopathy',\n",
      "       'Congenital_contractural_arachnodactyly',\n",
      "       'Cardiomyopathy_dilated_with_woolly_hair_and_keratoderma',\n",
      "       'Romano-Ward_syndrome', 'Charcot-Marie-Tooth,_Type_4',\n",
      "       'PTEN_hamartoma_tumor_syndrome', 'Nemaline_Myopathy,_Recessive',\n",
      "       'Renal_cell_carcinoma,_papillary,_1', 'Hereditary_cutaneous_melanoma'],\n",
      "      dtype='object', length=135)\n"
     ]
    }
   ],
   "source": [
    "print(df.columns)"
   ]
  },
  {
   "cell_type": "markdown",
   "metadata": {},
   "source": [
    "## CLNHGVS\n",
    "\n",
    "This variable is all unique values that I don't understand related to HGVS expression. I choose to drop it."
   ]
  },
  {
   "cell_type": "code",
   "execution_count": 21,
   "metadata": {},
   "outputs": [
    {
     "name": "stdout",
     "output_type": "stream",
     "text": [
      "65188\n"
     ]
    }
   ],
   "source": [
    "print(len(df['CLNHGVS'].unique()))\n",
    "df = df.drop('CLNHGVS', axis = 1)"
   ]
  },
  {
   "cell_type": "markdown",
   "metadata": {},
   "source": [
    "## CLNVC\n",
    "\n",
    "This variant type variable is almost all one value - I will turn it into a categorical variable by consolidating low-incidence types."
   ]
  },
  {
   "cell_type": "code",
   "execution_count": 22,
   "metadata": {},
   "outputs": [
    {
     "name": "stdout",
     "output_type": "stream",
     "text": [
      "single_nucleotide_variant    61281\n",
      "Deletion                      2509\n",
      "Duplication                   1034\n",
      "Indel                          247\n",
      "Insertion                       95\n",
      "Inversion                       17\n",
      "Microsatellite                   5\n",
      "Name: CLNVC, dtype: int64\n"
     ]
    }
   ],
   "source": [
    "print(df['CLNVC'].value_counts())"
   ]
  },
  {
   "cell_type": "code",
   "execution_count": 23,
   "metadata": {},
   "outputs": [],
   "source": [
    "clnvc_types = ['single_nucleotide_variant', 'Deletion', 'Duplication']\n",
    "df['CLNVC'] = df['CLNVC'].apply(lambda x: x if x in clnvc_types else 'Other').astype('category')"
   ]
  },
  {
   "cell_type": "markdown",
   "metadata": {},
   "source": [
    "## MC\n",
    "\n",
    "Molecular consequence is a categorical variable, need to clean up rare values. Since values are lists of consequences, I will do this similarly to how I did it for the names, splitting up the series and coding dummies."
   ]
  },
  {
   "cell_type": "code",
   "execution_count": 24,
   "metadata": {},
   "outputs": [
    {
     "data": {
      "text/plain": [
       "SO:0001583|missense_variant                                   23034\n",
       "SO:0001819|synonymous_variant                                 16549\n",
       "SO:0001627|intron_variant                                      7534\n",
       "SO:0001583|missense_variant,SO:0001627|intron_variant          2422\n",
       "SO:0001589|frameshift_variant                                  1622\n",
       "SO:0001587|nonsense                                            1573\n",
       "SO:0001627|intron_variant,SO:0001819|synonymous_variant        1148\n",
       "SO:0001583|missense_variant,SO:0001623|5_prime_UTR_variant      599\n",
       "SO:0001623|5_prime_UTR_variant                                  516\n",
       "SO:0001575|splice_donor_variant                                 504\n",
       "Name: MC, dtype: int64"
      ]
     },
     "execution_count": 24,
     "metadata": {},
     "output_type": "execute_result"
    }
   ],
   "source": [
    "df['MC'].value_counts()[0:10]"
   ]
  },
  {
   "cell_type": "code",
   "execution_count": 25,
   "metadata": {},
   "outputs": [
    {
     "name": "stdout",
     "output_type": "stream",
     "text": [
      "missense_variant           26642.0\n",
      "SO:0001583                 26642.0\n",
      "synonymous_variant         18379.0\n",
      "SO:0001819                 18379.0\n",
      "intron_variant             11967.0\n",
      "SO:0001627                 11967.0\n",
      "5_prime_UTR_variant         1985.0\n",
      "SO:0001623                  1985.0\n",
      "SO:0001589                  1861.0\n",
      "frameshift_variant          1861.0\n",
      "nonsense                    1783.0\n",
      "SO:0001587                  1783.0\n",
      "3_prime_UTR_variant          704.0\n",
      "SO:0001624                   704.0\n",
      "splice_donor_variant         579.0\n",
      "SO:0001575                   579.0\n",
      "SO:0001636                   429.0\n",
      "2KB_upstream_variant         429.0\n",
      "SO:0001574                   428.0\n",
      "splice_acceptor_variant      428.0\n",
      "dtype: float64\n",
      "['missense_variant', 'synonymous_variant', 'intron_variant', '5_prime_UTR_variant', 'frameshift_variant', 'nonsense', '3_prime_UTR_variant', 'splice_donor_variant', '2KB_upstream_variant', 'splice_acceptor_variant']\n"
     ]
    }
   ],
   "source": [
    "name_df = df['MC'].str.split(pat = '[|,]', expand = True)\n",
    "name_df.head()\n",
    "top_mc = name_df.apply(pd.value_counts).sum(axis=1).sort_values(ascending = False)[0:20]\n",
    "print(top_mc)\n",
    "\n",
    "top_mc_list = [x for x in list(top_mc.index) if 'SO:' not in x]\n",
    "print(top_mc_list)"
   ]
  },
  {
   "cell_type": "code",
   "execution_count": 26,
   "metadata": {},
   "outputs": [
    {
     "name": "stdout",
     "output_type": "stream",
     "text": [
      "0    38546\n",
      "1    26642\n",
      "Name: missense_variant, dtype: int64\n",
      "0    46809\n",
      "1    18379\n",
      "Name: synonymous_variant, dtype: int64\n",
      "0    53221\n",
      "1    11967\n",
      "Name: intron_variant, dtype: int64\n",
      "0    63203\n",
      "1     1985\n",
      "Name: 5_prime_UTR_variant, dtype: int64\n",
      "0    63327\n",
      "1     1861\n",
      "Name: frameshift_variant, dtype: int64\n",
      "0    63405\n",
      "1     1783\n",
      "Name: nonsense, dtype: int64\n",
      "0    64484\n",
      "1      704\n",
      "Name: 3_prime_UTR_variant, dtype: int64\n",
      "0    64609\n",
      "1      579\n",
      "Name: splice_donor_variant, dtype: int64\n",
      "0    64759\n",
      "1      429\n",
      "Name: 2KB_upstream_variant, dtype: int64\n",
      "0    64760\n",
      "1      428\n",
      "Name: splice_acceptor_variant, dtype: int64\n"
     ]
    }
   ],
   "source": [
    "df['MC'] = df['MC'].fillna('unknown')\n",
    "for mc in top_mc_list:\n",
    "    df[mc] = df['MC'].apply(lambda x: 1 if mc in x else 0).astype('category')\n",
    "    print(df[mc].value_counts())\n",
    "df = df.drop('MC', axis = 1)"
   ]
  },
  {
   "cell_type": "markdown",
   "metadata": {},
   "source": [
    "## ORIGIN\n",
    "\n",
    "Here is the description: \"Allele origin. One or more of the following values may be added: 0 - unknown; 1 - germline; 2 - somatic; 4 - inherited; 8 - paternal; 16 - maternal; 32 - de-novo; 64 - biparental; 128 - uniparental; 256 - not-tested; 512 - tested-inconclusive; 1073741824 - other\" Since almost all have origin 1 (germline), I will recode this to have 0 for all other values to make it a dummy variable."
   ]
  },
  {
   "cell_type": "code",
   "execution_count": 27,
   "metadata": {},
   "outputs": [],
   "source": [
    "df['ORIGIN'] = df['ORIGIN'].fillna(0).apply(lambda x: 1 if x == 1.0 else 0).astype('category')"
   ]
  },
  {
   "cell_type": "markdown",
   "metadata": {},
   "source": [
    "## Consequence\n",
    "\n",
    "This variable is similar to MC, but with slightly different values. I'm not sure why. I will use it to update the MC dummy variables from before."
   ]
  },
  {
   "cell_type": "code",
   "execution_count": 28,
   "metadata": {},
   "outputs": [
    {
     "name": "stdout",
     "output_type": "stream",
     "text": [
      "missense_variant            32408.0\n",
      "synonymous_variant          18220.0\n",
      "intron_variant               7847.0\n",
      "splice_region_variant        5065.0\n",
      "frameshift_variant           1864.0\n",
      "stop_gained                  1800.0\n",
      "5_prime_UTR_variant           642.0\n",
      "inframe_deletion              593.0\n",
      "splice_donor_variant          584.0\n",
      "3_prime_UTR_variant           435.0\n",
      "splice_acceptor_variant       421.0\n",
      "inframe_insertion             204.0\n",
      "start_lost                    100.0\n",
      "upstream_gene_variant          82.0\n",
      "coding_sequence_variant        43.0\n",
      "downstream_gene_variant        26.0\n",
      "stop_lost                      16.0\n",
      "intergenic_variant             14.0\n",
      "stop_retained_variant          12.0\n",
      "protein_altering_variant       10.0\n",
      "dtype: float64\n"
     ]
    }
   ],
   "source": [
    "name_df = df['Consequence'].str.split(pat = '&', expand = True)\n",
    "name_df.head()\n",
    "top_mc = name_df.apply(pd.value_counts).sum(axis=1).sort_values(ascending = False)\n",
    "print(top_mc[0:20])"
   ]
  },
  {
   "cell_type": "code",
   "execution_count": 29,
   "metadata": {},
   "outputs": [
    {
     "name": "stdout",
     "output_type": "stream",
     "text": [
      "1    32783\n",
      "0    32405\n",
      "Name: missense_variant, dtype: int64\n",
      "0    46770\n",
      "1    18418\n",
      "Name: synonymous_variant, dtype: int64\n",
      "0    53145\n",
      "1    12043\n",
      "Name: intron_variant, dtype: int64\n",
      "0    63132\n",
      "1     2056\n",
      "Name: 5_prime_UTR_variant, dtype: int64\n",
      "0    63301\n",
      "1     1887\n",
      "Name: frameshift_variant, dtype: int64\n",
      "0    63405\n",
      "1     1783\n",
      "Name: nonsense, dtype: int64\n",
      "0    64431\n",
      "1      757\n",
      "Name: 3_prime_UTR_variant, dtype: int64\n",
      "0    64568\n",
      "1      620\n",
      "Name: splice_donor_variant, dtype: int64\n",
      "0    64759\n",
      "1      429\n",
      "Name: 2KB_upstream_variant, dtype: int64\n",
      "0    64741\n",
      "1      447\n",
      "Name: splice_acceptor_variant, dtype: int64\n"
     ]
    }
   ],
   "source": [
    "for mc in top_mc_list:\n",
    "    mc2 = mc + '2'\n",
    "    df[mc2] = df['Consequence'].apply(lambda x: 1 if mc in x else 0).astype('category')\n",
    "    df[mc] = df[[mc, mc2]].apply(lambda x: max(x[mc], x[mc2]), axis = 1).astype('category')\n",
    "    print(df[mc].value_counts())\n",
    "    df=df.drop(mc2, axis = 1)\n",
    "df = df.drop('Consequence', axis = 1)"
   ]
  },
  {
   "cell_type": "markdown",
   "metadata": {},
   "source": [
    "## IMPACT\n",
    "\n",
    "Categorical variable capturing variant impact"
   ]
  },
  {
   "cell_type": "code",
   "execution_count": 30,
   "metadata": {},
   "outputs": [
    {
     "data": {
      "text/plain": [
       "MODERATE    33212\n",
       "LOW         21642\n",
       "MODIFIER     5582\n",
       "HIGH         4752\n",
       "Name: IMPACT, dtype: int64"
      ]
     },
     "execution_count": 30,
     "metadata": {},
     "output_type": "execute_result"
    }
   ],
   "source": [
    "df['IMPACT'].value_counts()"
   ]
  },
  {
   "cell_type": "code",
   "execution_count": 31,
   "metadata": {},
   "outputs": [],
   "source": [
    "df['IMPACT'] = df['IMPACT'].astype('category')"
   ]
  },
  {
   "cell_type": "markdown",
   "metadata": {},
   "source": [
    "## SYMBOL\n",
    "\n",
    "This variable is the Gene symbol/ID. It has many values - I will make it categorical, but only keep the top 100 values, recoding the rest as \"Other\"."
   ]
  },
  {
   "cell_type": "code",
   "execution_count": 32,
   "metadata": {},
   "outputs": [
    {
     "data": {
      "text/plain": [
       "2329"
      ]
     },
     "execution_count": 32,
     "metadata": {},
     "output_type": "execute_result"
    }
   ],
   "source": [
    "len(df['SYMBOL'].unique())"
   ]
  },
  {
   "cell_type": "code",
   "execution_count": 33,
   "metadata": {},
   "outputs": [
    {
     "data": {
      "text/plain": [
       "TTN      2765\n",
       "BRCA2    1934\n",
       "ATM      1909\n",
       "APC      1228\n",
       "BRCA1    1075\n",
       "MSH6     1048\n",
       "LDLR      905\n",
       "PALB2     794\n",
       "NF1       732\n",
       "TSC2      640\n",
       "Name: SYMBOL, dtype: int64"
      ]
     },
     "execution_count": 33,
     "metadata": {},
     "output_type": "execute_result"
    }
   ],
   "source": [
    "df['SYMBOL'].value_counts()[0:10]"
   ]
  },
  {
   "cell_type": "code",
   "execution_count": 34,
   "metadata": {},
   "outputs": [],
   "source": [
    "top_100_symb = df['SYMBOL'].value_counts()[0:100].index\n",
    "df['SYMBOL'] = df['SYMBOL'].apply(lambda x: x if x in top_100_symb else 'Other').astype('category')"
   ]
  },
  {
   "cell_type": "code",
   "execution_count": 35,
   "metadata": {},
   "outputs": [
    {
     "data": {
      "text/plain": [
       "Other      30800\n",
       "TTN         2765\n",
       "BRCA2       1934\n",
       "ATM         1909\n",
       "APC         1228\n",
       "BRCA1       1075\n",
       "MSH6        1048\n",
       "LDLR         905\n",
       "PALB2        794\n",
       "NF1          732\n",
       "TSC2         640\n",
       "BRIP1        627\n",
       "PMS2         600\n",
       "MSH2         596\n",
       "POLE         571\n",
       "CDH1         553\n",
       "CHEK2        491\n",
       "BARD1        490\n",
       "SMARCA4      451\n",
       "MYBPC3       441\n",
       "RAD50        426\n",
       "SYNE1        422\n",
       "TP53         420\n",
       "POLD1        404\n",
       "NBN          397\n",
       "MLH1         395\n",
       "MUTYH        391\n",
       "PLEC         379\n",
       "STK11        359\n",
       "MYH7         333\n",
       "           ...  \n",
       "KCNH2        151\n",
       "LAMA2        151\n",
       "CACNA1C      150\n",
       "ASPM         148\n",
       "PCNT         146\n",
       "SMAD4        146\n",
       "MEN1         143\n",
       "FLNA         141\n",
       "ABCA4        138\n",
       "MECP2        136\n",
       "BAP1         135\n",
       "PKP2         132\n",
       "FLCN         131\n",
       "MYO7A        131\n",
       "BLM          129\n",
       "APOB         128\n",
       "MET          126\n",
       "VHL          126\n",
       "ATP7B        126\n",
       "WFS1         126\n",
       "DYNC1H1      124\n",
       "CDKN2A       124\n",
       "KMT2D        123\n",
       "FANCC        123\n",
       "RELN         123\n",
       "CNTNAP2      123\n",
       "VPS13B       121\n",
       "FH           118\n",
       "NOTCH1       118\n",
       "ALMS1        117\n",
       "Name: SYMBOL, Length: 100, dtype: int64"
      ]
     },
     "execution_count": 35,
     "metadata": {},
     "output_type": "execute_result"
    }
   ],
   "source": [
    "df['SYMBOL'].value_counts()[0:100]"
   ]
  },
  {
   "cell_type": "markdown",
   "metadata": {},
   "source": [
    "## Feature\n",
    "\n",
    "This is an ID associated with gene name - deleting due to redundancy"
   ]
  },
  {
   "cell_type": "code",
   "execution_count": 36,
   "metadata": {},
   "outputs": [],
   "source": [
    "df = df.drop('Feature', axis = 1)"
   ]
  },
  {
   "cell_type": "markdown",
   "metadata": {},
   "source": [
    "## Feature_type and BIOTYPE\n",
    "\n",
    "These features have little information (almost all records have same value), so I drop them."
   ]
  },
  {
   "cell_type": "code",
   "execution_count": 37,
   "metadata": {},
   "outputs": [
    {
     "name": "stdout",
     "output_type": "stream",
     "text": [
      "Transcript      65172\n",
      "MotifFeature        2\n",
      "Name: Feature_type, dtype: int64\n",
      "protein_coding    65158\n",
      "misc_RNA             14\n",
      "Name: BIOTYPE, dtype: int64\n"
     ]
    }
   ],
   "source": [
    "for var in ['Feature_type', 'BIOTYPE']:\n",
    "    print(df[var].value_counts())\n",
    "    df = df.drop(var, axis = 1)"
   ]
  },
  {
   "cell_type": "markdown",
   "metadata": {},
   "source": [
    "## EXON\n",
    "\n",
    "This captures the relative exon number. Given the very large numbers of unique values, I choose to drop it."
   ]
  },
  {
   "cell_type": "code",
   "execution_count": 38,
   "metadata": {},
   "outputs": [
    {
     "data": {
      "text/plain": [
       "3265"
      ]
     },
     "execution_count": 38,
     "metadata": {},
     "output_type": "execute_result"
    }
   ],
   "source": [
    "len(df['EXON'].unique())"
   ]
  },
  {
   "cell_type": "code",
   "execution_count": 39,
   "metadata": {},
   "outputs": [],
   "source": [
    "df = df.drop('EXON', axis = 1)"
   ]
  },
  {
   "cell_type": "markdown",
   "metadata": {},
   "source": [
    "## cDNA_position, CDS_position, Protein_position\n",
    "\n",
    "These represent relative positions of the base pair in various ways. These are all distance measures, which I think are irrelevant to the problem at hand, and difficult to clean so I drop them."
   ]
  },
  {
   "cell_type": "code",
   "execution_count": 40,
   "metadata": {},
   "outputs": [],
   "source": [
    "df = df.drop(['cDNA_position', 'CDS_position', 'Protein_position'], axis = 1)"
   ]
  },
  {
   "cell_type": "markdown",
   "metadata": {},
   "source": [
    "## Amino_acids, Codons\n",
    "\n",
    "These have a large number of unique values, so I drop them."
   ]
  },
  {
   "cell_type": "code",
   "execution_count": 41,
   "metadata": {},
   "outputs": [],
   "source": [
    "df = df.drop(['Amino_acids', 'Codons'], axis = 1)"
   ]
  },
  {
   "cell_type": "markdown",
   "metadata": {},
   "source": [
    "## STRAND\n",
    "\n",
    "Categorical: defined as + (forward) or - (reverse)"
   ]
  },
  {
   "cell_type": "code",
   "execution_count": 42,
   "metadata": {},
   "outputs": [
    {
     "data": {
      "text/plain": [
       "-1.0    32804\n",
       " 1.0    32370\n",
       "Name: STRAND, dtype: int64"
      ]
     },
     "execution_count": 42,
     "metadata": {},
     "output_type": "execute_result"
    }
   ],
   "source": [
    "df['STRAND'].value_counts()"
   ]
  },
  {
   "cell_type": "code",
   "execution_count": 60,
   "metadata": {},
   "outputs": [],
   "source": [
    "df['STRAND'] = df['STRAND'].fillna(df['STRAND'].mode())\n",
    "df['STRAND'] = df['STRAND'].astype('category')"
   ]
  },
  {
   "cell_type": "markdown",
   "metadata": {},
   "source": [
    "## LoFtool\n",
    "\n",
    "Numeric variable: Loss of Function tolerance score for loss of function variants. Will fill missing values with median."
   ]
  },
  {
   "cell_type": "code",
   "execution_count": 61,
   "metadata": {},
   "outputs": [],
   "source": [
    "df['LoFtool'] = df['LoFtool'].fillna(df['LoFtool'].median())"
   ]
  },
  {
   "cell_type": "markdown",
   "metadata": {},
   "source": [
    "## CADD_PHRED, CADD_RAW\n",
    "\n",
    "Different scores of deleteriousness - I keep them and fill missing values with medians."
   ]
  },
  {
   "cell_type": "code",
   "execution_count": 62,
   "metadata": {},
   "outputs": [],
   "source": [
    "df['CADD_PHRED'] = df['CADD_PHRED'].fillna(df['CADD_PHRED'].median())"
   ]
  },
  {
   "cell_type": "code",
   "execution_count": 63,
   "metadata": {},
   "outputs": [],
   "source": [
    "df['CADD_RAW'] = df['CADD_RAW'].fillna(df['CADD_RAW'].median())"
   ]
  },
  {
   "cell_type": "markdown",
   "metadata": {},
   "source": [
    "## Scaling numeric variables"
   ]
  },
  {
   "cell_type": "code",
   "execution_count": 100,
   "metadata": {},
   "outputs": [],
   "source": [
    "from sklearn.preprocessing import StandardScaler\n",
    "\n",
    "num_var_list = ['POS', 'LoFtool', 'CADD_PHRED', 'CADD_RAW']\n",
    "scl = StandardScaler()\n",
    "df[num_var_list] = scl.fit_transform(df[num_var_list])"
   ]
  },
  {
   "cell_type": "markdown",
   "metadata": {},
   "source": [
    "## Separate target and features"
   ]
  },
  {
   "cell_type": "code",
   "execution_count": 147,
   "metadata": {},
   "outputs": [],
   "source": [
    "target = df['target']\n",
    "features = df.drop('target', axis = 1)"
   ]
  },
  {
   "cell_type": "markdown",
   "metadata": {},
   "source": [
    "# Exploring the Data"
   ]
  },
  {
   "cell_type": "code",
   "execution_count": 148,
   "metadata": {
    "scrolled": false
   },
   "outputs": [
    {
     "data": {
      "text/plain": [
       "['CHROM',\n",
       " 'POS',\n",
       " 'REF',\n",
       " 'ALT',\n",
       " 'AF_ESP',\n",
       " 'AF_EXAC',\n",
       " 'AF_TGP',\n",
       " 'CLNVC',\n",
       " 'CLNVI',\n",
       " 'ORIGIN',\n",
       " 'target',\n",
       " 'Allele',\n",
       " 'IMPACT',\n",
       " 'SYMBOL',\n",
       " 'INTRON',\n",
       " 'STRAND',\n",
       " 'BAM_EDIT',\n",
       " 'SIFT',\n",
       " 'PolyPhen',\n",
       " 'LoFtool',\n",
       " 'CADD_PHRED',\n",
       " 'CADD_RAW',\n",
       " 'BLOSUM62']"
      ]
     },
     "execution_count": 148,
     "metadata": {},
     "output_type": "execute_result"
    }
   ],
   "source": [
    "#Original columns\n",
    "list(df.columns[0:23])"
   ]
  },
  {
   "cell_type": "code",
   "execution_count": 149,
   "metadata": {},
   "outputs": [
    {
     "name": "stdout",
     "output_type": "stream",
     "text": [
      "<class 'pandas.core.frame.DataFrame'>\n",
      "RangeIndex: 65188 entries, 0 to 65187\n",
      "Data columns (total 23 columns):\n",
      "CHROM         65188 non-null category\n",
      "POS           65188 non-null float64\n",
      "REF           65188 non-null category\n",
      "ALT           65188 non-null category\n",
      "AF_ESP        65188 non-null category\n",
      "AF_EXAC       65188 non-null category\n",
      "AF_TGP        65188 non-null category\n",
      "CLNVC         65188 non-null category\n",
      "CLNVI         65188 non-null category\n",
      "ORIGIN        65188 non-null category\n",
      "target        65188 non-null category\n",
      "Allele        65188 non-null category\n",
      "IMPACT        65188 non-null category\n",
      "SYMBOL        65188 non-null category\n",
      "INTRON        65188 non-null category\n",
      "STRAND        65174 non-null category\n",
      "BAM_EDIT      65188 non-null category\n",
      "SIFT          65188 non-null category\n",
      "PolyPhen      65188 non-null category\n",
      "LoFtool       65188 non-null float64\n",
      "CADD_PHRED    65188 non-null float64\n",
      "CADD_RAW      65188 non-null float64\n",
      "BLOSUM62      65188 non-null category\n",
      "dtypes: category(19), float64(4)\n",
      "memory usage: 3.2 MB\n"
     ]
    }
   ],
   "source": [
    "df.iloc[:, 0:23].info()"
   ]
  },
  {
   "cell_type": "code",
   "execution_count": 150,
   "metadata": {},
   "outputs": [],
   "source": [
    "#Original feature set\n",
    "orig_feat = list(features.columns[0:22])\n",
    "orig_feat_cat = [x for x in orig_feat if x not in num_var_list]"
   ]
  },
  {
   "cell_type": "markdown",
   "metadata": {},
   "source": [
    "## Numeric Variables\n",
    "\n",
    "In this section I explore the numeric variables in the dataset. I find that there is a high correlation between CADD_PHRED and CADD_RAW, so I choose to drop one of them. I drop CADD_RAW due to the long right tail."
   ]
  },
  {
   "cell_type": "code",
   "execution_count": 151,
   "metadata": {
    "scrolled": false
   },
   "outputs": [
    {
     "data": {
      "text/html": [
       "<div>\n",
       "<style scoped>\n",
       "    .dataframe tbody tr th:only-of-type {\n",
       "        vertical-align: middle;\n",
       "    }\n",
       "\n",
       "    .dataframe tbody tr th {\n",
       "        vertical-align: top;\n",
       "    }\n",
       "\n",
       "    .dataframe thead th {\n",
       "        text-align: right;\n",
       "    }\n",
       "</style>\n",
       "<table border=\"1\" class=\"dataframe\">\n",
       "  <thead>\n",
       "    <tr style=\"text-align: right;\">\n",
       "      <th></th>\n",
       "      <th>POS</th>\n",
       "      <th>LoFtool</th>\n",
       "      <th>CADD_PHRED</th>\n",
       "      <th>CADD_RAW</th>\n",
       "    </tr>\n",
       "  </thead>\n",
       "  <tbody>\n",
       "    <tr>\n",
       "      <th>count</th>\n",
       "      <td>6.518800e+04</td>\n",
       "      <td>6.518800e+04</td>\n",
       "      <td>6.518800e+04</td>\n",
       "      <td>6.518800e+04</td>\n",
       "    </tr>\n",
       "    <tr>\n",
       "      <th>mean</th>\n",
       "      <td>2.678702e-15</td>\n",
       "      <td>-1.120352e-14</td>\n",
       "      <td>4.172959e-17</td>\n",
       "      <td>8.046341e-17</td>\n",
       "    </tr>\n",
       "    <tr>\n",
       "      <th>std</th>\n",
       "      <td>1.000008e+00</td>\n",
       "      <td>1.000008e+00</td>\n",
       "      <td>1.000008e+00</td>\n",
       "      <td>1.000008e+00</td>\n",
       "    </tr>\n",
       "    <tr>\n",
       "      <th>min</th>\n",
       "      <td>-1.298542e+00</td>\n",
       "      <td>-9.444451e-01</td>\n",
       "      <td>-1.456945e+00</td>\n",
       "      <td>-2.727595e+00</td>\n",
       "    </tr>\n",
       "    <tr>\n",
       "      <th>25%</th>\n",
       "      <td>-7.538351e-01</td>\n",
       "      <td>-8.580947e-01</td>\n",
       "      <td>-7.774106e-01</td>\n",
       "      <td>-6.993341e-01</td>\n",
       "    </tr>\n",
       "    <tr>\n",
       "      <th>50%</th>\n",
       "      <td>-3.281839e-01</td>\n",
       "      <td>-4.991418e-01</td>\n",
       "      <td>-1.459828e-01</td>\n",
       "      <td>-3.048435e-01</td>\n",
       "    </tr>\n",
       "    <tr>\n",
       "      <th>75%</th>\n",
       "      <td>5.887084e-01</td>\n",
       "      <td>9.168069e-01</td>\n",
       "      <td>7.761289e-01</td>\n",
       "      <td>6.039678e-01</td>\n",
       "    </tr>\n",
       "    <tr>\n",
       "      <th>max</th>\n",
       "      <td>2.846198e+00</td>\n",
       "      <td>1.892932e+00</td>\n",
       "      <td>7.754774e+00</td>\n",
       "      <td>1.497726e+01</td>\n",
       "    </tr>\n",
       "  </tbody>\n",
       "</table>\n",
       "</div>"
      ],
      "text/plain": [
       "                POS       LoFtool    CADD_PHRED      CADD_RAW\n",
       "count  6.518800e+04  6.518800e+04  6.518800e+04  6.518800e+04\n",
       "mean   2.678702e-15 -1.120352e-14  4.172959e-17  8.046341e-17\n",
       "std    1.000008e+00  1.000008e+00  1.000008e+00  1.000008e+00\n",
       "min   -1.298542e+00 -9.444451e-01 -1.456945e+00 -2.727595e+00\n",
       "25%   -7.538351e-01 -8.580947e-01 -7.774106e-01 -6.993341e-01\n",
       "50%   -3.281839e-01 -4.991418e-01 -1.459828e-01 -3.048435e-01\n",
       "75%    5.887084e-01  9.168069e-01  7.761289e-01  6.039678e-01\n",
       "max    2.846198e+00  1.892932e+00  7.754774e+00  1.497726e+01"
      ]
     },
     "execution_count": 151,
     "metadata": {},
     "output_type": "execute_result"
    }
   ],
   "source": [
    "features[num_var_list].describe()"
   ]
  },
  {
   "cell_type": "code",
   "execution_count": 152,
   "metadata": {},
   "outputs": [
    {
     "data": {
      "text/plain": [
       "array([[<matplotlib.axes._subplots.AxesSubplot object at 0x000001C28BE3ADD8>,\n",
       "        <matplotlib.axes._subplots.AxesSubplot object at 0x000001C28B2B9E80>],\n",
       "       [<matplotlib.axes._subplots.AxesSubplot object at 0x000001C28E37B0F0>,\n",
       "        <matplotlib.axes._subplots.AxesSubplot object at 0x000001C28E351358>]],\n",
       "      dtype=object)"
      ]
     },
     "execution_count": 152,
     "metadata": {},
     "output_type": "execute_result"
    },
    {
     "data": {
      "image/png": "[encoded data removed]",
      "text/plain": [
       "<Figure size 432x288 with 4 Axes>"
      ]
     },
     "metadata": {
      "needs_background": "light"
     },
     "output_type": "display_data"
    }
   ],
   "source": [
    "features[num_var_list].hist()"
   ]
  },
  {
   "cell_type": "code",
   "execution_count": 153,
   "metadata": {},
   "outputs": [
    {
     "data": {
      "text/plain": [
       "<matplotlib.axes._subplots.AxesSubplot at 0x1c28b208940>"
      ]
     },
     "execution_count": 153,
     "metadata": {},
     "output_type": "execute_result"
    },
    {
     "data": {
      "image/png": "[encoded data removed]",
      "text/plain": [
       "<Figure size 576x576 with 2 Axes>"
      ]
     },
     "metadata": {
      "needs_background": "light"
     },
     "output_type": "display_data"
    }
   ],
   "source": [
    "plt.figure(figsize=(8,8))\n",
    "sns.heatmap(features[num_var_list].corr(),\n",
    "            vmin=0,\n",
    "            vmax=1,\n",
    "            cmap='YlGnBu',\n",
    "            annot=np.round(features[num_var_list].corr(), 2))"
   ]
  },
  {
   "cell_type": "code",
   "execution_count": 154,
   "metadata": {},
   "outputs": [],
   "source": [
    "features = features.drop('CADD_RAW', axis = 1)"
   ]
  },
  {
   "cell_type": "markdown",
   "metadata": {},
   "source": [
    "# Categorical Variables\n",
    "\n",
    "Associations between categorical variables can be difficult to visualize. I use Cramer's V to understand the associations between each pair of categorical features, adapting this code: https://towardsdatascience.com/the-search-for-categorical-correlation-a1cf7f1888c9"
   ]
  },
  {
   "cell_type": "code",
   "execution_count": 155,
   "metadata": {},
   "outputs": [],
   "source": [
    "import scipy.stats as ss\n",
    "\n",
    "def cramers_v(x, y):\n",
    "    confusion_matrix = pd.crosstab(x,y)\n",
    "    chi2 = ss.chi2_contingency(confusion_matrix)[0]\n",
    "    n = confusion_matrix.sum().sum()\n",
    "    phi2 = chi2/n\n",
    "    r,k = confusion_matrix.shape\n",
    "    phi2corr = max(0, phi2-((k-1)*(r-1))/(n-1))\n",
    "    rcorr = r-((r-1)**2)/(n-1)\n",
    "    kcorr = k-((k-1)**2)/(n-1)\n",
    "    return np.sqrt(phi2corr/min((kcorr-1),(rcorr-1)))"
   ]
  },
  {
   "cell_type": "code",
   "execution_count": 156,
   "metadata": {},
   "outputs": [
    {
     "name": "stdout",
     "output_type": "stream",
     "text": [
      "[[1.         0.07279856 0.05874832 0.19748628 0.17758803]\n",
      " [0.07279856 1.         0.54794936 0.17637193 0.18513339]\n",
      " [0.05874832 0.54794936 1.         0.14589897 0.19605855]\n",
      " [0.19748628 0.17637193 0.14589897 0.99996902 0.65171702]\n",
      " [0.17758803 0.18513339 0.19605855 0.65171702 0.99996705]]\n"
     ]
    }
   ],
   "source": [
    "num_feat = len(orig_feat_cat)\n",
    "cat_corr_arr = np.empty((num_feat, num_feat))\n",
    "for i, row in enumerate(orig_feat_cat):\n",
    "    for j, col in enumerate(orig_feat_cat):\n",
    "        #print((i, j))\n",
    "        cat_corr_arr[i, j] = cramers_v(features[row], features[col])\n",
    "print(cat_corr_arr[0:5, 0:5])"
   ]
  },
  {
   "cell_type": "code",
   "execution_count": 157,
   "metadata": {},
   "outputs": [
    {
     "data": {
      "text/plain": [
       "<matplotlib.axes._subplots.AxesSubplot at 0x1c28e501e80>"
      ]
     },
     "execution_count": 157,
     "metadata": {},
     "output_type": "execute_result"
    },
    {
     "data": {
      "image/png": "[encoded data removed]",
      "text/plain": [
       "<Figure size 1152x1008 with 2 Axes>"
      ]
     },
     "metadata": {
      "needs_background": "light"
     },
     "output_type": "display_data"
    }
   ],
   "source": [
    "plt.figure(figsize=(16, 14))\n",
    "sns.heatmap(cat_corr_arr,\n",
    "            vmin=0,\n",
    "            vmax=1,\n",
    "            cmap='YlGnBu',\n",
    "            xticklabels = orig_feat_cat,\n",
    "            yticklabels = orig_feat_cat,\n",
    "            annot=np.round(cat_corr_arr, 2))"
   ]
  },
  {
   "cell_type": "markdown",
   "metadata": {},
   "source": [
    "I choose to drop the Allele, IMPACT, SYMBOL and PolyPhen variables due to high correlations."
   ]
  },
  {
   "cell_type": "code",
   "execution_count": 158,
   "metadata": {},
   "outputs": [],
   "source": [
    "features = features.drop(['Allele', 'IMPACT', 'SYMBOL', 'PolyPhen'], axis = 1)"
   ]
  },
  {
   "cell_type": "markdown",
   "metadata": {},
   "source": [
    "# Modeling\n",
    "\n",
    "For this problem, I choose to use multiple classifiers to see how they compare. I start with a dummy classifier as a baseline for comparison. Then I proceed to Random Forest Classifier, Naive Bayes, and AdaBoost. I will test the effects of various parameter spefications on model performance."
   ]
  },
  {
   "cell_type": "code",
   "execution_count": 171,
   "metadata": {},
   "outputs": [],
   "source": [
    "from sklearn.dummy import DummyClassifier\n",
    "from sklearn.tree import DecisionTreeClassifier\n",
    "from sklearn.ensemble import RandomForestClassifier, AdaBoostClassifier\n",
    "from sklearn.naive_bayes import GaussianNB\n",
    "from sklearn.model_selection import GridSearchCV, train_test_split, GridSearchCV, cross_val_score\n",
    "from sklearn.metrics import accuracy_score, f1_score"
   ]
  },
  {
   "cell_type": "code",
   "execution_count": 160,
   "metadata": {},
   "outputs": [],
   "source": [
    "features = pd.get_dummies(features, drop_first = True)"
   ]
  },
  {
   "cell_type": "markdown",
   "metadata": {},
   "source": [
    "## Dummy"
   ]
  },
  {
   "cell_type": "code",
   "execution_count": 169,
   "metadata": {},
   "outputs": [
    {
     "name": "stdout",
     "output_type": "stream",
     "text": [
      "Mean Cross Validation Score for Dummy Classifier: 62.33%\n"
     ]
    }
   ],
   "source": [
    "dm_clf = DummyClassifier(random_state = 42)\n",
    "mean_dm_cv_score = cross_val_score(dm_clf, features, target, cv = 3).mean()\n",
    "print(\"Mean Cross Validation Score for Dummy Classifier: {:.4}%\".format(mean_dm_cv_score * 100))"
   ]
  },
  {
   "cell_type": "markdown",
   "metadata": {},
   "source": [
    "## Naive Bayes\n",
    "\n",
    "Another classifier"
   ]
  },
  {
   "cell_type": "code",
   "execution_count": 170,
   "metadata": {},
   "outputs": [
    {
     "name": "stdout",
     "output_type": "stream",
     "text": [
      "Mean Cross Validation Score for Naive Bayes Classifier: 67.79%\n"
     ]
    }
   ],
   "source": [
    "nb_clf = GaussianNB()\n",
    "mean_nb_cv_score = cross_val_score(nb_clf, features, target, cv = 3).mean()\n",
    "print(\"Mean Cross Validation Score for Naive Bayes Classifier: {:.4}%\".format(mean_nb_cv_score * 100))"
   ]
  },
  {
   "cell_type": "markdown",
   "metadata": {},
   "source": [
    "## Random Forest"
   ]
  },
  {
   "cell_type": "code",
   "execution_count": 161,
   "metadata": {},
   "outputs": [
    {
     "name": "stdout",
     "output_type": "stream",
     "text": [
      "Mean Cross Validation Score for Random Forest Classifier: 75.13%\n",
      "Mean Out-of-Bag Score for Random Forest Classifier: 76.7%\n"
     ]
    }
   ],
   "source": [
    "rf_clf = RandomForestClassifier(n_estimators = 100, random_state = 42, oob_score = True)\n",
    "mean_rf_cv_score = cross_val_score(rf_clf, features, target, cv = 3).mean()\n",
    "print(\"Mean Cross Validation Score for Random Forest Classifier: {:.4}%\".format(mean_rf_cv_score * 100))\n",
    "\n",
    "rf_clf.fit(features, target)\n",
    "print(\"Mean Out-of-Bag Score for Random Forest Classifier: {:.4}%\".format(rf_clf.oob_score_ * 100))"
   ]
  },
  {
   "cell_type": "code",
   "execution_count": 162,
   "metadata": {},
   "outputs": [],
   "source": [
    "rf_param_grid = {\n",
    "'n_estimators': [50, 100, 200],\n",
    "'criterion': ['gini', 'entropy'],\n",
    "'max_depth': [5, 10, None] ,\n",
    "'min_samples_split': [5, 10]  ,     \n",
    "'min_samples_leaf': [3, 6]\n",
    "}"
   ]
  },
  {
   "cell_type": "code",
   "execution_count": 164,
   "metadata": {},
   "outputs": [
    {
     "name": "stdout",
     "output_type": "stream",
     "text": [
      "Testing Accuracy: 75.27%\n",
      "Total Runtime for Grid Search on Random Forest Classifier: 1.903e+03 seconds\n",
      "\n",
      "Optimal Parameters: {'criterion': 'entropy', 'max_depth': None, 'min_samples_leaf': 3, 'min_samples_split': 5, 'n_estimators': 100}\n"
     ]
    }
   ],
   "source": [
    "import time\n",
    "start = time.time()\n",
    "rf_grid_search = GridSearchCV(rf_clf, rf_param_grid, cv = 3)\n",
    "rf_grid_search.fit( features, target)\n",
    "\n",
    "print(\"Testing Accuracy: {:.4}%\".format(rf_grid_search.best_score_ * 100))\n",
    "print(\"Total Runtime for Grid Search on Random Forest Classifier: {:.4} seconds\".format(time.time() - start))\n",
    "print(\"\")\n",
    "print(\"Optimal Parameters: {}\".format(rf_grid_search.best_params_))"
   ]
  },
  {
   "cell_type": "markdown",
   "metadata": {},
   "source": [
    "Using Random Search approach from https://towardsdatascience.com/hyperparameter-tuning-the-random-forest-in-python-using-scikit-learn-28d2aa77dd74"
   ]
  },
  {
   "cell_type": "code",
   "execution_count": 165,
   "metadata": {},
   "outputs": [
    {
     "name": "stdout",
     "output_type": "stream",
     "text": [
      "{'n_estimators': [200, 400, 600, 800, 1000, 1200, 1400, 1600, 1800, 2000], 'max_features': ['auto', 'sqrt'], 'max_depth': [10, 20, 30, 40, 50, 60, 70, 80, 90, 100, 110, None], 'min_samples_split': [2, 5, 10], 'min_samples_leaf': [1, 2, 4], 'bootstrap': [True, False]}\n"
     ]
    }
   ],
   "source": [
    "from sklearn.model_selection import RandomizedSearchCV\n",
    "\n",
    "# Number of trees in random forest\n",
    "n_estimators = [int(x) for x in np.linspace(start = 200, stop = 2000, num = 10)]\n",
    "# Number of features to consider at every split\n",
    "max_features = ['auto', 'sqrt']\n",
    "# Maximum number of levels in tree\n",
    "max_depth = [int(x) for x in np.linspace(10, 110, num = 11)]\n",
    "max_depth.append(None)\n",
    "# Minimum number of samples required to split a node\n",
    "min_samples_split = [2, 5, 10]\n",
    "# Minimum number of samples required at each leaf node\n",
    "min_samples_leaf = [1, 2, 4]\n",
    "# Method of selecting samples for training each tree\n",
    "bootstrap = [True, False]\n",
    "# Create the random grid\n",
    "random_grid = {'n_estimators': n_estimators,\n",
    "               'max_features': max_features,\n",
    "               'max_depth': max_depth,\n",
    "               'min_samples_split': min_samples_split,\n",
    "               'min_samples_leaf': min_samples_leaf,\n",
    "               'bootstrap': bootstrap}\n",
    "\n",
    "print(random_grid)"
   ]
  },
  {
   "cell_type": "code",
   "execution_count": 167,
   "metadata": {},
   "outputs": [
    {
     "name": "stdout",
     "output_type": "stream",
     "text": [
      "Fitting 3 folds for each of 100 candidates, totalling 300 fits\n"
     ]
    },
    {
     "name": "stderr",
     "output_type": "stream",
     "text": [
      "[Parallel(n_jobs=-1)]: Using backend LokyBackend with 8 concurrent workers.\n",
      "[Parallel(n_jobs=-1)]: Done  25 tasks      | elapsed: 13.1min\n",
      "[Parallel(n_jobs=-1)]: Done 146 tasks      | elapsed: 73.4min\n",
      "[Parallel(n_jobs=-1)]: Done 300 out of 300 | elapsed: 131.6min finished\n"
     ]
    },
    {
     "name": "stdout",
     "output_type": "stream",
     "text": [
      "Testing Accuracy: 75.45%\n",
      "Total Runtime for Grid Search on Random Forest Classifier: 1.085e+04 seconds\n",
      "\n",
      "Optimal Parameters: {'n_estimators': 600, 'min_samples_split': 10, 'min_samples_leaf': 1, 'max_features': 'sqrt', 'max_depth': 40, 'bootstrap': False}\n"
     ]
    }
   ],
   "source": [
    "# Use the random grid to search for best hyperparameters\n",
    "# First create the base model to tune\n",
    "rf = RandomForestClassifier()\n",
    "# Random search of parameters, using 3 fold cross validation, \n",
    "# search across 100 different combinations, and use all available cores\n",
    "rf_random = RandomizedSearchCV(estimator = rf, param_distributions = random_grid, n_iter = 100, cv = 3, verbose=2, random_state=42, n_jobs = -1)\n",
    "rf_random.fit(features, target)\n",
    "\n",
    "print(\"Testing Accuracy: {:.4}%\".format(rf_random.best_score_ * 100))\n",
    "print(\"Total Runtime for Grid Search on Random Forest Classifier: {:.4} seconds\".format(time.time() - start))\n",
    "print(\"\")\n",
    "print(\"Optimal Parameters: {}\".format(rf_random.best_params_))"
   ]
  },
  {
   "cell_type": "code",
   "execution_count": null,
   "metadata": {},
   "outputs": [],
   "source": [
    "def plot_feature_importances(model):\n",
    "    n_features = data_train.shape[1]\n",
    "    plt.figure(figsize=(8,8))\n",
    "    plt.barh(range(n_features), model.feature_importances_, align='center') \n",
    "    plt.yticks(np.arange(n_features), data_train.columns.values) \n",
    "    plt.xlabel(\"Feature importance\")\n",
    "    plt.ylabel(\"Feature\")"
   ]
  },
  {
   "cell_type": "code",
   "execution_count": null,
   "metadata": {},
   "outputs": [],
   "source": [
    "rf_tree_1 = forest_2.estimators_[0]\n",
    "plot_feature_importances(rf_tree_1)"
   ]
  },
  {
   "cell_type": "markdown",
   "metadata": {},
   "source": [
    "## AdaBoost"
   ]
  },
  {
   "cell_type": "code",
   "execution_count": 173,
   "metadata": {},
   "outputs": [
    {
     "name": "stdout",
     "output_type": "stream",
     "text": [
      "Mean Cross Validation Score for AdaBoost Decision Tree Classifier: 70.07%\n"
     ]
    }
   ],
   "source": [
    "adb_clf = AdaBoostClassifier(base_estimator = DecisionTreeClassifier(), random_state = 42)\n",
    "mean_adb_cv_score = cross_val_score(adb_clf, features, target, cv = 3).mean()\n",
    "print(\"Mean Cross Validation Score for AdaBoost Decision Tree Classifier: {:.4}%\".format(mean_adb_cv_score * 100))"
   ]
  },
  {
   "cell_type": "code",
   "execution_count": null,
   "metadata": {},
   "outputs": [],
   "source": []
  },
  {
   "cell_type": "code",
   "execution_count": null,
   "metadata": {},
   "outputs": [],
   "source": []
  },
  {
   "cell_type": "code",
   "execution_count": null,
   "metadata": {},
   "outputs": [],
   "source": []
  },
  {
   "cell_type": "code",
   "execution_count": null,
   "metadata": {},
   "outputs": [],
   "source": []
  },
  {
   "cell_type": "code",
   "execution_count": null,
   "metadata": {},
   "outputs": [],
   "source": []
  },
  {
   "cell_type": "code",
   "execution_count": null,
   "metadata": {},
   "outputs": [],
   "source": []
  },
  {
   "cell_type": "code",
   "execution_count": null,
   "metadata": {},
   "outputs": [],
   "source": []
  },
  {
   "cell_type": "code",
   "execution_count": null,
   "metadata": {},
   "outputs": [],
   "source": []
  }
 ],
 "metadata": {
  "kernelspec": {
   "display_name": "Python 3",
   "language": "python",
   "name": "python3"
  },
  "language_info": {
   "codemirror_mode": {
    "name": "ipython",
    "version": 3
   },
   "file_extension": ".py",
   "mimetype": "text/x-python",
   "name": "python",
   "nbconvert_exporter": "python",
   "pygments_lexer": "ipython3",
   "version": "3.7.0"
  }
 },
 "nbformat": 4,
 "nbformat_minor": 2
}
